{
 "cells": [
  {
   "cell_type": "markdown",
   "metadata": {
    "tags": []
   },
   "source": [
    "# Fare Play: An Unraveling of the Mystery of Flight Prices"
   ]
  },
  {
   "cell_type": "markdown",
   "metadata": {},
   "source": [
    "by: Laundry Houston, Mark Dunlea Tate, Anthony Amadasun\n",
    " "
   ]
  },
  {
   "cell_type": "markdown",
   "metadata": {},
   "source": [
    "---\n",
    "\n",
    "### Introduction"
   ]
  },
  {
   "cell_type": "markdown",
   "metadata": {},
   "source": [
    "In this section, we will employ the linear regression algorithm to gain deeper insights into our travel data. Our flight begins with an exploration of feature engineering, where we enhance the dataset to better suit our modeling needs. Following that, we delve into the intricacies of the linear regression algorithm, shedding light on its application and significance in our context.\n",
    "\n",
    "The subsequent steps involve the training of different model on the prepared data, allowing us to uncover patterns and relationships within the features. Moreover, the best model towards predicting the most cost-effective flight options from a specific airport. Through model evaluation, we will assess the performance metrics, providing a comprehensive overview of how well our model captures the nuances of the dataset.\n",
    "\n",
    "This section culminates in a detailed summary of our findings and the unveiling of key insights derived from the modeling process. Additionally, we will touch upon the potential for future enhancements, considering the exploration of advanced techniques such as time series models, specifically Recurrent Neural Networks (RNNs)."
   ]
  },
  {
   "cell_type": "markdown",
   "metadata": {},
   "source": [
    "**Imports/Load datasets**"
   ]
  },
  {
   "cell_type": "code",
   "execution_count": 1,
   "metadata": {
    "tags": []
   },
   "outputs": [],
   "source": [
    "import pandas as pd\n",
    "import numpy as np\n",
    "import matplotlib.pyplot as plt\n",
    "import seaborn as sns\n",
    "\n",
    "from sklearn.metrics import mean_squared_error\n",
    "from sklearn.linear_model import LinearRegression, LogisticRegression, RidgeCV, LassoCV, Lasso, Ridge \n",
    "from sklearn.preprocessing import PolynomialFeatures, StandardScaler\n",
    "from sklearn.model_selection import train_test_split, GridSearchCV, cross_val_score, KFold\n",
    "from sklearn.ensemble import RandomForestRegressor\n",
    "from sklearn.tree import DecisionTreeRegressor, plot_tree, DecisionTreeClassifier\n",
    "from xgboost import XGBRegressor\n",
    "\n",
    "import pickle\n",
    "\n",
    "# Set random seed for reproducibility\n",
    "np.random.seed(42)"
   ]
  },
  {
   "cell_type": "code",
   "execution_count": 2,
   "metadata": {
    "tags": []
   },
   "outputs": [
    {
     "data": {
      "text/html": [
       "<div>\n",
       "<style scoped>\n",
       "    .dataframe tbody tr th:only-of-type {\n",
       "        vertical-align: middle;\n",
       "    }\n",
       "\n",
       "    .dataframe tbody tr th {\n",
       "        vertical-align: top;\n",
       "    }\n",
       "\n",
       "    .dataframe thead th {\n",
       "        text-align: right;\n",
       "    }\n",
       "</style>\n",
       "<table border=\"1\" class=\"dataframe\">\n",
       "  <thead>\n",
       "    <tr style=\"text-align: right;\">\n",
       "      <th></th>\n",
       "      <th>airline</th>\n",
       "      <th>flight</th>\n",
       "      <th>origin</th>\n",
       "      <th>departure_time</th>\n",
       "      <th>stops</th>\n",
       "      <th>arrival_time</th>\n",
       "      <th>class</th>\n",
       "      <th>duration</th>\n",
       "      <th>price</th>\n",
       "      <th>duration_range</th>\n",
       "      <th>departure_time_encoded</th>\n",
       "      <th>duration_range_encoded</th>\n",
       "      <th>destination_Bangalore</th>\n",
       "      <th>destination_Chennai</th>\n",
       "      <th>destination_Delhi</th>\n",
       "      <th>destination_Hyderabad</th>\n",
       "      <th>destination_Kolkata</th>\n",
       "      <th>destination_Mumbai</th>\n",
       "    </tr>\n",
       "  </thead>\n",
       "  <tbody>\n",
       "    <tr>\n",
       "      <th>0</th>\n",
       "      <td>SpiceJet</td>\n",
       "      <td>SG-8709</td>\n",
       "      <td>Delhi</td>\n",
       "      <td>Evening</td>\n",
       "      <td>0</td>\n",
       "      <td>Night</td>\n",
       "      <td>0</td>\n",
       "      <td>130</td>\n",
       "      <td>71.44</td>\n",
       "      <td>Short</td>\n",
       "      <td>2</td>\n",
       "      <td>0</td>\n",
       "      <td>0</td>\n",
       "      <td>0</td>\n",
       "      <td>0</td>\n",
       "      <td>0</td>\n",
       "      <td>0</td>\n",
       "      <td>1</td>\n",
       "    </tr>\n",
       "    <tr>\n",
       "      <th>1</th>\n",
       "      <td>SpiceJet</td>\n",
       "      <td>SG-8157</td>\n",
       "      <td>Delhi</td>\n",
       "      <td>Early_Morning</td>\n",
       "      <td>0</td>\n",
       "      <td>Morning</td>\n",
       "      <td>0</td>\n",
       "      <td>140</td>\n",
       "      <td>71.44</td>\n",
       "      <td>Short</td>\n",
       "      <td>1</td>\n",
       "      <td>0</td>\n",
       "      <td>0</td>\n",
       "      <td>0</td>\n",
       "      <td>0</td>\n",
       "      <td>0</td>\n",
       "      <td>0</td>\n",
       "      <td>1</td>\n",
       "    </tr>\n",
       "    <tr>\n",
       "      <th>2</th>\n",
       "      <td>AirAsia</td>\n",
       "      <td>I5-764</td>\n",
       "      <td>Delhi</td>\n",
       "      <td>Early_Morning</td>\n",
       "      <td>0</td>\n",
       "      <td>Early_Morning</td>\n",
       "      <td>0</td>\n",
       "      <td>130</td>\n",
       "      <td>71.47</td>\n",
       "      <td>Short</td>\n",
       "      <td>1</td>\n",
       "      <td>0</td>\n",
       "      <td>0</td>\n",
       "      <td>0</td>\n",
       "      <td>0</td>\n",
       "      <td>0</td>\n",
       "      <td>0</td>\n",
       "      <td>1</td>\n",
       "    </tr>\n",
       "    <tr>\n",
       "      <th>3</th>\n",
       "      <td>Vistara</td>\n",
       "      <td>UK-995</td>\n",
       "      <td>Delhi</td>\n",
       "      <td>Morning</td>\n",
       "      <td>0</td>\n",
       "      <td>Afternoon</td>\n",
       "      <td>0</td>\n",
       "      <td>135</td>\n",
       "      <td>71.46</td>\n",
       "      <td>Short</td>\n",
       "      <td>4</td>\n",
       "      <td>0</td>\n",
       "      <td>0</td>\n",
       "      <td>0</td>\n",
       "      <td>0</td>\n",
       "      <td>0</td>\n",
       "      <td>0</td>\n",
       "      <td>1</td>\n",
       "    </tr>\n",
       "    <tr>\n",
       "      <th>4</th>\n",
       "      <td>Vistara</td>\n",
       "      <td>UK-963</td>\n",
       "      <td>Delhi</td>\n",
       "      <td>Morning</td>\n",
       "      <td>0</td>\n",
       "      <td>Morning</td>\n",
       "      <td>0</td>\n",
       "      <td>140</td>\n",
       "      <td>71.46</td>\n",
       "      <td>Short</td>\n",
       "      <td>4</td>\n",
       "      <td>0</td>\n",
       "      <td>0</td>\n",
       "      <td>0</td>\n",
       "      <td>0</td>\n",
       "      <td>0</td>\n",
       "      <td>0</td>\n",
       "      <td>1</td>\n",
       "    </tr>\n",
       "  </tbody>\n",
       "</table>\n",
       "</div>"
      ],
      "text/plain": [
       "    airline   flight origin departure_time  stops   arrival_time  class  \\\n",
       "0  SpiceJet  SG-8709  Delhi        Evening      0          Night      0   \n",
       "1  SpiceJet  SG-8157  Delhi  Early_Morning      0        Morning      0   \n",
       "2   AirAsia   I5-764  Delhi  Early_Morning      0  Early_Morning      0   \n",
       "3   Vistara   UK-995  Delhi        Morning      0      Afternoon      0   \n",
       "4   Vistara   UK-963  Delhi        Morning      0        Morning      0   \n",
       "\n",
       "   duration  price duration_range  departure_time_encoded  \\\n",
       "0       130  71.44          Short                       2   \n",
       "1       140  71.44          Short                       1   \n",
       "2       130  71.47          Short                       1   \n",
       "3       135  71.46          Short                       4   \n",
       "4       140  71.46          Short                       4   \n",
       "\n",
       "   duration_range_encoded  destination_Bangalore  destination_Chennai  \\\n",
       "0                       0                      0                    0   \n",
       "1                       0                      0                    0   \n",
       "2                       0                      0                    0   \n",
       "3                       0                      0                    0   \n",
       "4                       0                      0                    0   \n",
       "\n",
       "   destination_Delhi  destination_Hyderabad  destination_Kolkata  \\\n",
       "0                  0                      0                    0   \n",
       "1                  0                      0                    0   \n",
       "2                  0                      0                    0   \n",
       "3                  0                      0                    0   \n",
       "4                  0                      0                    0   \n",
       "\n",
       "   destination_Mumbai  \n",
       "0                   1  \n",
       "1                   1  \n",
       "2                   1  \n",
       "3                   1  \n",
       "4                   1  "
      ]
     },
     "execution_count": 2,
     "metadata": {},
     "output_type": "execute_result"
    }
   ],
   "source": [
    "df = pd.read_csv('../data/clean_dataset.csv')\n",
    "df.head()"
   ]
  },
  {
   "cell_type": "markdown",
   "metadata": {},
   "source": [
    "---\n",
    "\n",
    "### 2.1 Feature Engineering"
   ]
  },
  {
   "cell_type": "code",
   "execution_count": 3,
   "metadata": {
    "tags": []
   },
   "outputs": [
    {
     "data": {
      "text/plain": [
       "(300153, 18)"
      ]
     },
     "execution_count": 3,
     "metadata": {},
     "output_type": "execute_result"
    }
   ],
   "source": [
    "df.shape"
   ]
  },
  {
   "cell_type": "code",
   "execution_count": 4,
   "metadata": {
    "tags": []
   },
   "outputs": [
    {
     "data": {
      "text/plain": [
       "airline                    object\n",
       "flight                     object\n",
       "origin                     object\n",
       "departure_time             object\n",
       "stops                       int64\n",
       "arrival_time               object\n",
       "class                       int64\n",
       "duration                    int64\n",
       "price                     float64\n",
       "duration_range             object\n",
       "departure_time_encoded      int64\n",
       "duration_range_encoded      int64\n",
       "destination_Bangalore       int64\n",
       "destination_Chennai         int64\n",
       "destination_Delhi           int64\n",
       "destination_Hyderabad       int64\n",
       "destination_Kolkata         int64\n",
       "destination_Mumbai          int64\n",
       "dtype: object"
      ]
     },
     "execution_count": 4,
     "metadata": {},
     "output_type": "execute_result"
    }
   ],
   "source": [
    "df.dtypes"
   ]
  },
  {
   "cell_type": "code",
   "execution_count": 5,
   "metadata": {
    "tags": []
   },
   "outputs": [],
   "source": [
    "#additional one hot encoding\n",
    "ohe_columns = ['airline', 'origin', 'arrival_time', 'departure_time', 'duration_range']\n",
    "ohe_df = pd.get_dummies(df, columns=ohe_columns, prefix=ohe_columns, dtype=int, drop_first=True)"
   ]
  },
  {
   "cell_type": "code",
   "execution_count": 6,
   "metadata": {
    "tags": []
   },
   "outputs": [
    {
     "data": {
      "text/plain": [
       "(300153, 36)"
      ]
     },
     "execution_count": 6,
     "metadata": {},
     "output_type": "execute_result"
    }
   ],
   "source": [
    "ohe_df.shape"
   ]
  },
  {
   "cell_type": "code",
   "execution_count": 7,
   "metadata": {},
   "outputs": [
    {
     "data": {
      "text/plain": [
       "Index(['flight', 'stops', 'class', 'duration', 'price',\n",
       "       'departure_time_encoded', 'duration_range_encoded',\n",
       "       'destination_Bangalore', 'destination_Chennai', 'destination_Delhi',\n",
       "       'destination_Hyderabad', 'destination_Kolkata', 'destination_Mumbai',\n",
       "       'airline_Air_India', 'airline_GO_FIRST', 'airline_Indigo',\n",
       "       'airline_SpiceJet', 'airline_Vistara', 'origin_Chennai', 'origin_Delhi',\n",
       "       'origin_Hyderabad', 'origin_Kolkata', 'origin_Mumbai',\n",
       "       'arrival_time_Early_Morning', 'arrival_time_Evening',\n",
       "       'arrival_time_Late_Night', 'arrival_time_Morning', 'arrival_time_Night',\n",
       "       'departure_time_Early_Morning', 'departure_time_Evening',\n",
       "       'departure_time_Late_Night', 'departure_time_Morning',\n",
       "       'departure_time_Night', 'duration_range_Medium', 'duration_range_Short',\n",
       "       'duration_range_Very Long'],\n",
       "      dtype='object')"
      ]
     },
     "execution_count": 7,
     "metadata": {},
     "output_type": "execute_result"
    }
   ],
   "source": [
    "ohe_df.columns"
   ]
  },
  {
   "cell_type": "markdown",
   "metadata": {},
   "source": [
    "---\n",
    "\n",
    "### 2.2 Linear Regression Algorithm"
   ]
  },
  {
   "cell_type": "code",
   "execution_count": 8,
   "metadata": {
    "tags": []
   },
   "outputs": [],
   "source": [
    "X = ohe_df.drop(columns=['flight', 'price'])#'departure_time', 'duration_range'\n",
    "y = ohe_df['price']"
   ]
  },
  {
   "cell_type": "code",
   "execution_count": 9,
   "metadata": {
    "tags": []
   },
   "outputs": [],
   "source": [
    "poly = PolynomialFeatures()\n",
    "X_poly = poly.fit_transform(X)"
   ]
  },
  {
   "cell_type": "code",
   "execution_count": 10,
   "metadata": {
    "tags": []
   },
   "outputs": [],
   "source": [
    "X_train, X_test, y_train, y_test = train_test_split(X_poly, y, \n",
    "                                                    random_state=42)"
   ]
  },
  {
   "cell_type": "code",
   "execution_count": 11,
   "metadata": {
    "tags": []
   },
   "outputs": [
    {
     "data": {
      "text/html": [
       "<style>#sk-container-id-1 {color: black;}#sk-container-id-1 pre{padding: 0;}#sk-container-id-1 div.sk-toggleable {background-color: white;}#sk-container-id-1 label.sk-toggleable__label {cursor: pointer;display: block;width: 100%;margin-bottom: 0;padding: 0.3em;box-sizing: border-box;text-align: center;}#sk-container-id-1 label.sk-toggleable__label-arrow:before {content: \"▸\";float: left;margin-right: 0.25em;color: #696969;}#sk-container-id-1 label.sk-toggleable__label-arrow:hover:before {color: black;}#sk-container-id-1 div.sk-estimator:hover label.sk-toggleable__label-arrow:before {color: black;}#sk-container-id-1 div.sk-toggleable__content {max-height: 0;max-width: 0;overflow: hidden;text-align: left;background-color: #f0f8ff;}#sk-container-id-1 div.sk-toggleable__content pre {margin: 0.2em;color: black;border-radius: 0.25em;background-color: #f0f8ff;}#sk-container-id-1 input.sk-toggleable__control:checked~div.sk-toggleable__content {max-height: 200px;max-width: 100%;overflow: auto;}#sk-container-id-1 input.sk-toggleable__control:checked~label.sk-toggleable__label-arrow:before {content: \"▾\";}#sk-container-id-1 div.sk-estimator input.sk-toggleable__control:checked~label.sk-toggleable__label {background-color: #d4ebff;}#sk-container-id-1 div.sk-label input.sk-toggleable__control:checked~label.sk-toggleable__label {background-color: #d4ebff;}#sk-container-id-1 input.sk-hidden--visually {border: 0;clip: rect(1px 1px 1px 1px);clip: rect(1px, 1px, 1px, 1px);height: 1px;margin: -1px;overflow: hidden;padding: 0;position: absolute;width: 1px;}#sk-container-id-1 div.sk-estimator {font-family: monospace;background-color: #f0f8ff;border: 1px dotted black;border-radius: 0.25em;box-sizing: border-box;margin-bottom: 0.5em;}#sk-container-id-1 div.sk-estimator:hover {background-color: #d4ebff;}#sk-container-id-1 div.sk-parallel-item::after {content: \"\";width: 100%;border-bottom: 1px solid gray;flex-grow: 1;}#sk-container-id-1 div.sk-label:hover label.sk-toggleable__label {background-color: #d4ebff;}#sk-container-id-1 div.sk-serial::before {content: \"\";position: absolute;border-left: 1px solid gray;box-sizing: border-box;top: 0;bottom: 0;left: 50%;z-index: 0;}#sk-container-id-1 div.sk-serial {display: flex;flex-direction: column;align-items: center;background-color: white;padding-right: 0.2em;padding-left: 0.2em;position: relative;}#sk-container-id-1 div.sk-item {position: relative;z-index: 1;}#sk-container-id-1 div.sk-parallel {display: flex;align-items: stretch;justify-content: center;background-color: white;position: relative;}#sk-container-id-1 div.sk-item::before, #sk-container-id-1 div.sk-parallel-item::before {content: \"\";position: absolute;border-left: 1px solid gray;box-sizing: border-box;top: 0;bottom: 0;left: 50%;z-index: -1;}#sk-container-id-1 div.sk-parallel-item {display: flex;flex-direction: column;z-index: 1;position: relative;background-color: white;}#sk-container-id-1 div.sk-parallel-item:first-child::after {align-self: flex-end;width: 50%;}#sk-container-id-1 div.sk-parallel-item:last-child::after {align-self: flex-start;width: 50%;}#sk-container-id-1 div.sk-parallel-item:only-child::after {width: 0;}#sk-container-id-1 div.sk-dashed-wrapped {border: 1px dashed gray;margin: 0 0.4em 0.5em 0.4em;box-sizing: border-box;padding-bottom: 0.4em;background-color: white;}#sk-container-id-1 div.sk-label label {font-family: monospace;font-weight: bold;display: inline-block;line-height: 1.2em;}#sk-container-id-1 div.sk-label-container {text-align: center;}#sk-container-id-1 div.sk-container {/* jupyter's `normalize.less` sets `[hidden] { display: none; }` but bootstrap.min.css set `[hidden] { display: none !important; }` so we also need the `!important` here to be able to override the default hidden behavior on the sphinx rendered scikit-learn.org. See: https://github.com/scikit-learn/scikit-learn/issues/21755 */display: inline-block !important;position: relative;}#sk-container-id-1 div.sk-text-repr-fallback {display: none;}</style><div id=\"sk-container-id-1\" class=\"sk-top-container\"><div class=\"sk-text-repr-fallback\"><pre>LinearRegression()</pre><b>In a Jupyter environment, please rerun this cell to show the HTML representation or trust the notebook. <br />On GitHub, the HTML representation is unable to render, please try loading this page with nbviewer.org.</b></div><div class=\"sk-container\" hidden><div class=\"sk-item\"><div class=\"sk-estimator sk-toggleable\"><input class=\"sk-toggleable__control sk-hidden--visually\" id=\"sk-estimator-id-1\" type=\"checkbox\" checked><label for=\"sk-estimator-id-1\" class=\"sk-toggleable__label sk-toggleable__label-arrow\">LinearRegression</label><div class=\"sk-toggleable__content\"><pre>LinearRegression()</pre></div></div></div></div></div>"
      ],
      "text/plain": [
       "LinearRegression()"
      ]
     },
     "execution_count": 11,
     "metadata": {},
     "output_type": "execute_result"
    }
   ],
   "source": [
    "lr = LinearRegression()\n",
    "lr.fit(X_train, y_train)"
   ]
  },
  {
   "cell_type": "code",
   "execution_count": 12,
   "metadata": {
    "tags": []
   },
   "outputs": [
    {
     "name": "stdout",
     "output_type": "stream",
     "text": [
      "Training Score: 0.9428\n",
      "Testing Score: 0.9420\n",
      "RMSE Score: 65.63709916908026\n"
     ]
    }
   ],
   "source": [
    "print(f\"Training Score: {lr.score(X_train, y_train):.4f}\")\n",
    "print(f\"Testing Score: {lr.score(X_test, y_test):.4f}\")\n",
    "\n",
    "y_poly_pred = lr.predict(X_test)\n",
    "\n",
    "print(f\"RMSE Score: {np.sqrt(mean_squared_error(y_test, y_poly_pred))}\")"
   ]
  },
  {
   "cell_type": "code",
   "execution_count": 13,
   "metadata": {
    "tags": []
   },
   "outputs": [],
   "source": [
    "with open('../model/linear_regression_model.pkl', 'wb') as f:\n",
    "    pickle.dump(lr, f)"
   ]
  },
  {
   "cell_type": "markdown",
   "metadata": {},
   "source": [
    "**Interpretation:**\n",
    "\n",
    "The provided results suggest that the model performs well on both the training and testing sets, indicating that the model explains a significant portion of the variability in flight prices based on the selected features. The Training Score of 0.9428 shows that the model fits the training data welll and the Testing Score of 0.9420 shows that the model generalizes well to new, unseen data. The lower RMSE score of 65.63 indicates that the model predictions are close to the actual prices and suggest that the selected features, preprocessing, and cleaning methods contribute to accurate predictions of flight prices.\n",
    "\n",
    "\n",
    "\n"
   ]
  },
  {
   "cell_type": "markdown",
   "metadata": {},
   "source": [
    "---\n",
    "\n",
    "### 2.3 Model Training"
   ]
  },
  {
   "cell_type": "markdown",
   "metadata": {},
   "source": [
    "**Random Forest**"
   ]
  },
  {
   "cell_type": "code",
   "execution_count": 14,
   "metadata": {
    "tags": []
   },
   "outputs": [
    {
     "data": {
      "text/html": [
       "<style>#sk-container-id-2 {color: black;}#sk-container-id-2 pre{padding: 0;}#sk-container-id-2 div.sk-toggleable {background-color: white;}#sk-container-id-2 label.sk-toggleable__label {cursor: pointer;display: block;width: 100%;margin-bottom: 0;padding: 0.3em;box-sizing: border-box;text-align: center;}#sk-container-id-2 label.sk-toggleable__label-arrow:before {content: \"▸\";float: left;margin-right: 0.25em;color: #696969;}#sk-container-id-2 label.sk-toggleable__label-arrow:hover:before {color: black;}#sk-container-id-2 div.sk-estimator:hover label.sk-toggleable__label-arrow:before {color: black;}#sk-container-id-2 div.sk-toggleable__content {max-height: 0;max-width: 0;overflow: hidden;text-align: left;background-color: #f0f8ff;}#sk-container-id-2 div.sk-toggleable__content pre {margin: 0.2em;color: black;border-radius: 0.25em;background-color: #f0f8ff;}#sk-container-id-2 input.sk-toggleable__control:checked~div.sk-toggleable__content {max-height: 200px;max-width: 100%;overflow: auto;}#sk-container-id-2 input.sk-toggleable__control:checked~label.sk-toggleable__label-arrow:before {content: \"▾\";}#sk-container-id-2 div.sk-estimator input.sk-toggleable__control:checked~label.sk-toggleable__label {background-color: #d4ebff;}#sk-container-id-2 div.sk-label input.sk-toggleable__control:checked~label.sk-toggleable__label {background-color: #d4ebff;}#sk-container-id-2 input.sk-hidden--visually {border: 0;clip: rect(1px 1px 1px 1px);clip: rect(1px, 1px, 1px, 1px);height: 1px;margin: -1px;overflow: hidden;padding: 0;position: absolute;width: 1px;}#sk-container-id-2 div.sk-estimator {font-family: monospace;background-color: #f0f8ff;border: 1px dotted black;border-radius: 0.25em;box-sizing: border-box;margin-bottom: 0.5em;}#sk-container-id-2 div.sk-estimator:hover {background-color: #d4ebff;}#sk-container-id-2 div.sk-parallel-item::after {content: \"\";width: 100%;border-bottom: 1px solid gray;flex-grow: 1;}#sk-container-id-2 div.sk-label:hover label.sk-toggleable__label {background-color: #d4ebff;}#sk-container-id-2 div.sk-serial::before {content: \"\";position: absolute;border-left: 1px solid gray;box-sizing: border-box;top: 0;bottom: 0;left: 50%;z-index: 0;}#sk-container-id-2 div.sk-serial {display: flex;flex-direction: column;align-items: center;background-color: white;padding-right: 0.2em;padding-left: 0.2em;position: relative;}#sk-container-id-2 div.sk-item {position: relative;z-index: 1;}#sk-container-id-2 div.sk-parallel {display: flex;align-items: stretch;justify-content: center;background-color: white;position: relative;}#sk-container-id-2 div.sk-item::before, #sk-container-id-2 div.sk-parallel-item::before {content: \"\";position: absolute;border-left: 1px solid gray;box-sizing: border-box;top: 0;bottom: 0;left: 50%;z-index: -1;}#sk-container-id-2 div.sk-parallel-item {display: flex;flex-direction: column;z-index: 1;position: relative;background-color: white;}#sk-container-id-2 div.sk-parallel-item:first-child::after {align-self: flex-end;width: 50%;}#sk-container-id-2 div.sk-parallel-item:last-child::after {align-self: flex-start;width: 50%;}#sk-container-id-2 div.sk-parallel-item:only-child::after {width: 0;}#sk-container-id-2 div.sk-dashed-wrapped {border: 1px dashed gray;margin: 0 0.4em 0.5em 0.4em;box-sizing: border-box;padding-bottom: 0.4em;background-color: white;}#sk-container-id-2 div.sk-label label {font-family: monospace;font-weight: bold;display: inline-block;line-height: 1.2em;}#sk-container-id-2 div.sk-label-container {text-align: center;}#sk-container-id-2 div.sk-container {/* jupyter's `normalize.less` sets `[hidden] { display: none; }` but bootstrap.min.css set `[hidden] { display: none !important; }` so we also need the `!important` here to be able to override the default hidden behavior on the sphinx rendered scikit-learn.org. See: https://github.com/scikit-learn/scikit-learn/issues/21755 */display: inline-block !important;position: relative;}#sk-container-id-2 div.sk-text-repr-fallback {display: none;}</style><div id=\"sk-container-id-2\" class=\"sk-top-container\"><div class=\"sk-text-repr-fallback\"><pre>RandomForestRegressor(n_jobs=-1, random_state=42)</pre><b>In a Jupyter environment, please rerun this cell to show the HTML representation or trust the notebook. <br />On GitHub, the HTML representation is unable to render, please try loading this page with nbviewer.org.</b></div><div class=\"sk-container\" hidden><div class=\"sk-item\"><div class=\"sk-estimator sk-toggleable\"><input class=\"sk-toggleable__control sk-hidden--visually\" id=\"sk-estimator-id-2\" type=\"checkbox\" checked><label for=\"sk-estimator-id-2\" class=\"sk-toggleable__label sk-toggleable__label-arrow\">RandomForestRegressor</label><div class=\"sk-toggleable__content\"><pre>RandomForestRegressor(n_jobs=-1, random_state=42)</pre></div></div></div></div></div>"
      ],
      "text/plain": [
       "RandomForestRegressor(n_jobs=-1, random_state=42)"
      ]
     },
     "execution_count": 14,
     "metadata": {},
     "output_type": "execute_result"
    }
   ],
   "source": [
    "rf = RandomForestRegressor(n_estimators=100, random_state=42, n_jobs=-1)\n",
    "rf.fit(X_train, y_train)"
   ]
  },
  {
   "cell_type": "code",
   "execution_count": 15,
   "metadata": {
    "tags": []
   },
   "outputs": [
    {
     "name": "stdout",
     "output_type": "stream",
     "text": [
      "Training Score: 0.9793\n",
      "Testing Score: 0.9754\n",
      "RMSE Score: 42.754946001290214\n"
     ]
    }
   ],
   "source": [
    "print(f\"Training Score: {rf.score(X_train, y_train):.4f}\")\n",
    "print(f\"Testing Score: {rf.score(X_test, y_test):.4f}\")\n",
    "\n",
    "y_pred = rf.predict(X_test)\n",
    "\n",
    "print(f\"RMSE Score: {np.sqrt(mean_squared_error(y_test, y_pred))}\")"
   ]
  },
  {
   "cell_type": "code",
   "execution_count": 16,
   "metadata": {
    "tags": []
   },
   "outputs": [],
   "source": [
    "# param_grid = {\n",
    "#     'n_estimators': [50, 100],\n",
    "#     'max_depth': [None, 10],\n",
    "#     'min_samples_split': [2, 5],\n",
    "#     'min_samples_leaf': [1, 2]\n",
    "# }\n",
    "\n",
    "# grid_search_rf = GridSearchCV(RandomForestRegressor(random_state=42, n_jobs=-1), param_grid, cv=5)\n",
    "# grid_search_rf.fit(X_train, y_train)\n",
    "\n",
    "# print(\"Best Parameters:\", grid_search_rf.best_params_)\n",
    "\n",
    "# best_rf = grid_search_rf.best_estimator_\n",
    "# print(f\"Training Score: {best_rf.score(X_train, y_train):.4f}\")\n",
    "# print(f\"Testing Score: {best_rf.score(X_test, y_test):.4f}\")\n",
    "\n",
    "# y_pred_best_rf = best_rf.predict(X_test)\n",
    "# print(f\"RMSE Score: {np.sqrt(mean_squared_error(y_test, y_pred_best_rf))}\")"
   ]
  },
  {
   "cell_type": "code",
   "execution_count": 17,
   "metadata": {
    "tags": []
   },
   "outputs": [],
   "source": [
    "# with open('../model/random_forest_model.pkl', 'wb') as f:\n",
    "#     pickle.dump(rf, f)"
   ]
  },
  {
   "cell_type": "markdown",
   "metadata": {},
   "source": [
    "**Interpretation**"
   ]
  },
  {
   "cell_type": "markdown",
   "metadata": {},
   "source": [
    "The provided results suggest that the Random Forest model performs well in terms of both the training and testing sets, indicating that the model explains a significant portion of the variability in flight prices based on the selected features. The Training Score of 0.9793 shows that the model fits the training data welll and the Testing Score of 0.9754 shows that the model generalizes well to new, unseen data. The lower RMSE score of 42.75 indicates that the model predictions are close to the actual prices and suggest that the selected features, preprocessing, and cleaning methods contribute to accurate predictions of flight prices."
   ]
  },
  {
   "cell_type": "markdown",
   "metadata": {},
   "source": [
    "**Decision Tree**"
   ]
  },
  {
   "cell_type": "code",
   "execution_count": 18,
   "metadata": {
    "tags": []
   },
   "outputs": [
    {
     "data": {
      "text/html": [
       "<style>#sk-container-id-3 {color: black;}#sk-container-id-3 pre{padding: 0;}#sk-container-id-3 div.sk-toggleable {background-color: white;}#sk-container-id-3 label.sk-toggleable__label {cursor: pointer;display: block;width: 100%;margin-bottom: 0;padding: 0.3em;box-sizing: border-box;text-align: center;}#sk-container-id-3 label.sk-toggleable__label-arrow:before {content: \"▸\";float: left;margin-right: 0.25em;color: #696969;}#sk-container-id-3 label.sk-toggleable__label-arrow:hover:before {color: black;}#sk-container-id-3 div.sk-estimator:hover label.sk-toggleable__label-arrow:before {color: black;}#sk-container-id-3 div.sk-toggleable__content {max-height: 0;max-width: 0;overflow: hidden;text-align: left;background-color: #f0f8ff;}#sk-container-id-3 div.sk-toggleable__content pre {margin: 0.2em;color: black;border-radius: 0.25em;background-color: #f0f8ff;}#sk-container-id-3 input.sk-toggleable__control:checked~div.sk-toggleable__content {max-height: 200px;max-width: 100%;overflow: auto;}#sk-container-id-3 input.sk-toggleable__control:checked~label.sk-toggleable__label-arrow:before {content: \"▾\";}#sk-container-id-3 div.sk-estimator input.sk-toggleable__control:checked~label.sk-toggleable__label {background-color: #d4ebff;}#sk-container-id-3 div.sk-label input.sk-toggleable__control:checked~label.sk-toggleable__label {background-color: #d4ebff;}#sk-container-id-3 input.sk-hidden--visually {border: 0;clip: rect(1px 1px 1px 1px);clip: rect(1px, 1px, 1px, 1px);height: 1px;margin: -1px;overflow: hidden;padding: 0;position: absolute;width: 1px;}#sk-container-id-3 div.sk-estimator {font-family: monospace;background-color: #f0f8ff;border: 1px dotted black;border-radius: 0.25em;box-sizing: border-box;margin-bottom: 0.5em;}#sk-container-id-3 div.sk-estimator:hover {background-color: #d4ebff;}#sk-container-id-3 div.sk-parallel-item::after {content: \"\";width: 100%;border-bottom: 1px solid gray;flex-grow: 1;}#sk-container-id-3 div.sk-label:hover label.sk-toggleable__label {background-color: #d4ebff;}#sk-container-id-3 div.sk-serial::before {content: \"\";position: absolute;border-left: 1px solid gray;box-sizing: border-box;top: 0;bottom: 0;left: 50%;z-index: 0;}#sk-container-id-3 div.sk-serial {display: flex;flex-direction: column;align-items: center;background-color: white;padding-right: 0.2em;padding-left: 0.2em;position: relative;}#sk-container-id-3 div.sk-item {position: relative;z-index: 1;}#sk-container-id-3 div.sk-parallel {display: flex;align-items: stretch;justify-content: center;background-color: white;position: relative;}#sk-container-id-3 div.sk-item::before, #sk-container-id-3 div.sk-parallel-item::before {content: \"\";position: absolute;border-left: 1px solid gray;box-sizing: border-box;top: 0;bottom: 0;left: 50%;z-index: -1;}#sk-container-id-3 div.sk-parallel-item {display: flex;flex-direction: column;z-index: 1;position: relative;background-color: white;}#sk-container-id-3 div.sk-parallel-item:first-child::after {align-self: flex-end;width: 50%;}#sk-container-id-3 div.sk-parallel-item:last-child::after {align-self: flex-start;width: 50%;}#sk-container-id-3 div.sk-parallel-item:only-child::after {width: 0;}#sk-container-id-3 div.sk-dashed-wrapped {border: 1px dashed gray;margin: 0 0.4em 0.5em 0.4em;box-sizing: border-box;padding-bottom: 0.4em;background-color: white;}#sk-container-id-3 div.sk-label label {font-family: monospace;font-weight: bold;display: inline-block;line-height: 1.2em;}#sk-container-id-3 div.sk-label-container {text-align: center;}#sk-container-id-3 div.sk-container {/* jupyter's `normalize.less` sets `[hidden] { display: none; }` but bootstrap.min.css set `[hidden] { display: none !important; }` so we also need the `!important` here to be able to override the default hidden behavior on the sphinx rendered scikit-learn.org. See: https://github.com/scikit-learn/scikit-learn/issues/21755 */display: inline-block !important;position: relative;}#sk-container-id-3 div.sk-text-repr-fallback {display: none;}</style><div id=\"sk-container-id-3\" class=\"sk-top-container\"><div class=\"sk-text-repr-fallback\"><pre>DecisionTreeRegressor(max_depth=3, min_samples_leaf=5, min_samples_split=10)</pre><b>In a Jupyter environment, please rerun this cell to show the HTML representation or trust the notebook. <br />On GitHub, the HTML representation is unable to render, please try loading this page with nbviewer.org.</b></div><div class=\"sk-container\" hidden><div class=\"sk-item\"><div class=\"sk-estimator sk-toggleable\"><input class=\"sk-toggleable__control sk-hidden--visually\" id=\"sk-estimator-id-3\" type=\"checkbox\" checked><label for=\"sk-estimator-id-3\" class=\"sk-toggleable__label sk-toggleable__label-arrow\">DecisionTreeRegressor</label><div class=\"sk-toggleable__content\"><pre>DecisionTreeRegressor(max_depth=3, min_samples_leaf=5, min_samples_split=10)</pre></div></div></div></div></div>"
      ],
      "text/plain": [
       "DecisionTreeRegressor(max_depth=3, min_samples_leaf=5, min_samples_split=10)"
      ]
     },
     "execution_count": 18,
     "metadata": {},
     "output_type": "execute_result"
    }
   ],
   "source": [
    "dt = DecisionTreeRegressor(max_depth=3, min_samples_split=10,\n",
    "                           min_samples_leaf=5)\n",
    "dt.fit(X_train, y_train)\n"
   ]
  },
  {
   "cell_type": "code",
   "execution_count": 19,
   "metadata": {
    "tags": []
   },
   "outputs": [
    {
     "name": "stdout",
     "output_type": "stream",
     "text": [
      "Training Score: 0.9291\n",
      "Testing Score: 0.9283\n",
      "RMSE Score: 72.9402840766438\n"
     ]
    }
   ],
   "source": [
    "print(f\"Training Score: {dt.score(X_train, y_train):.4f}\")\n",
    "print(f\"Testing Score: {dt.score(X_test, y_test):.4f}\")\n",
    "\n",
    "y_pred = dt.predict(X_test)\n",
    "\n",
    "print(f\"RMSE Score: {np.sqrt(mean_squared_error(y_test, y_pred))}\")"
   ]
  },
  {
   "cell_type": "code",
   "execution_count": 20,
   "metadata": {
    "tags": []
   },
   "outputs": [
    {
     "name": "stdout",
     "output_type": "stream",
     "text": [
      "Best Parameters: {'max_depth': 7, 'min_samples_leaf': 5, 'min_samples_split': 2}\n",
      "Training Score: 0.9450\n",
      "Testing Score: 0.9439\n",
      "RMSE Score: 64.53416228179877\n"
     ]
    }
   ],
   "source": [
    "param_grid = {\n",
    "    'max_depth': [3, 5, 7],\n",
    "    'min_samples_split': [2, 5, 10],\n",
    "    'min_samples_leaf': [1, 2, 5]\n",
    "}\n",
    "\n",
    "grid_search_dt = GridSearchCV(DecisionTreeRegressor(), param_grid, cv=5)\n",
    "grid_search_dt.fit(X_train, y_train)\n",
    "\n",
    "\n",
    "print(\"Best Parameters:\", grid_search_dt.best_params_)\n",
    "\n",
    "best_dt = grid_search_dt.best_estimator_\n",
    "print(f\"Training Score: {best_dt.score(X_train, y_train):.4f}\")\n",
    "print(f\"Testing Score: {best_dt.score(X_test, y_test):.4f}\")\n",
    "\n",
    "y_pred_best = best_dt.predict(X_test)\n",
    "print(f\"RMSE Score: {np.sqrt(mean_squared_error(y_test, y_pred_best))}\")"
   ]
  },
  {
   "cell_type": "code",
   "execution_count": 21,
   "metadata": {},
   "outputs": [
    {
     "data": {
      "text/plain": [
       "'\\n# Load the pickled model\\nwith open(\\'../model/decision_tree_model.pkl\\', \\'rb\\') as f:\\n    loaded_model = pickle.load(f)\\n\\n# Make predictions on new data (replace X_new with your new data)\\npredictions = loaded_model.predict(X_new)\\n\\n#Then evaluate\\nrmse = np.sqrt(mean_squared_error(y_test, predictions))\\nprint(f\"RMSE Score on New Data: {rmse}\")\\n'"
      ]
     },
     "execution_count": 21,
     "metadata": {},
     "output_type": "execute_result"
    }
   ],
   "source": [
    "with open('../model/decision_tree_model.pkl', 'wb') as f:\n",
    "    pickle.dump(grid_search_dt, f)\n",
    "    \n",
    "'''\n",
    "# Load the pickled model\n",
    "with open('../model/decision_tree_model.pkl', 'rb') as f:\n",
    "    loaded_model = pickle.load(f)\n",
    "\n",
    "# Make predictions on new data (replace X_new with your new data)\n",
    "predictions = loaded_model.predict(X_new)\n",
    "\n",
    "#Then evaluate\n",
    "rmse = np.sqrt(mean_squared_error(y_test, predictions))\n",
    "print(f\"RMSE Score on New Data: {rmse}\")\n",
    "'''"
   ]
  },
  {
   "cell_type": "markdown",
   "metadata": {},
   "source": [
    "**Interpretation**\n",
    "\n",
    "The provided results suggest that the Decision Tree model performs well in terms of both the training and testing sets, indicating that the model explains a significant portion of the variability in flight prices based on the selected features. The Training Score of 0.9291 shows that the model fits the training data welll and the Testing Score of 0.9283 shows that the model generalizes well to new, unseen data. The lower RMSE score of 72.94 indicates that the model predictions are close to the actual prices and suggest that the selected features, preprocessing, and cleaning methods contribute to accurate predictions of flight prices."
   ]
  },
  {
   "cell_type": "markdown",
   "metadata": {},
   "source": [
    "**Gradient Boosting:**"
   ]
  },
  {
   "cell_type": "code",
   "execution_count": 22,
   "metadata": {
    "tags": []
   },
   "outputs": [
    {
     "name": "stdout",
     "output_type": "stream",
     "text": [
      "Best Parameters: {'colsample_bytree': 1.0, 'learning_rate': 0.1, 'max_depth': 5, 'min_child_weight': 3, 'n_estimators': 100, 'subsample': 0.8}\n",
      "Training Score: 0.9593\n",
      "Testing Score: 0.9580\n",
      "RMSE Score: 55.81656739708218\n"
     ]
    }
   ],
   "source": [
    "param_grid = {\n",
    "    'n_estimators': [50, 100],\n",
    "    'learning_rate': [0.01, 0.1],\n",
    "    'max_depth': [3, 5],\n",
    "    'min_child_weight': [1, 3],\n",
    "    'subsample': [0.8, 1.0],\n",
    "    'colsample_bytree': [0.8, 1.0],\n",
    "}\n",
    "\n",
    "xgb = XGBRegressor(random_state=42)\n",
    "\n",
    "grid_search_xgb = GridSearchCV(xgb, param_grid, \n",
    "                               cv=5, scoring='neg_mean_squared_error', n_jobs=-1)\n",
    "\n",
    "grid_search_xgb.fit(X_train, y_train)\n",
    "\n",
    "print(\"Best Parameters:\", grid_search_xgb.best_params_)\n",
    "\n",
    "best_xgb = grid_search_xgb.best_estimator_\n",
    "\n",
    "print(f\"Training Score: {best_xgb.score(X_train, y_train):.4f}\")\n",
    "print(f\"Testing Score: {best_xgb.score(X_test, y_test):.4f}\")\n",
    "\n",
    "y_pred_best_xgb = best_xgb.predict(X_test)\n",
    "print(f\"RMSE Score: {np.sqrt(mean_squared_error(y_test, y_pred_best_xgb))}\")\n",
    "\n",
    "\n"
   ]
  },
  {
   "cell_type": "code",
   "execution_count": null,
   "metadata": {
    "tags": []
   },
   "outputs": [],
   "source": [
    "# with open('../model/gradient_boosting_model.pkl', 'wb') as f:\n",
    "#     pickle.dump(grid_search_xgb, f)"
   ]
  },
  {
   "cell_type": "markdown",
   "metadata": {},
   "source": [
    "**Interpretation**"
   ]
  },
  {
   "cell_type": "markdown",
   "metadata": {},
   "source": [
    "The provided results suggest that the Gradient Boost model performs well in terms of both the training and testing sets, indicating that the model explains a significant portion of the variability in flight prices based on the selected features. The Training Score of 0.9593 shows that the model fits the training data welll and the Testing Score of 0.958 shows that the model generalizes well to new, unseen data. The lower RMSE score of 55.81 indicates that the model predictions are close to the actual prices and suggest that the selected features, preprocessing, and cleaning methods contribute to accurate predictions of flight prices."
   ]
  },
  {
   "cell_type": "markdown",
   "metadata": {},
   "source": [
    "---\n",
    "\n",
    "### 2.4 Model Evaluation"
   ]
  },
  {
   "cell_type": "markdown",
   "metadata": {},
   "source": [
    "**What features are crucial for predicting optimal timeframes for lower-priced flights?**"
   ]
  },
  {
   "cell_type": "code",
   "execution_count": 37,
   "metadata": {
    "tags": []
   },
   "outputs": [],
   "source": [
    "#feature analysis\n",
    "feature_importance = rf.feature_importances_"
   ]
  },
  {
   "cell_type": "code",
   "execution_count": 38,
   "metadata": {
    "tags": []
   },
   "outputs": [],
   "source": [
    "# Get feature names after polynomial transformation\n",
    "poly_feature_names = poly.get_feature_names_out(X.columns)"
   ]
  },
  {
   "cell_type": "code",
   "execution_count": 39,
   "metadata": {
    "tags": []
   },
   "outputs": [],
   "source": [
    "#dictionary to map feature names to their importance scores\n",
    "feature_importance_dict = dict(zip(poly_feature_names, feature_importance))"
   ]
  },
  {
   "cell_type": "code",
   "execution_count": 40,
   "metadata": {
    "tags": []
   },
   "outputs": [],
   "source": [
    "#Sort the dictionary based on importance scores\n",
    "sorted_feature_importance = sorted(feature_importance_dict.items(), key=lambda x: x[1], reverse=True)"
   ]
  },
  {
   "cell_type": "code",
   "execution_count": 41,
   "metadata": {
    "scrolled": true,
    "tags": []
   },
   "outputs": [
    {
     "name": "stdout",
     "output_type": "stream",
     "text": [
      "class duration: 0.928667804988699\n",
      "duration airline_Vistara: 0.015028481980078782\n",
      "stops duration: 0.0031386596120580104\n",
      "duration: 0.002510501627660943\n",
      "duration^2: 0.0023221643764603367\n",
      "duration departure_time_encoded: 0.0022602878781750064\n",
      "duration destination_Kolkata: 0.002011759611671013\n",
      "duration origin_Kolkata: 0.0017634867528648868\n",
      "duration destination_Delhi: 0.0015401523937168572\n",
      "departure_time_encoded destination_Mumbai: 0.0013925449514766823\n",
      "destination_Bangalore origin_Mumbai: 0.0013793806924562487\n",
      "duration destination_Hyderabad: 0.0012095011220107732\n",
      "duration origin_Hyderabad: 0.0011677883040410088\n",
      "duration arrival_time_Morning: 0.001090040370874152\n",
      "duration departure_time_Morning: 0.0010460059059912421\n",
      "duration arrival_time_Evening: 0.0010335187922108722\n",
      "duration origin_Mumbai: 0.0010314884783152063\n",
      "duration airline_Air_India: 0.0009847674754142211\n",
      "duration destination_Bangalore: 0.0009371680148406256\n",
      "duration arrival_time_Night: 0.0009256553220788122\n",
      "duration duration_range_Medium: 0.0009209125620441031\n",
      "duration duration_range_encoded: 0.0009148659748676802\n",
      "duration origin_Delhi: 0.000870911773094968\n",
      "destination_Chennai origin_Mumbai: 0.000844443781205806\n",
      "airline_Air_India origin_Delhi: 0.0008222856586591049\n",
      "duration departure_time_Early_Morning: 0.0007862706639290675\n",
      "duration departure_time_Evening: 0.0007578380698898395\n",
      "departure_time_encoded origin_Delhi: 0.0007255876237714573\n",
      "duration destination_Mumbai: 0.000667176181373096\n",
      "duration departure_time_Night: 0.0006596481423061718\n",
      "destination_Delhi arrival_time_Night: 0.0006029830727715069\n",
      "duration destination_Chennai: 0.000564894339262522\n",
      "stops: 0.0005424703119108848\n",
      "duration origin_Chennai: 0.0005387863766873167\n",
      "duration duration_range_Very Long: 0.0005379559794391448\n",
      "destination_Delhi origin_Kolkata: 0.0004582008053882226\n",
      "stops^2: 0.0004429178165559676\n",
      "duration duration_range_Short: 0.0004142880677677352\n",
      "duration arrival_time_Early_Morning: 0.0003716389037180737\n",
      "departure_time_encoded arrival_time_Evening: 0.0003262538624838384\n",
      "stops airline_Vistara: 0.0002971924281120634\n",
      "destination_Delhi origin_Chennai: 0.0002936599638667526\n",
      "destination_Hyderabad arrival_time_Evening: 0.0002748519543672906\n",
      "departure_time_encoded origin_Kolkata: 0.00026697108609179506\n",
      "airline_Air_India origin_Mumbai: 0.0002492207360815101\n",
      "destination_Hyderabad origin_Mumbai: 0.0002485682809567385\n",
      "stops class: 0.00024541012564635605\n",
      "stops origin_Delhi: 0.00024180043707456344\n",
      "departure_time_encoded origin_Chennai: 0.00023765598964372377\n",
      "destination_Mumbai origin_Hyderabad: 0.0002004159361615043\n",
      "duration_range_encoded destination_Hyderabad: 0.00019583002954966746\n",
      "duration_range_encoded origin_Delhi: 0.0001856877278162541\n",
      "destination_Mumbai origin_Delhi: 0.00018022060519640176\n",
      "arrival_time_Night departure_time_Evening: 0.00017700357368776663\n",
      "departure_time_encoded origin_Mumbai: 0.00017636112648968614\n",
      "departure_time_encoded duration_range_encoded: 0.00017427168624467752\n",
      "origin_Delhi^2: 0.00016547019607011888\n",
      "destination_Chennai origin_Delhi: 0.00016135064258941017\n",
      "departure_time_encoded origin_Hyderabad: 0.00016100184467442987\n",
      "airline_Vistara origin_Delhi: 0.00015111043542577894\n",
      "arrival_time_Night duration_range_Medium: 0.00014946980014009231\n",
      "stops airline_Air_India: 0.0001429087986157027\n",
      "departure_time_encoded destination_Bangalore: 0.00013754878774562408\n",
      "origin_Hyderabad^2: 0.00013282005387497294\n",
      "departure_time_encoded destination_Kolkata: 0.00013148396216716466\n",
      "stops origin_Hyderabad: 0.00012873538097619058\n",
      "destination_Bangalore departure_time_Evening: 0.0001263582640745323\n",
      "departure_time_encoded duration_range_Medium: 0.000124876278940742\n",
      "destination_Kolkata arrival_time_Night: 0.00012436287011391173\n",
      "origin_Delhi: 0.0001241073813536727\n",
      "origin_Delhi departure_time_Evening: 0.00012196852425828298\n",
      "stops departure_time_encoded: 0.00011544584447562914\n",
      "class origin_Delhi: 0.00011286425890030988\n",
      "destination_Kolkata origin_Delhi: 0.00011186462557510696\n",
      "destination_Delhi origin_Mumbai: 0.00010921981865243275\n",
      "departure_time_encoded arrival_time_Early_Morning: 0.00010919834712796982\n",
      "duration arrival_time_Late_Night: 0.00010882077558256962\n",
      "class origin_Hyderabad: 0.00010557828831479559\n",
      "origin_Hyderabad: 0.00010195816782737267\n",
      "destination_Hyderabad origin_Chennai: 9.887606824464257e-05\n",
      "duration airline_Indigo: 8.81129458009826e-05\n",
      "duration_range_encoded arrival_time_Evening: 8.802116865753491e-05\n",
      "departure_time_Night duration_range_Medium: 8.538542319983017e-05\n",
      "origin_Chennai departure_time_Morning: 8.431626781119756e-05\n",
      "destination_Kolkata arrival_time_Early_Morning: 8.392884725452995e-05\n",
      "stops destination_Kolkata: 8.151740006604816e-05\n",
      "origin_Kolkata departure_time_Evening: 8.049217821786618e-05\n",
      "destination_Chennai origin_Hyderabad: 7.96340892202601e-05\n",
      "duration_range_encoded destination_Chennai: 7.826052249054279e-05\n",
      "departure_time_Early_Morning duration_range_Medium: 7.814007456691611e-05\n",
      "departure_time_encoded: 7.535025537932666e-05\n",
      "class departure_time_encoded: 7.341443550763316e-05\n",
      "destination_Bangalore origin_Hyderabad: 7.014061524699387e-05\n",
      "duration_range_encoded departure_time_Early_Morning: 7.006374652752642e-05\n",
      "duration airline_GO_FIRST: 6.794288747810571e-05\n",
      "departure_time_encoded destination_Chennai: 6.74264233995808e-05\n",
      "destination_Mumbai arrival_time_Night: 6.73180950690194e-05\n",
      "duration airline_SpiceJet: 6.709175928866331e-05\n",
      "destination_Delhi^2: 6.600560150687767e-05\n",
      "destination_Hyderabad arrival_time_Early_Morning: 6.420247647594944e-05\n",
      "departure_time_encoded destination_Delhi: 6.418802831358305e-05\n",
      "destination_Hyderabad departure_time_Morning: 6.417692330434509e-05\n",
      "arrival_time_Evening duration_range_Short: 6.409511903788917e-05\n",
      "destination_Kolkata airline_Vistara: 6.40493698196244e-05\n",
      "origin_Chennai duration_range_Medium: 6.241036326453122e-05\n",
      "stops origin_Chennai: 6.240428510962839e-05\n",
      "departure_time_encoded^2: 6.112258247517904e-05\n",
      "destination_Hyderabad arrival_time_Morning: 6.110086891397312e-05\n",
      "duration_range_encoded arrival_time_Morning: 6.0828666065998527e-05\n",
      "duration_range_encoded departure_time_Evening: 5.537345396204185e-05\n",
      "destination_Bangalore departure_time_Early_Morning: 5.533093223748035e-05\n",
      "stops destination_Delhi: 5.480790649212549e-05\n",
      "destination_Bangalore origin_Delhi: 5.343188284082966e-05\n",
      "destination_Mumbai arrival_time_Morning: 5.274568486808301e-05\n",
      "stops arrival_time_Evening: 5.2392421814153636e-05\n",
      "departure_time_encoded airline_Vistara: 5.2003068321271915e-05\n",
      "destination_Chennai arrival_time_Night: 5.138917960055111e-05\n",
      "origin_Chennai: 5.092645891061368e-05\n",
      "origin_Delhi arrival_time_Morning: 5.007829755343395e-05\n",
      "origin_Chennai^2: 4.995683565988598e-05\n",
      "departure_time_encoded duration_range_Short: 4.8792058694518724e-05\n",
      "departure_time_encoded arrival_time_Morning: 4.8572754526916094e-05\n",
      "class arrival_time_Evening: 4.844364504217478e-05\n",
      "arrival_time_Morning departure_time_Evening: 4.6934778934114714e-05\n",
      "duration_range_encoded arrival_time_Early_Morning: 4.690032391216486e-05\n",
      "destination_Hyderabad arrival_time_Night: 4.656687863224398e-05\n",
      "departure_time_encoded arrival_time_Night: 4.656089133528833e-05\n",
      "origin_Mumbai arrival_time_Evening: 4.6267308735248185e-05\n",
      "duration_range_encoded arrival_time_Night: 4.622277536037064e-05\n",
      "origin_Hyderabad arrival_time_Night: 4.60406056372971e-05\n",
      "destination_Bangalore arrival_time_Night: 4.525203851044696e-05\n",
      "stops duration_range_encoded: 4.524382820852502e-05\n",
      "departure_time_encoded destination_Hyderabad: 4.515839688471631e-05\n",
      "stops origin_Mumbai: 4.451820960244129e-05\n",
      "origin_Delhi arrival_time_Evening: 4.4143801581601294e-05\n",
      "origin_Kolkata: 4.4085316952700504e-05\n",
      "duration_range_encoded origin_Chennai: 4.3928177662612476e-05\n",
      "duration_range_encoded origin_Hyderabad: 4.336490706239299e-05\n",
      "airline_Vistara arrival_time_Evening: 4.276422029180685e-05\n",
      "stops origin_Kolkata: 4.184631771568837e-05\n",
      "arrival_time_Evening^2: 4.163263601869733e-05\n",
      "destination_Kolkata airline_Indigo: 4.161757196992088e-05\n",
      "origin_Chennai duration_range_Short: 4.1196947142647837e-05\n",
      "arrival_time_Night departure_time_Early_Morning: 4.078873397908233e-05\n",
      "destination_Mumbai airline_Air_India: 4.0507817047805684e-05\n",
      "duration_range_encoded origin_Mumbai: 4.028284074892516e-05\n",
      "duration_range_encoded departure_time_Morning: 4.013549841906917e-05\n",
      "stops destination_Chennai: 3.982817929509058e-05\n",
      "class origin_Chennai: 3.9355686382543256e-05\n",
      "origin_Hyderabad departure_time_Evening: 3.862634450160969e-05\n",
      "destination_Hyderabad origin_Delhi: 3.8586994201761166e-05\n",
      "stops departure_time_Morning: 3.836455228780629e-05\n",
      "destination_Mumbai duration_range_Medium: 3.832915097699203e-05\n",
      "airline_Vistara origin_Hyderabad: 3.819042775712886e-05\n",
      "origin_Hyderabad arrival_time_Evening: 3.81157079976141e-05\n",
      "duration_range_encoded destination_Mumbai: 3.762163618852153e-05\n",
      "destination_Kolkata: 3.756941605588906e-05\n",
      "class destination_Hyderabad: 3.7444553999514065e-05\n",
      "origin_Chennai arrival_time_Night: 3.7040311183037384e-05\n",
      "origin_Kolkata^2: 3.662911542601824e-05\n",
      "departure_time_encoded duration_range_Very Long: 3.5712277651657646e-05\n",
      "origin_Mumbai^2: 3.554898331378946e-05\n",
      "departure_time_Morning duration_range_Short: 3.544441454995603e-05\n",
      "stops destination_Hyderabad: 3.502462496817648e-05\n",
      "class destination_Kolkata: 3.497278484576212e-05\n",
      "destination_Mumbai origin_Kolkata: 3.459831001479513e-05\n",
      "origin_Mumbai departure_time_Evening: 3.436474459846037e-05\n",
      "destination_Mumbai departure_time_Early_Morning: 3.381074817013009e-05\n",
      "destination_Bangalore arrival_time_Evening: 3.380396154221351e-05\n",
      "arrival_time_Morning duration_range_Medium: 3.359354140112355e-05\n",
      "stops arrival_time_Early_Morning: 3.347222829454767e-05\n",
      "stops arrival_time_Night: 3.3469659676595014e-05\n",
      "destination_Chennai duration_range_Short: 3.326192168797853e-05\n",
      "class arrival_time_Night: 3.3086231255528325e-05\n",
      "arrival_time_Evening: 3.3052761935410166e-05\n",
      "destination_Bangalore origin_Chennai: 3.298561514547827e-05\n",
      "destination_Hyderabad: 3.259195558751916e-05\n",
      "arrival_time_Evening departure_time_Early_Morning: 3.234145570005842e-05\n",
      "destination_Mumbai arrival_time_Evening: 3.2318290447948236e-05\n",
      "destination_Hyderabad^2: 3.229623878532892e-05\n",
      "airline_Vistara origin_Chennai: 3.216669513414839e-05\n",
      "origin_Delhi departure_time_Early_Morning: 3.214549246240884e-05\n",
      "destination_Delhi: 3.174533134843643e-05\n",
      "class destination_Delhi: 3.149595964029136e-05\n",
      "origin_Mumbai duration_range_Medium: 3.109955620604666e-05\n",
      "airline_Vistara arrival_time_Night: 3.106418167222353e-05\n",
      "arrival_time_Early_Morning^2: 3.094916201320423e-05\n",
      "duration_range_encoded: 3.0841753372976963e-05\n",
      "destination_Kolkata origin_Mumbai: 3.078433366195088e-05\n",
      "origin_Chennai departure_time_Early_Morning: 3.054329915375075e-05\n",
      "arrival_time_Evening duration_range_Medium: 3.0517298449430028e-05\n",
      "origin_Mumbai arrival_time_Night: 3.051311017746298e-05\n",
      "origin_Delhi arrival_time_Night: 3.0232473566082502e-05\n",
      "arrival_time_Night: 2.9926476343815142e-05\n",
      "duration_range_encoded origin_Kolkata: 2.9624901952299946e-05\n",
      "destination_Chennai origin_Kolkata: 2.9616728807257805e-05\n",
      "destination_Bangalore duration_range_Short: 2.9495226864605536e-05\n",
      "destination_Chennai duration_range_Medium: 2.925969179399355e-05\n",
      "duration_range_encoded destination_Bangalore: 2.9161167148440482e-05\n",
      "class airline_Air_India: 2.897261450371498e-05\n",
      "destination_Chennai^2: 2.8632396493468405e-05\n",
      "origin_Delhi duration_range_Medium: 2.83770006956444e-05\n",
      "arrival_time_Night^2: 2.8353060582550828e-05\n",
      "departure_time_Early_Morning duration_range_Short: 2.8006117799706648e-05\n",
      "class duration_range_Short: 2.784172072819522e-05\n",
      "class origin_Mumbai: 2.7758294966282693e-05\n",
      "stops departure_time_Evening: 2.7532687888251298e-05\n",
      "class destination_Mumbai: 2.6878916790770117e-05\n",
      "class origin_Kolkata: 2.6753981681448448e-05\n",
      "departure_time_Evening^2: 2.6676581182678613e-05\n",
      "destination_Delhi airline_Vistara: 2.627343428983856e-05\n",
      "class destination_Chennai: 2.6152423092168982e-05\n",
      "duration_range_encoded^2: 2.588389811839033e-05\n",
      "origin_Kolkata duration_range_Short: 2.535927712482143e-05\n",
      "arrival_time_Early_Morning: 2.520198060273344e-05\n",
      "destination_Kolkata arrival_time_Evening: 2.517980662303044e-05\n",
      "arrival_time_Morning departure_time_Night: 2.5018259217528654e-05\n",
      "stops destination_Bangalore: 2.4919516912538143e-05\n",
      "class^2: 2.4875948713329245e-05\n",
      "departure_time_encoded airline_Air_India: 2.4827002233490436e-05\n",
      "destination_Chennai departure_time_Evening: 2.4605137777279544e-05\n",
      "arrival_time_Night duration_range_Short: 2.4524232392264284e-05\n",
      "arrival_time_Evening departure_time_Morning: 2.4273907722634606e-05\n",
      "origin_Hyderabad duration_range_Medium: 2.426952501625177e-05\n",
      "destination_Chennai: 2.4166011930155118e-05\n",
      "destination_Delhi arrival_time_Evening: 2.406307136035428e-05\n",
      "class: 2.395088061719992e-05\n",
      "arrival_time_Night duration_range_Very Long: 2.3888433520344933e-05\n",
      "stops arrival_time_Morning: 2.3520510036548188e-05\n",
      "destination_Hyderabad duration_range_Short: 2.3135807487324955e-05\n",
      "destination_Mumbai duration_range_Very Long: 2.305028709933726e-05\n",
      "departure_time_Morning duration_range_Medium: 2.303626781736246e-05\n",
      "duration_range_encoded destination_Delhi: 2.285021137202178e-05\n",
      "origin_Kolkata departure_time_Morning: 2.273862416118399e-05\n",
      "origin_Mumbai: 2.2696899678603156e-05\n",
      "origin_Kolkata departure_time_Early_Morning: 2.2612837796210143e-05\n",
      "destination_Hyderabad origin_Kolkata: 2.2244937858222587e-05\n",
      "stops duration_range_Medium: 2.2025159179981635e-05\n",
      "class arrival_time_Early_Morning: 2.1987838616877352e-05\n",
      "destination_Chennai departure_time_Night: 2.189820159936102e-05\n",
      "duration_range_encoded departure_time_Night: 2.188816343839999e-05\n",
      "destination_Mumbai: 2.1859044065494897e-05\n",
      "destination_Bangalore origin_Kolkata: 2.1646779983507543e-05\n",
      "departure_time_Evening: 2.147953244042337e-05\n",
      "origin_Chennai arrival_time_Morning: 2.138484522004181e-05\n",
      "arrival_time_Morning duration_range_Very Long: 2.1370309102909095e-05\n",
      "destination_Kolkata^2: 2.131876397298994e-05\n",
      "departure_time_Morning^2: 2.1070430924395996e-05\n",
      "airline_Air_India duration_range_Short: 2.0925377851711115e-05\n",
      "airline_Air_India arrival_time_Evening: 2.0839189725447753e-05\n",
      "departure_time_Early_Morning duration_range_Very Long: 2.064359115385389e-05\n",
      "origin_Delhi departure_time_Morning: 2.0642606579585612e-05\n",
      "destination_Delhi departure_time_Evening: 2.0594377017624798e-05\n",
      "airline_Vistara departure_time_Evening: 2.042640103839949e-05\n",
      "destination_Mumbai departure_time_Morning: 2.0417975313725616e-05\n",
      "origin_Mumbai departure_time_Early_Morning: 2.0375538291480272e-05\n",
      "stops destination_Mumbai: 2.0362007924197966e-05\n",
      "destination_Chennai arrival_time_Evening: 2.035780377649131e-05\n",
      "origin_Chennai departure_time_Evening: 2.033966104787145e-05\n",
      "origin_Mumbai departure_time_Morning: 2.0330397653777016e-05\n",
      "airline_Indigo origin_Kolkata: 2.022781576059211e-05\n",
      "destination_Mumbai^2: 2.0127863344988523e-05\n",
      "airline_Air_India arrival_time_Early_Morning: 1.9983660096760873e-05\n",
      "origin_Chennai arrival_time_Evening: 1.9972609288487452e-05\n",
      "destination_Chennai arrival_time_Morning: 1.977693298500319e-05\n",
      "destination_Bangalore departure_time_Morning: 1.9588662966752378e-05\n",
      "arrival_time_Morning^2: 1.937457244393896e-05\n",
      "origin_Mumbai duration_range_Short: 1.935257130883057e-05\n",
      "origin_Kolkata arrival_time_Night: 1.9348780391619224e-05\n",
      "destination_Mumbai origin_Chennai: 1.891007312901394e-05\n",
      "airline_Vistara origin_Mumbai: 1.889753587499054e-05\n",
      "arrival_time_Morning: 1.8590462081197097e-05\n",
      "class arrival_time_Morning: 1.8557067739693455e-05\n",
      "airline_Air_India origin_Kolkata: 1.8477647575522475e-05\n",
      "destination_Kolkata airline_Air_India: 1.8338339681045403e-05\n",
      "destination_Delhi origin_Hyderabad: 1.823026890593607e-05\n",
      "destination_Hyderabad airline_Vistara: 1.8196849692732725e-05\n",
      "origin_Hyderabad departure_time_Morning: 1.7853307629845754e-05\n",
      "class departure_time_Evening: 1.775397085697082e-05\n",
      "departure_time_Morning: 1.766489059510327e-05\n",
      "destination_Kolkata origin_Chennai: 1.72596423549392e-05\n",
      "origin_Mumbai duration_range_Very Long: 1.71543501215656e-05\n",
      "stops duration_range_Very Long: 1.7089126420881693e-05\n",
      "destination_Chennai departure_time_Morning: 1.69747223755094e-05\n",
      "class duration_range_encoded: 1.667331113840435e-05\n",
      "departure_time_Evening duration_range_Short: 1.661941381699792e-05\n",
      "arrival_time_Night departure_time_Morning: 1.653698656611506e-05\n",
      "destination_Bangalore duration_range_Medium: 1.6449826982707318e-05\n",
      "arrival_time_Evening duration_range_Very Long: 1.6285787988062835e-05\n",
      "stops departure_time_Early_Morning: 1.627348873840295e-05\n",
      "destination_Delhi departure_time_Night: 1.6044140148257055e-05\n",
      "destination_Mumbai duration_range_Short: 1.578313934091109e-05\n",
      "origin_Kolkata duration_range_Medium: 1.5469158319200666e-05\n",
      "destination_Kolkata duration_range_Short: 1.5307067942516167e-05\n",
      "departure_time_encoded departure_time_Morning: 1.5197084560270353e-05\n",
      "destination_Delhi departure_time_Early_Morning: 1.4920682842907367e-05\n",
      "destination_Hyderabad airline_Air_India: 1.4918797966722017e-05\n",
      "class departure_time_Morning: 1.4824230293802863e-05\n",
      "destination_Kolkata arrival_time_Morning: 1.4812727993252174e-05\n",
      "destination_Bangalore^2: 1.4811599867217972e-05\n",
      "origin_Chennai duration_range_Very Long: 1.4806088325870598e-05\n",
      "origin_Delhi arrival_time_Early_Morning: 1.4750149280267499e-05\n",
      "destination_Hyderabad duration_range_Medium: 1.471885873437572e-05\n",
      "destination_Mumbai departure_time_Evening: 1.4562016935588898e-05\n",
      "origin_Mumbai departure_time_Night: 1.4461800531158872e-05\n",
      "departure_time_encoded departure_time_Evening: 1.4198986082485241e-05\n",
      "destination_Mumbai airline_Vistara: 1.3979240884577592e-05\n",
      "departure_time_encoded departure_time_Early_Morning: 1.397300480413425e-05\n",
      "arrival_time_Evening departure_time_Evening: 1.3858136703132553e-05\n",
      "airline_Vistara duration_range_Short: 1.3843509390537434e-05\n",
      "class destination_Bangalore: 1.376324289216033e-05\n",
      "origin_Hyderabad duration_range_Short: 1.3665552764444193e-05\n",
      "arrival_time_Morning departure_time_Early_Morning: 1.353239124466627e-05\n",
      "destination_Delhi duration_range_Medium: 1.3523906155570163e-05\n",
      "origin_Kolkata arrival_time_Morning: 1.3235812518454544e-05\n",
      "stops duration_range_Short: 1.3047953851902176e-05\n",
      "departure_time_Early_Morning^2: 1.3026017604627066e-05\n",
      "duration_range_Very Long^2: 1.2816673718337265e-05\n",
      "duration_range_encoded duration_range_Very Long: 1.2716336536068257e-05\n",
      "destination_Bangalore: 1.2640840441902793e-05\n",
      "origin_Delhi duration_range_Short: 1.260662544386713e-05\n",
      "origin_Hyderabad departure_time_Early_Morning: 1.259890423166886e-05\n",
      "origin_Kolkata arrival_time_Early_Morning: 1.2463251060085377e-05\n",
      "destination_Delhi duration_range_Short: 1.206433521818556e-05\n",
      "destination_Bangalore duration_range_Very Long: 1.2059052714383256e-05\n",
      "class departure_time_Early_Morning: 1.1947295476202244e-05\n",
      "destination_Bangalore airline_Vistara: 1.1879788488936558e-05\n",
      "class duration_range_Very Long: 1.1811755569661353e-05\n",
      "duration_range_Short: 1.173324636669888e-05\n",
      "origin_Delhi duration_range_Very Long: 1.1725970186583612e-05\n",
      "duration_range_Very Long: 1.1626484670975624e-05\n",
      "departure_time_Night duration_range_Very Long: 1.1603249914131257e-05\n",
      "destination_Chennai duration_range_Very Long: 1.1521877043753014e-05\n",
      "airline_Air_India origin_Chennai: 1.1510978002950451e-05\n",
      "duration_range_encoded airline_Vistara: 1.1472360848951449e-05\n",
      "origin_Kolkata arrival_time_Evening: 1.1408161667328386e-05\n",
      "destination_Chennai departure_time_Early_Morning: 1.1396055778075513e-05\n",
      "origin_Delhi departure_time_Night: 1.1312252390865748e-05\n",
      "destination_Delhi arrival_time_Morning: 1.1299678051522383e-05\n",
      "airline_Vistara origin_Kolkata: 1.126886063960676e-05\n",
      "airline_Vistara arrival_time_Morning: 1.1152399383557244e-05\n",
      "duration_range_Medium^2: 1.1072053922827891e-05\n",
      "destination_Kolkata departure_time_Early_Morning: 1.1048865570941714e-05\n",
      "departure_time_Evening duration_range_Very Long: 1.0916401525693911e-05\n",
      "departure_time_encoded departure_time_Night: 1.0865510611624877e-05\n",
      "departure_time_Early_Morning: 1.074460613017418e-05\n",
      "origin_Mumbai arrival_time_Morning: 1.0552148695124886e-05\n",
      "class duration_range_Medium: 1.0552077835815294e-05\n",
      "duration_range_encoded duration_range_Medium: 1.0363466422454852e-05\n",
      "destination_Hyderabad airline_Indigo: 1.0362076519227991e-05\n",
      "airline_Indigo arrival_time_Evening: 1.0321451353149456e-05\n",
      "destination_Kolkata origin_Hyderabad: 1.0258658705637692e-05\n",
      "destination_Hyderabad duration_range_Very Long: 1.021176149323461e-05\n",
      "departure_time_Morning duration_range_Very Long: 1.0074817468450945e-05\n",
      "destination_Chennai airline_Vistara: 1.003966073057021e-05\n",
      "airline_Air_India^2: 1.002748989069825e-05\n",
      "duration_range_Medium: 1.0020484692519741e-05\n",
      "duration_range_encoded destination_Kolkata: 1.0013293839877056e-05\n",
      "airline_Vistara departure_time_Early_Morning: 9.824428902242452e-06\n",
      "destination_Hyderabad departure_time_Early_Morning: 9.695341375459696e-06\n",
      "airline_GO_FIRST departure_time_Morning: 9.472610705766929e-06\n",
      "destination_Kolkata duration_range_Medium: 9.347650502271796e-06\n",
      "destination_Hyderabad departure_time_Evening: 9.256236838700838e-06\n",
      "destination_Delhi departure_time_Morning: 9.242326620171041e-06\n",
      "duration_range_encoded arrival_time_Late_Night: 9.125513578517978e-06\n",
      "departure_time_Night: 9.007800902584924e-06\n",
      "destination_Bangalore arrival_time_Morning: 8.92336898005893e-06\n",
      "origin_Kolkata duration_range_Very Long: 8.884675913324419e-06\n",
      "arrival_time_Evening departure_time_Night: 8.882109379073094e-06\n",
      "stops departure_time_Night: 8.863310929478067e-06\n",
      "duration departure_time_Late_Night: 8.497839115246468e-06\n",
      "destination_Bangalore departure_time_Night: 8.492659484685782e-06\n",
      "arrival_time_Late_Night: 8.409501885593356e-06\n",
      "airline_Air_India: 8.394222877037704e-06\n",
      "origin_Hyderabad departure_time_Night: 8.386224911155806e-06\n",
      "airline_Air_India arrival_time_Night: 8.328995895780404e-06\n",
      "airline_Air_India arrival_time_Morning: 8.308711231386842e-06\n",
      "destination_Kolkata departure_time_Evening: 8.254722639983203e-06\n",
      "origin_Chennai departure_time_Night: 8.134619171870863e-06\n",
      "departure_time_encoded airline_Indigo: 8.04897068590367e-06\n",
      "airline_Air_India arrival_time_Late_Night: 8.037591729338193e-06\n",
      "airline_Vistara: 7.961568892996414e-06\n",
      "airline_Vistara departure_time_Morning: 7.816733373558841e-06\n",
      "airline_Air_India departure_time_Evening: 7.775604193945156e-06\n",
      "duration_range_encoded airline_Air_India: 7.738863028532813e-06\n",
      "departure_time_Night^2: 7.625821171743711e-06\n",
      "airline_GO_FIRST origin_Kolkata: 7.538974696830968e-06\n",
      "origin_Hyderabad duration_range_Very Long: 7.526106502901291e-06\n",
      "arrival_time_Early_Morning departure_time_Evening: 7.4709764156564436e-06\n",
      "airline_Indigo: 7.418606949793199e-06\n",
      "airline_Vistara duration_range_Medium: 7.3476709906003625e-06\n",
      "airline_Vistara departure_time_Night: 7.287381072810786e-06\n",
      "destination_Delhi duration_range_Very Long: 7.108387593444128e-06\n",
      "airline_Air_India departure_time_Early_Morning: 7.0748013169042235e-06\n",
      "arrival_time_Late_Night^2: 6.873534515045146e-06\n",
      "stops airline_Indigo: 6.5898115482176756e-06\n",
      "airline_Air_India departure_time_Morning: 6.508572722924105e-06\n",
      "destination_Chennai airline_Air_India: 6.4724587987812e-06\n",
      "origin_Hyderabad arrival_time_Morning: 6.385848621773547e-06\n",
      "duration_range_Short^2: 6.294684830134844e-06\n",
      "stops arrival_time_Late_Night: 5.936362134616359e-06\n",
      "departure_time_encoded airline_GO_FIRST: 5.884852197664972e-06\n",
      "airline_Indigo^2: 5.546976258970864e-06\n",
      "airline_Air_India origin_Hyderabad: 5.5326357803015174e-06\n",
      "airline_Air_India duration_range_Very Long: 5.516744974245805e-06\n",
      "origin_Chennai arrival_time_Early_Morning: 5.5035370715770245e-06\n",
      "departure_time_encoded arrival_time_Late_Night: 5.427562088582224e-06\n",
      "class arrival_time_Late_Night: 5.4069961472341095e-06\n",
      "destination_Bangalore airline_Air_India: 5.403047727458572e-06\n",
      "arrival_time_Morning duration_range_Short: 5.341145021022097e-06\n",
      "airline_Vistara duration_range_Very Long: 5.324049317215336e-06\n",
      "class departure_time_Night: 5.29402072945748e-06\n",
      "destination_Kolkata departure_time_Morning: 5.137089015942632e-06\n",
      "destination_Mumbai airline_Indigo: 5.058140214854874e-06\n",
      "class departure_time_Late_Night: 4.940721529275317e-06\n",
      "arrival_time_Early_Morning duration_range_Very Long: 4.849165059898225e-06\n",
      "airline_GO_FIRST: 4.8467434289710895e-06\n",
      "stops airline_GO_FIRST: 4.841240497386532e-06\n",
      "airline_Vistara arrival_time_Early_Morning: 4.753529869778635e-06\n",
      "origin_Delhi arrival_time_Late_Night: 4.585936178927343e-06\n",
      "destination_Bangalore arrival_time_Early_Morning: 4.5799985576182484e-06\n",
      "destination_Hyderabad departure_time_Night: 4.5004982030839425e-06\n",
      "departure_time_Late_Night^2: 4.36200416095678e-06\n",
      "destination_Bangalore arrival_time_Late_Night: 4.138383358452774e-06\n",
      "destination_Kolkata departure_time_Night: 4.038327491238771e-06\n",
      "arrival_time_Morning departure_time_Morning: 4.019500808590036e-06\n",
      "airline_Vistara^2: 3.974987756371318e-06\n",
      "departure_time_Evening duration_range_Medium: 3.9684383847142735e-06\n",
      "destination_Kolkata duration_range_Very Long: 3.872176216203175e-06\n",
      "destination_Hyderabad departure_time_Late_Night: 3.636937935610713e-06\n",
      "origin_Mumbai arrival_time_Early_Morning: 3.6339151931615898e-06\n",
      "airline_Air_India departure_time_Late_Night: 3.526486113861486e-06\n",
      "airline_Indigo origin_Mumbai: 3.502229410916974e-06\n",
      "airline_GO_FIRST^2: 3.4736468348490962e-06\n",
      "arrival_time_Night departure_time_Night: 3.211910024173164e-06\n",
      "origin_Hyderabad arrival_time_Early_Morning: 3.113272887640833e-06\n",
      "destination_Chennai arrival_time_Early_Morning: 3.075187731047427e-06\n",
      "origin_Mumbai arrival_time_Late_Night: 3.0343205283121725e-06\n",
      "airline_Air_India departure_time_Night: 3.0137949781722366e-06\n",
      "destination_Mumbai arrival_time_Early_Morning: 2.951394161288875e-06\n",
      "duration_range_encoded departure_time_Late_Night: 2.921680814152412e-06\n",
      "airline_Indigo origin_Delhi: 2.8982970074502832e-06\n",
      "departure_time_Late_Night: 2.8700010646323564e-06\n",
      "stops departure_time_Late_Night: 2.7997719378263937e-06\n",
      "destination_Mumbai departure_time_Night: 2.799320500131799e-06\n",
      "destination_Delhi airline_Indigo: 2.7504227075250607e-06\n",
      "departure_time_encoded departure_time_Late_Night: 2.7385018505894835e-06\n",
      "airline_Indigo departure_time_Morning: 2.6649198688412297e-06\n",
      "airline_Indigo origin_Hyderabad: 2.639567613274994e-06\n",
      "arrival_time_Early_Morning departure_time_Early_Morning: 2.6346286511967886e-06\n",
      "destination_Chennai airline_Indigo: 2.6048172739728312e-06\n",
      "arrival_time_Late_Night duration_range_Short: 2.594886375299727e-06\n",
      "destination_Bangalore airline_GO_FIRST: 2.4875422219142133e-06\n",
      "airline_Indigo origin_Chennai: 2.450694651192191e-06\n",
      "destination_Delhi arrival_time_Late_Night: 2.4331130685946646e-06\n",
      "arrival_time_Late_Night duration_range_Medium: 2.3205411542757135e-06\n",
      "airline_Indigo arrival_time_Night: 2.2135513562184862e-06\n",
      "destination_Chennai departure_time_Late_Night: 2.208144966995617e-06\n",
      "arrival_time_Early_Morning duration_range_Medium: 1.9922138808331506e-06\n",
      "airline_GO_FIRST duration_range_Medium: 1.8315582988053315e-06\n",
      "destination_Delhi arrival_time_Early_Morning: 1.7723779185249069e-06\n",
      "origin_Kolkata departure_time_Night: 1.6941172107435333e-06\n",
      "arrival_time_Late_Night departure_time_Evening: 1.6615730346095481e-06\n",
      "airline_SpiceJet origin_Kolkata: 1.5910613461623217e-06\n",
      "airline_GO_FIRST origin_Delhi: 1.5809428915430282e-06\n",
      "airline_Air_India duration_range_Medium: 1.5796450586551623e-06\n",
      "airline_GO_FIRST arrival_time_Night: 1.5717196972995211e-06\n",
      "stops airline_SpiceJet: 1.569024146849852e-06\n",
      "departure_time_Late_Night duration_range_Very Long: 1.559878017757933e-06\n",
      "destination_Delhi departure_time_Late_Night: 1.4265725855006632e-06\n",
      "origin_Chennai arrival_time_Late_Night: 1.4011525052253953e-06\n",
      "arrival_time_Late_Night departure_time_Morning: 1.3955086314107387e-06\n",
      "destination_Mumbai arrival_time_Late_Night: 1.3884146411336302e-06\n",
      "airline_Indigo departure_time_Evening: 1.368581116170452e-06\n",
      "destination_Delhi airline_Air_India: 1.3302374646993233e-06\n",
      "origin_Kolkata arrival_time_Late_Night: 1.3248795961918903e-06\n",
      "destination_Bangalore airline_Indigo: 1.2893899547896122e-06\n",
      "origin_Hyderabad arrival_time_Late_Night: 1.2847788741404505e-06\n",
      "departure_time_encoded airline_SpiceJet: 1.2412040700343197e-06\n",
      "destination_Kolkata airline_GO_FIRST: 1.233421019140135e-06\n",
      "airline_Indigo departure_time_Early_Morning: 1.1835174412938222e-06\n",
      "departure_time_Night duration_range_Short: 1.1740706892120011e-06\n",
      "airline_SpiceJet origin_Delhi: 1.10820157846671e-06\n",
      "destination_Chennai arrival_time_Late_Night: 1.073721432266635e-06\n",
      "airline_Indigo arrival_time_Morning: 1.0585042168658332e-06\n",
      "airline_SpiceJet: 1.0380621412221372e-06\n",
      "arrival_time_Early_Morning departure_time_Night: 9.857798579375264e-07\n",
      "airline_Indigo duration_range_Short: 9.643584623602183e-07\n",
      "airline_Indigo departure_time_Night: 9.359797775627969e-07\n",
      "airline_GO_FIRST origin_Chennai: 9.277488975179056e-07\n",
      "airline_GO_FIRST origin_Hyderabad: 9.201200388049433e-07\n",
      "arrival_time_Late_Night departure_time_Night: 9.09780119655328e-07\n",
      "arrival_time_Late_Night duration_range_Very Long: 8.755748945832528e-07\n",
      "airline_SpiceJet^2: 8.519757291995444e-07\n",
      "destination_Mumbai airline_GO_FIRST: 8.419716638965125e-07\n",
      "duration_range_encoded airline_GO_FIRST: 8.208504327917047e-07\n",
      "airline_GO_FIRST arrival_time_Evening: 8.178325325545135e-07\n",
      "airline_GO_FIRST origin_Mumbai: 8.109280057932403e-07\n",
      "class airline_Vistara: 7.942950364298721e-07\n",
      "airline_Vistara arrival_time_Late_Night: 7.924317395078854e-07\n",
      "airline_Indigo arrival_time_Late_Night: 7.540741921136484e-07\n",
      "duration_range_encoded airline_Indigo: 7.414619813562362e-07\n",
      "arrival_time_Early_Morning duration_range_Short: 6.496133124195694e-07\n",
      "airline_GO_FIRST arrival_time_Morning: 6.491554969512576e-07\n",
      "arrival_time_Late_Night departure_time_Early_Morning: 6.184827477293377e-07\n",
      "airline_SpiceJet arrival_time_Evening: 5.831841916765995e-07\n",
      "airline_GO_FIRST departure_time_Evening: 5.6600623922436e-07\n",
      "destination_Hyderabad airline_SpiceJet: 5.536149301124699e-07\n",
      "arrival_time_Early_Morning departure_time_Morning: 5.430892463909459e-07\n",
      "destination_Chennai airline_GO_FIRST: 5.286158252175456e-07\n",
      "duration_range_encoded airline_SpiceJet: 5.249464837147261e-07\n",
      "airline_SpiceJet departure_time_Night: 5.226160461946929e-07\n",
      "airline_Indigo duration_range_Medium: 5.079874183381226e-07\n",
      "airline_GO_FIRST duration_range_Short: 5.026711380131493e-07\n",
      "arrival_time_Evening departure_time_Late_Night: 4.939591636621097e-07\n",
      "airline_SpiceJet arrival_time_Early_Morning: 4.825438028873906e-07\n",
      "airline_SpiceJet duration_range_Short: 4.5163387958950043e-07\n",
      "arrival_time_Night departure_time_Late_Night: 4.505836309505371e-07\n",
      "airline_SpiceJet origin_Chennai: 4.431535425963235e-07\n",
      "airline_GO_FIRST arrival_time_Late_Night: 4.3355341347350477e-07\n",
      "destination_Mumbai departure_time_Late_Night: 4.0535033551119456e-07\n",
      "airline_SpiceJet duration_range_Medium: 4.0348719436843737e-07\n",
      "airline_Indigo arrival_time_Early_Morning: 3.850192676590281e-07\n",
      "destination_Hyderabad arrival_time_Late_Night: 3.6887630332477704e-07\n",
      "destination_Bangalore airline_SpiceJet: 3.6207893580933556e-07\n",
      "airline_SpiceJet arrival_time_Night: 3.362078200793278e-07\n",
      "airline_SpiceJet departure_time_Evening: 3.321316997913952e-07\n",
      "destination_Delhi airline_GO_FIRST: 3.221099778006029e-07\n",
      "destination_Kolkata arrival_time_Late_Night: 3.0883853335286056e-07\n",
      "destination_Mumbai airline_SpiceJet: 3.081920527882054e-07\n",
      "destination_Hyderabad airline_GO_FIRST: 3.0555439003830216e-07\n",
      "airline_SpiceJet arrival_time_Morning: 2.9023618445299196e-07\n",
      "airline_SpiceJet departure_time_Morning: 2.7992395944353906e-07\n",
      "airline_SpiceJet departure_time_Early_Morning: 2.723578194547338e-07\n",
      "destination_Chennai airline_SpiceJet: 2.6240822051143223e-07\n",
      "destination_Delhi airline_SpiceJet: 2.6090137514578837e-07\n",
      "airline_GO_FIRST departure_time_Night: 2.493629598211968e-07\n",
      "airline_GO_FIRST departure_time_Early_Morning: 2.310024712408181e-07\n",
      "airline_Indigo departure_time_Late_Night: 2.208483843711296e-07\n",
      "departure_time_Late_Night duration_range_Short: 2.094915601356177e-07\n",
      "origin_Hyderabad departure_time_Late_Night: 2.0228301364736484e-07\n",
      "airline_SpiceJet origin_Hyderabad: 1.9613510168570157e-07\n",
      "airline_SpiceJet origin_Mumbai: 1.944231538783066e-07\n",
      "destination_Kolkata airline_SpiceJet: 1.7152522001691554e-07\n",
      "airline_GO_FIRST arrival_time_Early_Morning: 1.2141990502201998e-07\n",
      "departure_time_Late_Night duration_range_Medium: 1.178906163588294e-07\n",
      "arrival_time_Early_Morning departure_time_Late_Night: 1.0389576136089778e-07\n",
      "airline_GO_FIRST duration_range_Very Long: 8.984593331581814e-08\n",
      "origin_Mumbai departure_time_Late_Night: 7.618537499683828e-08\n",
      "arrival_time_Morning departure_time_Late_Night: 5.990757357576241e-08\n",
      "destination_Kolkata departure_time_Late_Night: 5.96870855110423e-08\n",
      "airline_SpiceJet duration_range_Very Long: 4.802827968793418e-08\n",
      "origin_Chennai departure_time_Late_Night: 3.3685232410813773e-08\n",
      "airline_SpiceJet arrival_time_Late_Night: 2.595157512764116e-08\n",
      "origin_Delhi departure_time_Late_Night: 2.5900870354242076e-08\n",
      "destination_Bangalore departure_time_Late_Night: 1.0214096234640849e-08\n",
      "arrival_time_Late_Night departure_time_Late_Night: 9.312561321536322e-09\n",
      "airline_GO_FIRST departure_time_Late_Night: 2.7671978402677278e-09\n",
      "origin_Kolkata departure_time_Late_Night: 1.703365230270591e-09\n",
      "1: 0.0\n",
      "class airline_GO_FIRST: 0.0\n",
      "class airline_Indigo: 0.0\n",
      "class airline_SpiceJet: 0.0\n",
      "duration_range_encoded duration_range_Short: 0.0\n",
      "destination_Bangalore destination_Chennai: 0.0\n",
      "destination_Bangalore destination_Delhi: 0.0\n",
      "destination_Bangalore destination_Hyderabad: 0.0\n",
      "destination_Bangalore destination_Kolkata: 0.0\n",
      "destination_Bangalore destination_Mumbai: 0.0\n",
      "destination_Chennai destination_Delhi: 0.0\n",
      "destination_Chennai destination_Hyderabad: 0.0\n",
      "destination_Chennai destination_Kolkata: 0.0\n",
      "destination_Chennai destination_Mumbai: 0.0\n",
      "destination_Chennai origin_Chennai: 0.0\n",
      "destination_Delhi destination_Hyderabad: 0.0\n",
      "destination_Delhi destination_Kolkata: 0.0\n",
      "destination_Delhi destination_Mumbai: 0.0\n",
      "destination_Delhi origin_Delhi: 0.0\n",
      "destination_Hyderabad destination_Kolkata: 0.0\n",
      "destination_Hyderabad destination_Mumbai: 0.0\n",
      "destination_Hyderabad origin_Hyderabad: 0.0\n",
      "destination_Kolkata destination_Mumbai: 0.0\n",
      "destination_Kolkata origin_Kolkata: 0.0\n",
      "destination_Mumbai origin_Mumbai: 0.0\n",
      "airline_Air_India airline_GO_FIRST: 0.0\n",
      "airline_Air_India airline_Indigo: 0.0\n",
      "airline_Air_India airline_SpiceJet: 0.0\n",
      "airline_Air_India airline_Vistara: 0.0\n",
      "airline_GO_FIRST airline_Indigo: 0.0\n",
      "airline_GO_FIRST airline_SpiceJet: 0.0\n",
      "airline_GO_FIRST airline_Vistara: 0.0\n",
      "airline_Indigo airline_SpiceJet: 0.0\n",
      "airline_Indigo airline_Vistara: 0.0\n",
      "airline_Indigo duration_range_Very Long: 0.0\n",
      "airline_SpiceJet airline_Vistara: 0.0\n",
      "airline_SpiceJet departure_time_Late_Night: 0.0\n",
      "airline_Vistara departure_time_Late_Night: 0.0\n",
      "origin_Chennai origin_Delhi: 0.0\n",
      "origin_Chennai origin_Hyderabad: 0.0\n",
      "origin_Chennai origin_Kolkata: 0.0\n",
      "origin_Chennai origin_Mumbai: 0.0\n",
      "origin_Delhi origin_Hyderabad: 0.0\n",
      "origin_Delhi origin_Kolkata: 0.0\n",
      "origin_Delhi origin_Mumbai: 0.0\n",
      "origin_Hyderabad origin_Kolkata: 0.0\n",
      "origin_Hyderabad origin_Mumbai: 0.0\n",
      "origin_Kolkata origin_Mumbai: 0.0\n",
      "arrival_time_Early_Morning arrival_time_Evening: 0.0\n",
      "arrival_time_Early_Morning arrival_time_Late_Night: 0.0\n",
      "arrival_time_Early_Morning arrival_time_Morning: 0.0\n",
      "arrival_time_Early_Morning arrival_time_Night: 0.0\n",
      "arrival_time_Evening arrival_time_Late_Night: 0.0\n",
      "arrival_time_Evening arrival_time_Morning: 0.0\n",
      "arrival_time_Evening arrival_time_Night: 0.0\n",
      "arrival_time_Late_Night arrival_time_Morning: 0.0\n",
      "arrival_time_Late_Night arrival_time_Night: 0.0\n",
      "arrival_time_Morning arrival_time_Night: 0.0\n",
      "departure_time_Early_Morning departure_time_Evening: 0.0\n",
      "departure_time_Early_Morning departure_time_Late_Night: 0.0\n",
      "departure_time_Early_Morning departure_time_Morning: 0.0\n",
      "departure_time_Early_Morning departure_time_Night: 0.0\n",
      "departure_time_Evening departure_time_Late_Night: 0.0\n",
      "departure_time_Evening departure_time_Morning: 0.0\n",
      "departure_time_Evening departure_time_Night: 0.0\n",
      "departure_time_Late_Night departure_time_Morning: 0.0\n",
      "departure_time_Late_Night departure_time_Night: 0.0\n",
      "departure_time_Morning departure_time_Night: 0.0\n",
      "duration_range_Medium duration_range_Short: 0.0\n",
      "duration_range_Medium duration_range_Very Long: 0.0\n",
      "duration_range_Short duration_range_Very Long: 0.0\n"
     ]
    }
   ],
   "source": [
    "# Print feature importance\n",
    "for feature, importance in sorted_feature_importance:\n",
    "    print(f\"{feature}: {importance}\")"
   ]
  },
  {
   "cell_type": "markdown",
   "metadata": {},
   "source": [
    "**Interpretation:**\n",
    "\n",
    "To answer the project question, what features are crucial for predicting optimal timeframes for lower-priced flights, we utilized the most optimal model and analyzed the feature importance. The output of the code provides the importance scores for each feature in predicting flight prices using a RandomForestRegressor with polynomial features. The importance scores are normalized values that indicate the contribution of each feature to the model's predictive performance.\n",
    "\n",
    "- The most crucial feature for predicting flight prices is duration, with a high importance score of 0.9287. This suggests that the duration of the flight significantly influences the pricing.\n",
    "- Coming second is the the interaction between duration and flights operated by Vistara. After that comes the interaction between the number of stops and duration, which has a smaller but still notable importance.\n",
    "\n",
    "In summary, the crucial feature for predicting optimal timeframes for lower-priced flights is duration. This implies that the duration of the flight is a significant factor influencing the pricing of flights. Travelers looking for lower-priced flights may find it beneficial to consider the duration of the flights, suggesting that shorter durations might be associated with lower prices. Additionally, interactions with airline types and other features also contribute to the pricing model."
   ]
  },
  {
   "cell_type": "markdown",
   "metadata": {},
   "source": [
    "**How generalizable are the insights derived from this specific dataset to other airports or travel scenarios?**"
   ]
  },
  {
   "cell_type": "markdown",
   "metadata": {},
   "source": [
    "Optimal model (Random Forest):\n",
    "- Training Score: 0.9793\n",
    "- Testing Score: 0.9754\n",
    "- RMSE Score: 42.754946001290214\n",
    "The training and testing scores for the Random Forest model indicate that the model performs well on the specific dataset used for training and testing. However, to get a better sense to determine the generalizability of the insights to other airports or travel scenarios, cross-validation will also be utilized. "
   ]
  },
  {
   "cell_type": "code",
   "execution_count": 42,
   "metadata": {
    "tags": []
   },
   "outputs": [
    {
     "ename": "KeyboardInterrupt",
     "evalue": "",
     "output_type": "error",
     "traceback": [
      "\u001b[0;31m---------------------------------------------------------------------------\u001b[0m",
      "\u001b[0;31mKeyboardInterrupt\u001b[0m                         Traceback (most recent call last)",
      "Cell \u001b[0;32mIn[42], line 4\u001b[0m\n\u001b[1;32m      1\u001b[0m kf \u001b[38;5;241m=\u001b[39m KFold(n_splits\u001b[38;5;241m=\u001b[39m\u001b[38;5;241m5\u001b[39m, shuffle\u001b[38;5;241m=\u001b[39m\u001b[38;5;28;01mTrue\u001b[39;00m, random_state\u001b[38;5;241m=\u001b[39m\u001b[38;5;241m42\u001b[39m) \n\u001b[1;32m      3\u001b[0m \u001b[38;5;66;03m# Perform cross-validation\u001b[39;00m\n\u001b[0;32m----> 4\u001b[0m cross_val_results \u001b[38;5;241m=\u001b[39m cross_val_score(rf, X_poly, y, cv\u001b[38;5;241m=\u001b[39mkf)\n\u001b[1;32m      5\u001b[0m \u001b[38;5;28mprint\u001b[39m(\u001b[38;5;124mf\u001b[39m\u001b[38;5;124m\"\u001b[39m\u001b[38;5;124mCross-Validation Results: \u001b[39m\u001b[38;5;132;01m{\u001b[39;00mcross_val_results\u001b[38;5;132;01m}\u001b[39;00m\u001b[38;5;124m\"\u001b[39m)\n\u001b[1;32m      6\u001b[0m \u001b[38;5;28mprint\u001b[39m(\u001b[38;5;124mf\u001b[39m\u001b[38;5;124m\"\u001b[39m\u001b[38;5;124mMean CV Score: \u001b[39m\u001b[38;5;132;01m{\u001b[39;00mcross_val_results\u001b[38;5;241m.\u001b[39mmean()\u001b[38;5;132;01m}\u001b[39;00m\u001b[38;5;124m\"\u001b[39m)\n",
      "File \u001b[0;32m~/anaconda3/lib/python3.11/site-packages/sklearn/model_selection/_validation.py:562\u001b[0m, in \u001b[0;36mcross_val_score\u001b[0;34m(estimator, X, y, groups, scoring, cv, n_jobs, verbose, fit_params, pre_dispatch, error_score)\u001b[0m\n\u001b[1;32m    559\u001b[0m \u001b[38;5;66;03m# To ensure multimetric format is not supported\u001b[39;00m\n\u001b[1;32m    560\u001b[0m scorer \u001b[38;5;241m=\u001b[39m check_scoring(estimator, scoring\u001b[38;5;241m=\u001b[39mscoring)\n\u001b[0;32m--> 562\u001b[0m cv_results \u001b[38;5;241m=\u001b[39m cross_validate(\n\u001b[1;32m    563\u001b[0m     estimator\u001b[38;5;241m=\u001b[39mestimator,\n\u001b[1;32m    564\u001b[0m     X\u001b[38;5;241m=\u001b[39mX,\n\u001b[1;32m    565\u001b[0m     y\u001b[38;5;241m=\u001b[39my,\n\u001b[1;32m    566\u001b[0m     groups\u001b[38;5;241m=\u001b[39mgroups,\n\u001b[1;32m    567\u001b[0m     scoring\u001b[38;5;241m=\u001b[39m{\u001b[38;5;124m\"\u001b[39m\u001b[38;5;124mscore\u001b[39m\u001b[38;5;124m\"\u001b[39m: scorer},\n\u001b[1;32m    568\u001b[0m     cv\u001b[38;5;241m=\u001b[39mcv,\n\u001b[1;32m    569\u001b[0m     n_jobs\u001b[38;5;241m=\u001b[39mn_jobs,\n\u001b[1;32m    570\u001b[0m     verbose\u001b[38;5;241m=\u001b[39mverbose,\n\u001b[1;32m    571\u001b[0m     fit_params\u001b[38;5;241m=\u001b[39mfit_params,\n\u001b[1;32m    572\u001b[0m     pre_dispatch\u001b[38;5;241m=\u001b[39mpre_dispatch,\n\u001b[1;32m    573\u001b[0m     error_score\u001b[38;5;241m=\u001b[39merror_score,\n\u001b[1;32m    574\u001b[0m )\n\u001b[1;32m    575\u001b[0m \u001b[38;5;28;01mreturn\u001b[39;00m cv_results[\u001b[38;5;124m\"\u001b[39m\u001b[38;5;124mtest_score\u001b[39m\u001b[38;5;124m\"\u001b[39m]\n",
      "File \u001b[0;32m~/anaconda3/lib/python3.11/site-packages/sklearn/utils/_param_validation.py:211\u001b[0m, in \u001b[0;36mvalidate_params.<locals>.decorator.<locals>.wrapper\u001b[0;34m(*args, **kwargs)\u001b[0m\n\u001b[1;32m    205\u001b[0m \u001b[38;5;28;01mtry\u001b[39;00m:\n\u001b[1;32m    206\u001b[0m     \u001b[38;5;28;01mwith\u001b[39;00m config_context(\n\u001b[1;32m    207\u001b[0m         skip_parameter_validation\u001b[38;5;241m=\u001b[39m(\n\u001b[1;32m    208\u001b[0m             prefer_skip_nested_validation \u001b[38;5;129;01mor\u001b[39;00m global_skip_validation\n\u001b[1;32m    209\u001b[0m         )\n\u001b[1;32m    210\u001b[0m     ):\n\u001b[0;32m--> 211\u001b[0m         \u001b[38;5;28;01mreturn\u001b[39;00m func(\u001b[38;5;241m*\u001b[39margs, \u001b[38;5;241m*\u001b[39m\u001b[38;5;241m*\u001b[39mkwargs)\n\u001b[1;32m    212\u001b[0m \u001b[38;5;28;01mexcept\u001b[39;00m InvalidParameterError \u001b[38;5;28;01mas\u001b[39;00m e:\n\u001b[1;32m    213\u001b[0m     \u001b[38;5;66;03m# When the function is just a wrapper around an estimator, we allow\u001b[39;00m\n\u001b[1;32m    214\u001b[0m     \u001b[38;5;66;03m# the function to delegate validation to the estimator, but we replace\u001b[39;00m\n\u001b[1;32m    215\u001b[0m     \u001b[38;5;66;03m# the name of the estimator by the name of the function in the error\u001b[39;00m\n\u001b[1;32m    216\u001b[0m     \u001b[38;5;66;03m# message to avoid confusion.\u001b[39;00m\n\u001b[1;32m    217\u001b[0m     msg \u001b[38;5;241m=\u001b[39m re\u001b[38;5;241m.\u001b[39msub(\n\u001b[1;32m    218\u001b[0m         \u001b[38;5;124mr\u001b[39m\u001b[38;5;124m\"\u001b[39m\u001b[38;5;124mparameter of \u001b[39m\u001b[38;5;124m\\\u001b[39m\u001b[38;5;124mw+ must be\u001b[39m\u001b[38;5;124m\"\u001b[39m,\n\u001b[1;32m    219\u001b[0m         \u001b[38;5;124mf\u001b[39m\u001b[38;5;124m\"\u001b[39m\u001b[38;5;124mparameter of \u001b[39m\u001b[38;5;132;01m{\u001b[39;00mfunc\u001b[38;5;241m.\u001b[39m\u001b[38;5;18m__qualname__\u001b[39m\u001b[38;5;132;01m}\u001b[39;00m\u001b[38;5;124m must be\u001b[39m\u001b[38;5;124m\"\u001b[39m,\n\u001b[1;32m    220\u001b[0m         \u001b[38;5;28mstr\u001b[39m(e),\n\u001b[1;32m    221\u001b[0m     )\n",
      "File \u001b[0;32m~/anaconda3/lib/python3.11/site-packages/sklearn/model_selection/_validation.py:309\u001b[0m, in \u001b[0;36mcross_validate\u001b[0;34m(estimator, X, y, groups, scoring, cv, n_jobs, verbose, fit_params, pre_dispatch, return_train_score, return_estimator, return_indices, error_score)\u001b[0m\n\u001b[1;32m    306\u001b[0m \u001b[38;5;66;03m# We clone the estimator to make sure that all the folds are\u001b[39;00m\n\u001b[1;32m    307\u001b[0m \u001b[38;5;66;03m# independent, and that it is pickle-able.\u001b[39;00m\n\u001b[1;32m    308\u001b[0m parallel \u001b[38;5;241m=\u001b[39m Parallel(n_jobs\u001b[38;5;241m=\u001b[39mn_jobs, verbose\u001b[38;5;241m=\u001b[39mverbose, pre_dispatch\u001b[38;5;241m=\u001b[39mpre_dispatch)\n\u001b[0;32m--> 309\u001b[0m results \u001b[38;5;241m=\u001b[39m parallel(\n\u001b[1;32m    310\u001b[0m     delayed(_fit_and_score)(\n\u001b[1;32m    311\u001b[0m         clone(estimator),\n\u001b[1;32m    312\u001b[0m         X,\n\u001b[1;32m    313\u001b[0m         y,\n\u001b[1;32m    314\u001b[0m         scorers,\n\u001b[1;32m    315\u001b[0m         train,\n\u001b[1;32m    316\u001b[0m         test,\n\u001b[1;32m    317\u001b[0m         verbose,\n\u001b[1;32m    318\u001b[0m         \u001b[38;5;28;01mNone\u001b[39;00m,\n\u001b[1;32m    319\u001b[0m         fit_params,\n\u001b[1;32m    320\u001b[0m         return_train_score\u001b[38;5;241m=\u001b[39mreturn_train_score,\n\u001b[1;32m    321\u001b[0m         return_times\u001b[38;5;241m=\u001b[39m\u001b[38;5;28;01mTrue\u001b[39;00m,\n\u001b[1;32m    322\u001b[0m         return_estimator\u001b[38;5;241m=\u001b[39mreturn_estimator,\n\u001b[1;32m    323\u001b[0m         error_score\u001b[38;5;241m=\u001b[39merror_score,\n\u001b[1;32m    324\u001b[0m     )\n\u001b[1;32m    325\u001b[0m     \u001b[38;5;28;01mfor\u001b[39;00m train, test \u001b[38;5;129;01min\u001b[39;00m indices\n\u001b[1;32m    326\u001b[0m )\n\u001b[1;32m    328\u001b[0m _warn_or_raise_about_fit_failures(results, error_score)\n\u001b[1;32m    330\u001b[0m \u001b[38;5;66;03m# For callable scoring, the return type is only know after calling. If the\u001b[39;00m\n\u001b[1;32m    331\u001b[0m \u001b[38;5;66;03m# return type is a dictionary, the error scores can now be inserted with\u001b[39;00m\n\u001b[1;32m    332\u001b[0m \u001b[38;5;66;03m# the correct key.\u001b[39;00m\n",
      "File \u001b[0;32m~/anaconda3/lib/python3.11/site-packages/sklearn/utils/parallel.py:65\u001b[0m, in \u001b[0;36mParallel.__call__\u001b[0;34m(self, iterable)\u001b[0m\n\u001b[1;32m     60\u001b[0m config \u001b[38;5;241m=\u001b[39m get_config()\n\u001b[1;32m     61\u001b[0m iterable_with_config \u001b[38;5;241m=\u001b[39m (\n\u001b[1;32m     62\u001b[0m     (_with_config(delayed_func, config), args, kwargs)\n\u001b[1;32m     63\u001b[0m     \u001b[38;5;28;01mfor\u001b[39;00m delayed_func, args, kwargs \u001b[38;5;129;01min\u001b[39;00m iterable\n\u001b[1;32m     64\u001b[0m )\n\u001b[0;32m---> 65\u001b[0m \u001b[38;5;28;01mreturn\u001b[39;00m \u001b[38;5;28msuper\u001b[39m()\u001b[38;5;241m.\u001b[39m\u001b[38;5;21m__call__\u001b[39m(iterable_with_config)\n",
      "File \u001b[0;32m~/anaconda3/lib/python3.11/site-packages/joblib/parallel.py:1085\u001b[0m, in \u001b[0;36mParallel.__call__\u001b[0;34m(self, iterable)\u001b[0m\n\u001b[1;32m   1076\u001b[0m \u001b[38;5;28;01mtry\u001b[39;00m:\n\u001b[1;32m   1077\u001b[0m     \u001b[38;5;66;03m# Only set self._iterating to True if at least a batch\u001b[39;00m\n\u001b[1;32m   1078\u001b[0m     \u001b[38;5;66;03m# was dispatched. In particular this covers the edge\u001b[39;00m\n\u001b[0;32m   (...)\u001b[0m\n\u001b[1;32m   1082\u001b[0m     \u001b[38;5;66;03m# was very quick and its callback already dispatched all the\u001b[39;00m\n\u001b[1;32m   1083\u001b[0m     \u001b[38;5;66;03m# remaining jobs.\u001b[39;00m\n\u001b[1;32m   1084\u001b[0m     \u001b[38;5;28mself\u001b[39m\u001b[38;5;241m.\u001b[39m_iterating \u001b[38;5;241m=\u001b[39m \u001b[38;5;28;01mFalse\u001b[39;00m\n\u001b[0;32m-> 1085\u001b[0m     \u001b[38;5;28;01mif\u001b[39;00m \u001b[38;5;28mself\u001b[39m\u001b[38;5;241m.\u001b[39mdispatch_one_batch(iterator):\n\u001b[1;32m   1086\u001b[0m         \u001b[38;5;28mself\u001b[39m\u001b[38;5;241m.\u001b[39m_iterating \u001b[38;5;241m=\u001b[39m \u001b[38;5;28mself\u001b[39m\u001b[38;5;241m.\u001b[39m_original_iterator \u001b[38;5;129;01mis\u001b[39;00m \u001b[38;5;129;01mnot\u001b[39;00m \u001b[38;5;28;01mNone\u001b[39;00m\n\u001b[1;32m   1088\u001b[0m     \u001b[38;5;28;01mwhile\u001b[39;00m \u001b[38;5;28mself\u001b[39m\u001b[38;5;241m.\u001b[39mdispatch_one_batch(iterator):\n",
      "File \u001b[0;32m~/anaconda3/lib/python3.11/site-packages/joblib/parallel.py:901\u001b[0m, in \u001b[0;36mParallel.dispatch_one_batch\u001b[0;34m(self, iterator)\u001b[0m\n\u001b[1;32m    899\u001b[0m     \u001b[38;5;28;01mreturn\u001b[39;00m \u001b[38;5;28;01mFalse\u001b[39;00m\n\u001b[1;32m    900\u001b[0m \u001b[38;5;28;01melse\u001b[39;00m:\n\u001b[0;32m--> 901\u001b[0m     \u001b[38;5;28mself\u001b[39m\u001b[38;5;241m.\u001b[39m_dispatch(tasks)\n\u001b[1;32m    902\u001b[0m     \u001b[38;5;28;01mreturn\u001b[39;00m \u001b[38;5;28;01mTrue\u001b[39;00m\n",
      "File \u001b[0;32m~/anaconda3/lib/python3.11/site-packages/joblib/parallel.py:819\u001b[0m, in \u001b[0;36mParallel._dispatch\u001b[0;34m(self, batch)\u001b[0m\n\u001b[1;32m    817\u001b[0m \u001b[38;5;28;01mwith\u001b[39;00m \u001b[38;5;28mself\u001b[39m\u001b[38;5;241m.\u001b[39m_lock:\n\u001b[1;32m    818\u001b[0m     job_idx \u001b[38;5;241m=\u001b[39m \u001b[38;5;28mlen\u001b[39m(\u001b[38;5;28mself\u001b[39m\u001b[38;5;241m.\u001b[39m_jobs)\n\u001b[0;32m--> 819\u001b[0m     job \u001b[38;5;241m=\u001b[39m \u001b[38;5;28mself\u001b[39m\u001b[38;5;241m.\u001b[39m_backend\u001b[38;5;241m.\u001b[39mapply_async(batch, callback\u001b[38;5;241m=\u001b[39mcb)\n\u001b[1;32m    820\u001b[0m     \u001b[38;5;66;03m# A job can complete so quickly than its callback is\u001b[39;00m\n\u001b[1;32m    821\u001b[0m     \u001b[38;5;66;03m# called before we get here, causing self._jobs to\u001b[39;00m\n\u001b[1;32m    822\u001b[0m     \u001b[38;5;66;03m# grow. To ensure correct results ordering, .insert is\u001b[39;00m\n\u001b[1;32m    823\u001b[0m     \u001b[38;5;66;03m# used (rather than .append) in the following line\u001b[39;00m\n\u001b[1;32m    824\u001b[0m     \u001b[38;5;28mself\u001b[39m\u001b[38;5;241m.\u001b[39m_jobs\u001b[38;5;241m.\u001b[39minsert(job_idx, job)\n",
      "File \u001b[0;32m~/anaconda3/lib/python3.11/site-packages/joblib/_parallel_backends.py:208\u001b[0m, in \u001b[0;36mSequentialBackend.apply_async\u001b[0;34m(self, func, callback)\u001b[0m\n\u001b[1;32m    206\u001b[0m \u001b[38;5;28;01mdef\u001b[39;00m \u001b[38;5;21mapply_async\u001b[39m(\u001b[38;5;28mself\u001b[39m, func, callback\u001b[38;5;241m=\u001b[39m\u001b[38;5;28;01mNone\u001b[39;00m):\n\u001b[1;32m    207\u001b[0m \u001b[38;5;250m    \u001b[39m\u001b[38;5;124;03m\"\"\"Schedule a func to be run\"\"\"\u001b[39;00m\n\u001b[0;32m--> 208\u001b[0m     result \u001b[38;5;241m=\u001b[39m ImmediateResult(func)\n\u001b[1;32m    209\u001b[0m     \u001b[38;5;28;01mif\u001b[39;00m callback:\n\u001b[1;32m    210\u001b[0m         callback(result)\n",
      "File \u001b[0;32m~/anaconda3/lib/python3.11/site-packages/joblib/_parallel_backends.py:597\u001b[0m, in \u001b[0;36mImmediateResult.__init__\u001b[0;34m(self, batch)\u001b[0m\n\u001b[1;32m    594\u001b[0m \u001b[38;5;28;01mdef\u001b[39;00m \u001b[38;5;21m__init__\u001b[39m(\u001b[38;5;28mself\u001b[39m, batch):\n\u001b[1;32m    595\u001b[0m     \u001b[38;5;66;03m# Don't delay the application, to avoid keeping the input\u001b[39;00m\n\u001b[1;32m    596\u001b[0m     \u001b[38;5;66;03m# arguments in memory\u001b[39;00m\n\u001b[0;32m--> 597\u001b[0m     \u001b[38;5;28mself\u001b[39m\u001b[38;5;241m.\u001b[39mresults \u001b[38;5;241m=\u001b[39m batch()\n",
      "File \u001b[0;32m~/anaconda3/lib/python3.11/site-packages/joblib/parallel.py:288\u001b[0m, in \u001b[0;36mBatchedCalls.__call__\u001b[0;34m(self)\u001b[0m\n\u001b[1;32m    284\u001b[0m \u001b[38;5;28;01mdef\u001b[39;00m \u001b[38;5;21m__call__\u001b[39m(\u001b[38;5;28mself\u001b[39m):\n\u001b[1;32m    285\u001b[0m     \u001b[38;5;66;03m# Set the default nested backend to self._backend but do not set the\u001b[39;00m\n\u001b[1;32m    286\u001b[0m     \u001b[38;5;66;03m# change the default number of processes to -1\u001b[39;00m\n\u001b[1;32m    287\u001b[0m     \u001b[38;5;28;01mwith\u001b[39;00m parallel_backend(\u001b[38;5;28mself\u001b[39m\u001b[38;5;241m.\u001b[39m_backend, n_jobs\u001b[38;5;241m=\u001b[39m\u001b[38;5;28mself\u001b[39m\u001b[38;5;241m.\u001b[39m_n_jobs):\n\u001b[0;32m--> 288\u001b[0m         \u001b[38;5;28;01mreturn\u001b[39;00m [func(\u001b[38;5;241m*\u001b[39margs, \u001b[38;5;241m*\u001b[39m\u001b[38;5;241m*\u001b[39mkwargs)\n\u001b[1;32m    289\u001b[0m                 \u001b[38;5;28;01mfor\u001b[39;00m func, args, kwargs \u001b[38;5;129;01min\u001b[39;00m \u001b[38;5;28mself\u001b[39m\u001b[38;5;241m.\u001b[39mitems]\n",
      "File \u001b[0;32m~/anaconda3/lib/python3.11/site-packages/joblib/parallel.py:288\u001b[0m, in \u001b[0;36m<listcomp>\u001b[0;34m(.0)\u001b[0m\n\u001b[1;32m    284\u001b[0m \u001b[38;5;28;01mdef\u001b[39;00m \u001b[38;5;21m__call__\u001b[39m(\u001b[38;5;28mself\u001b[39m):\n\u001b[1;32m    285\u001b[0m     \u001b[38;5;66;03m# Set the default nested backend to self._backend but do not set the\u001b[39;00m\n\u001b[1;32m    286\u001b[0m     \u001b[38;5;66;03m# change the default number of processes to -1\u001b[39;00m\n\u001b[1;32m    287\u001b[0m     \u001b[38;5;28;01mwith\u001b[39;00m parallel_backend(\u001b[38;5;28mself\u001b[39m\u001b[38;5;241m.\u001b[39m_backend, n_jobs\u001b[38;5;241m=\u001b[39m\u001b[38;5;28mself\u001b[39m\u001b[38;5;241m.\u001b[39m_n_jobs):\n\u001b[0;32m--> 288\u001b[0m         \u001b[38;5;28;01mreturn\u001b[39;00m [func(\u001b[38;5;241m*\u001b[39margs, \u001b[38;5;241m*\u001b[39m\u001b[38;5;241m*\u001b[39mkwargs)\n\u001b[1;32m    289\u001b[0m                 \u001b[38;5;28;01mfor\u001b[39;00m func, args, kwargs \u001b[38;5;129;01min\u001b[39;00m \u001b[38;5;28mself\u001b[39m\u001b[38;5;241m.\u001b[39mitems]\n",
      "File \u001b[0;32m~/anaconda3/lib/python3.11/site-packages/sklearn/utils/parallel.py:127\u001b[0m, in \u001b[0;36m_FuncWrapper.__call__\u001b[0;34m(self, *args, **kwargs)\u001b[0m\n\u001b[1;32m    125\u001b[0m     config \u001b[38;5;241m=\u001b[39m {}\n\u001b[1;32m    126\u001b[0m \u001b[38;5;28;01mwith\u001b[39;00m config_context(\u001b[38;5;241m*\u001b[39m\u001b[38;5;241m*\u001b[39mconfig):\n\u001b[0;32m--> 127\u001b[0m     \u001b[38;5;28;01mreturn\u001b[39;00m \u001b[38;5;28mself\u001b[39m\u001b[38;5;241m.\u001b[39mfunction(\u001b[38;5;241m*\u001b[39margs, \u001b[38;5;241m*\u001b[39m\u001b[38;5;241m*\u001b[39mkwargs)\n",
      "File \u001b[0;32m~/anaconda3/lib/python3.11/site-packages/sklearn/model_selection/_validation.py:732\u001b[0m, in \u001b[0;36m_fit_and_score\u001b[0;34m(estimator, X, y, scorer, train, test, verbose, parameters, fit_params, return_train_score, return_parameters, return_n_test_samples, return_times, return_estimator, split_progress, candidate_progress, error_score)\u001b[0m\n\u001b[1;32m    730\u001b[0m         estimator\u001b[38;5;241m.\u001b[39mfit(X_train, \u001b[38;5;241m*\u001b[39m\u001b[38;5;241m*\u001b[39mfit_params)\n\u001b[1;32m    731\u001b[0m     \u001b[38;5;28;01melse\u001b[39;00m:\n\u001b[0;32m--> 732\u001b[0m         estimator\u001b[38;5;241m.\u001b[39mfit(X_train, y_train, \u001b[38;5;241m*\u001b[39m\u001b[38;5;241m*\u001b[39mfit_params)\n\u001b[1;32m    734\u001b[0m \u001b[38;5;28;01mexcept\u001b[39;00m \u001b[38;5;167;01mException\u001b[39;00m:\n\u001b[1;32m    735\u001b[0m     \u001b[38;5;66;03m# Note fit time as time until error\u001b[39;00m\n\u001b[1;32m    736\u001b[0m     fit_time \u001b[38;5;241m=\u001b[39m time\u001b[38;5;241m.\u001b[39mtime() \u001b[38;5;241m-\u001b[39m start_time\n",
      "File \u001b[0;32m~/anaconda3/lib/python3.11/site-packages/sklearn/base.py:1151\u001b[0m, in \u001b[0;36m_fit_context.<locals>.decorator.<locals>.wrapper\u001b[0;34m(estimator, *args, **kwargs)\u001b[0m\n\u001b[1;32m   1144\u001b[0m     estimator\u001b[38;5;241m.\u001b[39m_validate_params()\n\u001b[1;32m   1146\u001b[0m \u001b[38;5;28;01mwith\u001b[39;00m config_context(\n\u001b[1;32m   1147\u001b[0m     skip_parameter_validation\u001b[38;5;241m=\u001b[39m(\n\u001b[1;32m   1148\u001b[0m         prefer_skip_nested_validation \u001b[38;5;129;01mor\u001b[39;00m global_skip_validation\n\u001b[1;32m   1149\u001b[0m     )\n\u001b[1;32m   1150\u001b[0m ):\n\u001b[0;32m-> 1151\u001b[0m     \u001b[38;5;28;01mreturn\u001b[39;00m fit_method(estimator, \u001b[38;5;241m*\u001b[39margs, \u001b[38;5;241m*\u001b[39m\u001b[38;5;241m*\u001b[39mkwargs)\n",
      "File \u001b[0;32m~/anaconda3/lib/python3.11/site-packages/sklearn/ensemble/_forest.py:456\u001b[0m, in \u001b[0;36mBaseForest.fit\u001b[0;34m(self, X, y, sample_weight)\u001b[0m\n\u001b[1;32m    445\u001b[0m trees \u001b[38;5;241m=\u001b[39m [\n\u001b[1;32m    446\u001b[0m     \u001b[38;5;28mself\u001b[39m\u001b[38;5;241m.\u001b[39m_make_estimator(append\u001b[38;5;241m=\u001b[39m\u001b[38;5;28;01mFalse\u001b[39;00m, random_state\u001b[38;5;241m=\u001b[39mrandom_state)\n\u001b[1;32m    447\u001b[0m     \u001b[38;5;28;01mfor\u001b[39;00m i \u001b[38;5;129;01min\u001b[39;00m \u001b[38;5;28mrange\u001b[39m(n_more_estimators)\n\u001b[1;32m    448\u001b[0m ]\n\u001b[1;32m    450\u001b[0m \u001b[38;5;66;03m# Parallel loop: we prefer the threading backend as the Cython code\u001b[39;00m\n\u001b[1;32m    451\u001b[0m \u001b[38;5;66;03m# for fitting the trees is internally releasing the Python GIL\u001b[39;00m\n\u001b[1;32m    452\u001b[0m \u001b[38;5;66;03m# making threading more efficient than multiprocessing in\u001b[39;00m\n\u001b[1;32m    453\u001b[0m \u001b[38;5;66;03m# that case. However, for joblib 0.12+ we respect any\u001b[39;00m\n\u001b[1;32m    454\u001b[0m \u001b[38;5;66;03m# parallel_backend contexts set at a higher level,\u001b[39;00m\n\u001b[1;32m    455\u001b[0m \u001b[38;5;66;03m# since correctness does not rely on using threads.\u001b[39;00m\n\u001b[0;32m--> 456\u001b[0m trees \u001b[38;5;241m=\u001b[39m Parallel(\n\u001b[1;32m    457\u001b[0m     n_jobs\u001b[38;5;241m=\u001b[39m\u001b[38;5;28mself\u001b[39m\u001b[38;5;241m.\u001b[39mn_jobs,\n\u001b[1;32m    458\u001b[0m     verbose\u001b[38;5;241m=\u001b[39m\u001b[38;5;28mself\u001b[39m\u001b[38;5;241m.\u001b[39mverbose,\n\u001b[1;32m    459\u001b[0m     prefer\u001b[38;5;241m=\u001b[39m\u001b[38;5;124m\"\u001b[39m\u001b[38;5;124mthreads\u001b[39m\u001b[38;5;124m\"\u001b[39m,\n\u001b[1;32m    460\u001b[0m )(\n\u001b[1;32m    461\u001b[0m     delayed(_parallel_build_trees)(\n\u001b[1;32m    462\u001b[0m         t,\n\u001b[1;32m    463\u001b[0m         \u001b[38;5;28mself\u001b[39m\u001b[38;5;241m.\u001b[39mbootstrap,\n\u001b[1;32m    464\u001b[0m         X,\n\u001b[1;32m    465\u001b[0m         y,\n\u001b[1;32m    466\u001b[0m         sample_weight,\n\u001b[1;32m    467\u001b[0m         i,\n\u001b[1;32m    468\u001b[0m         \u001b[38;5;28mlen\u001b[39m(trees),\n\u001b[1;32m    469\u001b[0m         verbose\u001b[38;5;241m=\u001b[39m\u001b[38;5;28mself\u001b[39m\u001b[38;5;241m.\u001b[39mverbose,\n\u001b[1;32m    470\u001b[0m         class_weight\u001b[38;5;241m=\u001b[39m\u001b[38;5;28mself\u001b[39m\u001b[38;5;241m.\u001b[39mclass_weight,\n\u001b[1;32m    471\u001b[0m         n_samples_bootstrap\u001b[38;5;241m=\u001b[39mn_samples_bootstrap,\n\u001b[1;32m    472\u001b[0m     )\n\u001b[1;32m    473\u001b[0m     \u001b[38;5;28;01mfor\u001b[39;00m i, t \u001b[38;5;129;01min\u001b[39;00m \u001b[38;5;28menumerate\u001b[39m(trees)\n\u001b[1;32m    474\u001b[0m )\n\u001b[1;32m    476\u001b[0m \u001b[38;5;66;03m# Collect newly grown trees\u001b[39;00m\n\u001b[1;32m    477\u001b[0m \u001b[38;5;28mself\u001b[39m\u001b[38;5;241m.\u001b[39mestimators_\u001b[38;5;241m.\u001b[39mextend(trees)\n",
      "File \u001b[0;32m~/anaconda3/lib/python3.11/site-packages/sklearn/utils/parallel.py:65\u001b[0m, in \u001b[0;36mParallel.__call__\u001b[0;34m(self, iterable)\u001b[0m\n\u001b[1;32m     60\u001b[0m config \u001b[38;5;241m=\u001b[39m get_config()\n\u001b[1;32m     61\u001b[0m iterable_with_config \u001b[38;5;241m=\u001b[39m (\n\u001b[1;32m     62\u001b[0m     (_with_config(delayed_func, config), args, kwargs)\n\u001b[1;32m     63\u001b[0m     \u001b[38;5;28;01mfor\u001b[39;00m delayed_func, args, kwargs \u001b[38;5;129;01min\u001b[39;00m iterable\n\u001b[1;32m     64\u001b[0m )\n\u001b[0;32m---> 65\u001b[0m \u001b[38;5;28;01mreturn\u001b[39;00m \u001b[38;5;28msuper\u001b[39m()\u001b[38;5;241m.\u001b[39m\u001b[38;5;21m__call__\u001b[39m(iterable_with_config)\n",
      "File \u001b[0;32m~/anaconda3/lib/python3.11/site-packages/joblib/parallel.py:1098\u001b[0m, in \u001b[0;36mParallel.__call__\u001b[0;34m(self, iterable)\u001b[0m\n\u001b[1;32m   1095\u001b[0m     \u001b[38;5;28mself\u001b[39m\u001b[38;5;241m.\u001b[39m_iterating \u001b[38;5;241m=\u001b[39m \u001b[38;5;28;01mFalse\u001b[39;00m\n\u001b[1;32m   1097\u001b[0m \u001b[38;5;28;01mwith\u001b[39;00m \u001b[38;5;28mself\u001b[39m\u001b[38;5;241m.\u001b[39m_backend\u001b[38;5;241m.\u001b[39mretrieval_context():\n\u001b[0;32m-> 1098\u001b[0m     \u001b[38;5;28mself\u001b[39m\u001b[38;5;241m.\u001b[39mretrieve()\n\u001b[1;32m   1099\u001b[0m \u001b[38;5;66;03m# Make sure that we get a last message telling us we are done\u001b[39;00m\n\u001b[1;32m   1100\u001b[0m elapsed_time \u001b[38;5;241m=\u001b[39m time\u001b[38;5;241m.\u001b[39mtime() \u001b[38;5;241m-\u001b[39m \u001b[38;5;28mself\u001b[39m\u001b[38;5;241m.\u001b[39m_start_time\n",
      "File \u001b[0;32m~/anaconda3/lib/python3.11/site-packages/joblib/parallel.py:975\u001b[0m, in \u001b[0;36mParallel.retrieve\u001b[0;34m(self)\u001b[0m\n\u001b[1;32m    973\u001b[0m \u001b[38;5;28;01mtry\u001b[39;00m:\n\u001b[1;32m    974\u001b[0m     \u001b[38;5;28;01mif\u001b[39;00m \u001b[38;5;28mgetattr\u001b[39m(\u001b[38;5;28mself\u001b[39m\u001b[38;5;241m.\u001b[39m_backend, \u001b[38;5;124m'\u001b[39m\u001b[38;5;124msupports_timeout\u001b[39m\u001b[38;5;124m'\u001b[39m, \u001b[38;5;28;01mFalse\u001b[39;00m):\n\u001b[0;32m--> 975\u001b[0m         \u001b[38;5;28mself\u001b[39m\u001b[38;5;241m.\u001b[39m_output\u001b[38;5;241m.\u001b[39mextend(job\u001b[38;5;241m.\u001b[39mget(timeout\u001b[38;5;241m=\u001b[39m\u001b[38;5;28mself\u001b[39m\u001b[38;5;241m.\u001b[39mtimeout))\n\u001b[1;32m    976\u001b[0m     \u001b[38;5;28;01melse\u001b[39;00m:\n\u001b[1;32m    977\u001b[0m         \u001b[38;5;28mself\u001b[39m\u001b[38;5;241m.\u001b[39m_output\u001b[38;5;241m.\u001b[39mextend(job\u001b[38;5;241m.\u001b[39mget())\n",
      "File \u001b[0;32m~/anaconda3/lib/python3.11/site-packages/joblib/_parallel_backends.py:567\u001b[0m, in \u001b[0;36mLokyBackend.wrap_future_result\u001b[0;34m(future, timeout)\u001b[0m\n\u001b[1;32m    564\u001b[0m \u001b[38;5;250m\u001b[39m\u001b[38;5;124;03m\"\"\"Wrapper for Future.result to implement the same behaviour as\u001b[39;00m\n\u001b[1;32m    565\u001b[0m \u001b[38;5;124;03mAsyncResults.get from multiprocessing.\"\"\"\u001b[39;00m\n\u001b[1;32m    566\u001b[0m \u001b[38;5;28;01mtry\u001b[39;00m:\n\u001b[0;32m--> 567\u001b[0m     \u001b[38;5;28;01mreturn\u001b[39;00m future\u001b[38;5;241m.\u001b[39mresult(timeout\u001b[38;5;241m=\u001b[39mtimeout)\n\u001b[1;32m    568\u001b[0m \u001b[38;5;28;01mexcept\u001b[39;00m CfTimeoutError \u001b[38;5;28;01mas\u001b[39;00m e:\n\u001b[1;32m    569\u001b[0m     \u001b[38;5;28;01mraise\u001b[39;00m \u001b[38;5;167;01mTimeoutError\u001b[39;00m \u001b[38;5;28;01mfrom\u001b[39;00m \u001b[38;5;21;01me\u001b[39;00m\n",
      "File \u001b[0;32m~/anaconda3/lib/python3.11/concurrent/futures/_base.py:451\u001b[0m, in \u001b[0;36mFuture.result\u001b[0;34m(self, timeout)\u001b[0m\n\u001b[1;32m    448\u001b[0m \u001b[38;5;28;01melif\u001b[39;00m \u001b[38;5;28mself\u001b[39m\u001b[38;5;241m.\u001b[39m_state \u001b[38;5;241m==\u001b[39m FINISHED:\n\u001b[1;32m    449\u001b[0m     \u001b[38;5;28;01mreturn\u001b[39;00m \u001b[38;5;28mself\u001b[39m\u001b[38;5;241m.\u001b[39m__get_result()\n\u001b[0;32m--> 451\u001b[0m \u001b[38;5;28mself\u001b[39m\u001b[38;5;241m.\u001b[39m_condition\u001b[38;5;241m.\u001b[39mwait(timeout)\n\u001b[1;32m    453\u001b[0m \u001b[38;5;28;01mif\u001b[39;00m \u001b[38;5;28mself\u001b[39m\u001b[38;5;241m.\u001b[39m_state \u001b[38;5;129;01min\u001b[39;00m [CANCELLED, CANCELLED_AND_NOTIFIED]:\n\u001b[1;32m    454\u001b[0m     \u001b[38;5;28;01mraise\u001b[39;00m CancelledError()\n",
      "File \u001b[0;32m~/anaconda3/lib/python3.11/threading.py:320\u001b[0m, in \u001b[0;36mCondition.wait\u001b[0;34m(self, timeout)\u001b[0m\n\u001b[1;32m    318\u001b[0m \u001b[38;5;28;01mtry\u001b[39;00m:    \u001b[38;5;66;03m# restore state no matter what (e.g., KeyboardInterrupt)\u001b[39;00m\n\u001b[1;32m    319\u001b[0m     \u001b[38;5;28;01mif\u001b[39;00m timeout \u001b[38;5;129;01mis\u001b[39;00m \u001b[38;5;28;01mNone\u001b[39;00m:\n\u001b[0;32m--> 320\u001b[0m         waiter\u001b[38;5;241m.\u001b[39macquire()\n\u001b[1;32m    321\u001b[0m         gotit \u001b[38;5;241m=\u001b[39m \u001b[38;5;28;01mTrue\u001b[39;00m\n\u001b[1;32m    322\u001b[0m     \u001b[38;5;28;01melse\u001b[39;00m:\n",
      "\u001b[0;31mKeyboardInterrupt\u001b[0m: "
     ]
    }
   ],
   "source": [
    "kf = KFold(n_splits=5, shuffle=True, random_state=42) \n",
    "\n",
    "# Perform cross-validation\n",
    "cross_val_results = cross_val_score(rf, X_poly, y, cv=kf)\n",
    "print(f\"Cross-Validation Results: {cross_val_results}\")\n",
    "print(f\"Mean CV Score: {cross_val_results.mean()}\")\n"
   ]
  },
  {
   "cell_type": "code",
   "execution_count": null,
   "metadata": {
    "tags": []
   },
   "outputs": [],
   "source": [
    "# with open('../model/cross_val.pkl', 'wb') as f:\n",
    "#     pickle.dump(cross_val_results, f)"
   ]
  },
  {
   "cell_type": "markdown",
   "metadata": {},
   "source": [
    "**Interpretation:**\n",
    "\n",
    "The R-squared scores are high and consistent across folds, indicating that the model generalizes well to different subsets of the data. Moreover, the mean cross-validation score is also high e.g., close to 1, furtger indicating that the model performs well on average across different data subsets. In summary, the cross-validation results implies that the insights derived from the dataset are likely to be generalizable to other airports or travel scenarios, as the model shows consistent performance across multiple subsets.\n"
   ]
  },
  {
   "cell_type": "markdown",
   "metadata": {},
   "source": [
    "**Visualize Location Data**"
   ]
  },
  {
   "cell_type": "code",
   "execution_count": 43,
   "metadata": {
    "tags": []
   },
   "outputs": [],
   "source": [
    "import folium\n",
    "import plotly.express as px"
   ]
  },
  {
   "cell_type": "code",
   "execution_count": 44,
   "metadata": {
    "tags": []
   },
   "outputs": [],
   "source": [
    "cities = {'Delhi': (28.6139, 77.2090), 'Mumbai': (19.0760, 72.8777), 'Bangalore': (12.9716, 77.5946),\n",
    "          'Kolkata': (22.5726, 88.3639), 'Chennai': (13.0827, 80.2707), 'Hyderabad': (17.3850, 78.4867)}"
   ]
  },
  {
   "cell_type": "code",
   "execution_count": 45,
   "metadata": {
    "tags": []
   },
   "outputs": [],
   "source": [
    "df_pred = pd.DataFrame(list(cities.keys()), columns=['City'])\n",
    "\n",
    "df_pred['Longitude'] = df_pred['City'].map(lambda x: cities[x][1])\n",
    "df_pred['Latitude'] = df_pred['City'].map(lambda x: cities[x][0])\n",
    "df_pred['Predicted_Price'] = y_pred[:len(df_pred)]"
   ]
  },
  {
   "cell_type": "code",
   "execution_count": 46,
   "metadata": {
    "tags": []
   },
   "outputs": [
    {
     "data": {
      "application/vnd.plotly.v1+json": {
       "config": {
        "plotlyServerURL": "https://plot.ly"
       },
       "data": [
        {
         "geo": "geo",
         "hovertemplate": "Predicted_Price=%{marker.color}<br>City=%{text}<br>Latitude=%{lat}<br>Longitude=%{lon}<extra></extra>",
         "lat": [
          28.6139,
          19.076,
          12.9716,
          22.5726,
          13.0827,
          17.385
         ],
         "legendgroup": "",
         "lon": [
          77.209,
          72.8777,
          77.5946,
          88.3639,
          80.2707,
          78.4867
         ],
         "marker": {
          "color": [
           84.20809070300479,
           693.8408620646933,
           84.20809070300479,
           693.8408620646933,
           84.20809070300479,
           84.20809070300479
          ],
          "coloraxis": "coloraxis",
          "size": [
           84.20809070300479,
           693.8408620646933,
           84.20809070300479,
           693.8408620646933,
           84.20809070300479,
           84.20809070300479
          ],
          "sizemode": "area",
          "sizeref": 1.7346021551617332,
          "symbol": "circle"
         },
         "mode": "markers+text",
         "name": "",
         "showlegend": false,
         "text": [
          "Delhi",
          "Mumbai",
          "Bangalore",
          "Kolkata",
          "Chennai",
          "Hyderabad"
         ],
         "type": "scattergeo"
        }
       ],
       "layout": {
        "autosize": true,
        "coloraxis": {
         "colorbar": {
          "title": {
           "text": "Predicted_Price"
          }
         },
         "colorscale": [
          [
           0,
           "#0d0887"
          ],
          [
           0.1111111111111111,
           "#46039f"
          ],
          [
           0.2222222222222222,
           "#7201a8"
          ],
          [
           0.3333333333333333,
           "#9c179e"
          ],
          [
           0.4444444444444444,
           "#bd3786"
          ],
          [
           0.5555555555555556,
           "#d8576b"
          ],
          [
           0.6666666666666666,
           "#ed7953"
          ],
          [
           0.7777777777777778,
           "#fb9f3a"
          ],
          [
           0.8888888888888888,
           "#fdca26"
          ],
          [
           1,
           "#f0f921"
          ]
         ]
        },
        "geo": {
         "center": {},
         "domain": {
          "x": [
           0,
           1
          ],
          "y": [
           0,
           1
          ]
         },
         "projection": {
          "type": "natural earth"
         }
        },
        "legend": {
         "itemsizing": "constant",
         "tracegroupgap": 0
        },
        "margin": {
         "t": 60
        },
        "template": {
         "data": {
          "bar": [
           {
            "error_x": {
             "color": "#2a3f5f"
            },
            "error_y": {
             "color": "#2a3f5f"
            },
            "marker": {
             "line": {
              "color": "#E5ECF6",
              "width": 0.5
             },
             "pattern": {
              "fillmode": "overlay",
              "size": 10,
              "solidity": 0.2
             }
            },
            "type": "bar"
           }
          ],
          "barpolar": [
           {
            "marker": {
             "line": {
              "color": "#E5ECF6",
              "width": 0.5
             },
             "pattern": {
              "fillmode": "overlay",
              "size": 10,
              "solidity": 0.2
             }
            },
            "type": "barpolar"
           }
          ],
          "carpet": [
           {
            "aaxis": {
             "endlinecolor": "#2a3f5f",
             "gridcolor": "white",
             "linecolor": "white",
             "minorgridcolor": "white",
             "startlinecolor": "#2a3f5f"
            },
            "baxis": {
             "endlinecolor": "#2a3f5f",
             "gridcolor": "white",
             "linecolor": "white",
             "minorgridcolor": "white",
             "startlinecolor": "#2a3f5f"
            },
            "type": "carpet"
           }
          ],
          "choropleth": [
           {
            "colorbar": {
             "outlinewidth": 0,
             "ticks": ""
            },
            "type": "choropleth"
           }
          ],
          "contour": [
           {
            "colorbar": {
             "outlinewidth": 0,
             "ticks": ""
            },
            "colorscale": [
             [
              0,
              "#0d0887"
             ],
             [
              0.1111111111111111,
              "#46039f"
             ],
             [
              0.2222222222222222,
              "#7201a8"
             ],
             [
              0.3333333333333333,
              "#9c179e"
             ],
             [
              0.4444444444444444,
              "#bd3786"
             ],
             [
              0.5555555555555556,
              "#d8576b"
             ],
             [
              0.6666666666666666,
              "#ed7953"
             ],
             [
              0.7777777777777778,
              "#fb9f3a"
             ],
             [
              0.8888888888888888,
              "#fdca26"
             ],
             [
              1,
              "#f0f921"
             ]
            ],
            "type": "contour"
           }
          ],
          "contourcarpet": [
           {
            "colorbar": {
             "outlinewidth": 0,
             "ticks": ""
            },
            "type": "contourcarpet"
           }
          ],
          "heatmap": [
           {
            "colorbar": {
             "outlinewidth": 0,
             "ticks": ""
            },
            "colorscale": [
             [
              0,
              "#0d0887"
             ],
             [
              0.1111111111111111,
              "#46039f"
             ],
             [
              0.2222222222222222,
              "#7201a8"
             ],
             [
              0.3333333333333333,
              "#9c179e"
             ],
             [
              0.4444444444444444,
              "#bd3786"
             ],
             [
              0.5555555555555556,
              "#d8576b"
             ],
             [
              0.6666666666666666,
              "#ed7953"
             ],
             [
              0.7777777777777778,
              "#fb9f3a"
             ],
             [
              0.8888888888888888,
              "#fdca26"
             ],
             [
              1,
              "#f0f921"
             ]
            ],
            "type": "heatmap"
           }
          ],
          "heatmapgl": [
           {
            "colorbar": {
             "outlinewidth": 0,
             "ticks": ""
            },
            "colorscale": [
             [
              0,
              "#0d0887"
             ],
             [
              0.1111111111111111,
              "#46039f"
             ],
             [
              0.2222222222222222,
              "#7201a8"
             ],
             [
              0.3333333333333333,
              "#9c179e"
             ],
             [
              0.4444444444444444,
              "#bd3786"
             ],
             [
              0.5555555555555556,
              "#d8576b"
             ],
             [
              0.6666666666666666,
              "#ed7953"
             ],
             [
              0.7777777777777778,
              "#fb9f3a"
             ],
             [
              0.8888888888888888,
              "#fdca26"
             ],
             [
              1,
              "#f0f921"
             ]
            ],
            "type": "heatmapgl"
           }
          ],
          "histogram": [
           {
            "marker": {
             "pattern": {
              "fillmode": "overlay",
              "size": 10,
              "solidity": 0.2
             }
            },
            "type": "histogram"
           }
          ],
          "histogram2d": [
           {
            "colorbar": {
             "outlinewidth": 0,
             "ticks": ""
            },
            "colorscale": [
             [
              0,
              "#0d0887"
             ],
             [
              0.1111111111111111,
              "#46039f"
             ],
             [
              0.2222222222222222,
              "#7201a8"
             ],
             [
              0.3333333333333333,
              "#9c179e"
             ],
             [
              0.4444444444444444,
              "#bd3786"
             ],
             [
              0.5555555555555556,
              "#d8576b"
             ],
             [
              0.6666666666666666,
              "#ed7953"
             ],
             [
              0.7777777777777778,
              "#fb9f3a"
             ],
             [
              0.8888888888888888,
              "#fdca26"
             ],
             [
              1,
              "#f0f921"
             ]
            ],
            "type": "histogram2d"
           }
          ],
          "histogram2dcontour": [
           {
            "colorbar": {
             "outlinewidth": 0,
             "ticks": ""
            },
            "colorscale": [
             [
              0,
              "#0d0887"
             ],
             [
              0.1111111111111111,
              "#46039f"
             ],
             [
              0.2222222222222222,
              "#7201a8"
             ],
             [
              0.3333333333333333,
              "#9c179e"
             ],
             [
              0.4444444444444444,
              "#bd3786"
             ],
             [
              0.5555555555555556,
              "#d8576b"
             ],
             [
              0.6666666666666666,
              "#ed7953"
             ],
             [
              0.7777777777777778,
              "#fb9f3a"
             ],
             [
              0.8888888888888888,
              "#fdca26"
             ],
             [
              1,
              "#f0f921"
             ]
            ],
            "type": "histogram2dcontour"
           }
          ],
          "mesh3d": [
           {
            "colorbar": {
             "outlinewidth": 0,
             "ticks": ""
            },
            "type": "mesh3d"
           }
          ],
          "parcoords": [
           {
            "line": {
             "colorbar": {
              "outlinewidth": 0,
              "ticks": ""
             }
            },
            "type": "parcoords"
           }
          ],
          "pie": [
           {
            "automargin": true,
            "type": "pie"
           }
          ],
          "scatter": [
           {
            "fillpattern": {
             "fillmode": "overlay",
             "size": 10,
             "solidity": 0.2
            },
            "type": "scatter"
           }
          ],
          "scatter3d": [
           {
            "line": {
             "colorbar": {
              "outlinewidth": 0,
              "ticks": ""
             }
            },
            "marker": {
             "colorbar": {
              "outlinewidth": 0,
              "ticks": ""
             }
            },
            "type": "scatter3d"
           }
          ],
          "scattercarpet": [
           {
            "marker": {
             "colorbar": {
              "outlinewidth": 0,
              "ticks": ""
             }
            },
            "type": "scattercarpet"
           }
          ],
          "scattergeo": [
           {
            "marker": {
             "colorbar": {
              "outlinewidth": 0,
              "ticks": ""
             }
            },
            "type": "scattergeo"
           }
          ],
          "scattergl": [
           {
            "marker": {
             "colorbar": {
              "outlinewidth": 0,
              "ticks": ""
             }
            },
            "type": "scattergl"
           }
          ],
          "scattermapbox": [
           {
            "marker": {
             "colorbar": {
              "outlinewidth": 0,
              "ticks": ""
             }
            },
            "type": "scattermapbox"
           }
          ],
          "scatterpolar": [
           {
            "marker": {
             "colorbar": {
              "outlinewidth": 0,
              "ticks": ""
             }
            },
            "type": "scatterpolar"
           }
          ],
          "scatterpolargl": [
           {
            "marker": {
             "colorbar": {
              "outlinewidth": 0,
              "ticks": ""
             }
            },
            "type": "scatterpolargl"
           }
          ],
          "scatterternary": [
           {
            "marker": {
             "colorbar": {
              "outlinewidth": 0,
              "ticks": ""
             }
            },
            "type": "scatterternary"
           }
          ],
          "surface": [
           {
            "colorbar": {
             "outlinewidth": 0,
             "ticks": ""
            },
            "colorscale": [
             [
              0,
              "#0d0887"
             ],
             [
              0.1111111111111111,
              "#46039f"
             ],
             [
              0.2222222222222222,
              "#7201a8"
             ],
             [
              0.3333333333333333,
              "#9c179e"
             ],
             [
              0.4444444444444444,
              "#bd3786"
             ],
             [
              0.5555555555555556,
              "#d8576b"
             ],
             [
              0.6666666666666666,
              "#ed7953"
             ],
             [
              0.7777777777777778,
              "#fb9f3a"
             ],
             [
              0.8888888888888888,
              "#fdca26"
             ],
             [
              1,
              "#f0f921"
             ]
            ],
            "type": "surface"
           }
          ],
          "table": [
           {
            "cells": {
             "fill": {
              "color": "#EBF0F8"
             },
             "line": {
              "color": "white"
             }
            },
            "header": {
             "fill": {
              "color": "#C8D4E3"
             },
             "line": {
              "color": "white"
             }
            },
            "type": "table"
           }
          ]
         },
         "layout": {
          "annotationdefaults": {
           "arrowcolor": "#2a3f5f",
           "arrowhead": 0,
           "arrowwidth": 1
          },
          "autotypenumbers": "strict",
          "coloraxis": {
           "colorbar": {
            "outlinewidth": 0,
            "ticks": ""
           }
          },
          "colorscale": {
           "diverging": [
            [
             0,
             "#8e0152"
            ],
            [
             0.1,
             "#c51b7d"
            ],
            [
             0.2,
             "#de77ae"
            ],
            [
             0.3,
             "#f1b6da"
            ],
            [
             0.4,
             "#fde0ef"
            ],
            [
             0.5,
             "#f7f7f7"
            ],
            [
             0.6,
             "#e6f5d0"
            ],
            [
             0.7,
             "#b8e186"
            ],
            [
             0.8,
             "#7fbc41"
            ],
            [
             0.9,
             "#4d9221"
            ],
            [
             1,
             "#276419"
            ]
           ],
           "sequential": [
            [
             0,
             "#0d0887"
            ],
            [
             0.1111111111111111,
             "#46039f"
            ],
            [
             0.2222222222222222,
             "#7201a8"
            ],
            [
             0.3333333333333333,
             "#9c179e"
            ],
            [
             0.4444444444444444,
             "#bd3786"
            ],
            [
             0.5555555555555556,
             "#d8576b"
            ],
            [
             0.6666666666666666,
             "#ed7953"
            ],
            [
             0.7777777777777778,
             "#fb9f3a"
            ],
            [
             0.8888888888888888,
             "#fdca26"
            ],
            [
             1,
             "#f0f921"
            ]
           ],
           "sequentialminus": [
            [
             0,
             "#0d0887"
            ],
            [
             0.1111111111111111,
             "#46039f"
            ],
            [
             0.2222222222222222,
             "#7201a8"
            ],
            [
             0.3333333333333333,
             "#9c179e"
            ],
            [
             0.4444444444444444,
             "#bd3786"
            ],
            [
             0.5555555555555556,
             "#d8576b"
            ],
            [
             0.6666666666666666,
             "#ed7953"
            ],
            [
             0.7777777777777778,
             "#fb9f3a"
            ],
            [
             0.8888888888888888,
             "#fdca26"
            ],
            [
             1,
             "#f0f921"
            ]
           ]
          },
          "colorway": [
           "#636efa",
           "#EF553B",
           "#00cc96",
           "#ab63fa",
           "#FFA15A",
           "#19d3f3",
           "#FF6692",
           "#B6E880",
           "#FF97FF",
           "#FECB52"
          ],
          "font": {
           "color": "#2a3f5f"
          },
          "geo": {
           "bgcolor": "white",
           "lakecolor": "white",
           "landcolor": "#E5ECF6",
           "showlakes": true,
           "showland": true,
           "subunitcolor": "white"
          },
          "hoverlabel": {
           "align": "left"
          },
          "hovermode": "closest",
          "mapbox": {
           "style": "light"
          },
          "paper_bgcolor": "white",
          "plot_bgcolor": "#E5ECF6",
          "polar": {
           "angularaxis": {
            "gridcolor": "white",
            "linecolor": "white",
            "ticks": ""
           },
           "bgcolor": "#E5ECF6",
           "radialaxis": {
            "gridcolor": "white",
            "linecolor": "white",
            "ticks": ""
           }
          },
          "scene": {
           "xaxis": {
            "backgroundcolor": "#E5ECF6",
            "gridcolor": "white",
            "gridwidth": 2,
            "linecolor": "white",
            "showbackground": true,
            "ticks": "",
            "zerolinecolor": "white"
           },
           "yaxis": {
            "backgroundcolor": "#E5ECF6",
            "gridcolor": "white",
            "gridwidth": 2,
            "linecolor": "white",
            "showbackground": true,
            "ticks": "",
            "zerolinecolor": "white"
           },
           "zaxis": {
            "backgroundcolor": "#E5ECF6",
            "gridcolor": "white",
            "gridwidth": 2,
            "linecolor": "white",
            "showbackground": true,
            "ticks": "",
            "zerolinecolor": "white"
           }
          },
          "shapedefaults": {
           "line": {
            "color": "#2a3f5f"
           }
          },
          "ternary": {
           "aaxis": {
            "gridcolor": "white",
            "linecolor": "white",
            "ticks": ""
           },
           "baxis": {
            "gridcolor": "white",
            "linecolor": "white",
            "ticks": ""
           },
           "bgcolor": "#E5ECF6",
           "caxis": {
            "gridcolor": "white",
            "linecolor": "white",
            "ticks": ""
           }
          },
          "title": {
           "x": 0.05
          },
          "xaxis": {
           "automargin": true,
           "gridcolor": "white",
           "linecolor": "white",
           "ticks": "",
           "title": {
            "standoff": 15
           },
           "zerolinecolor": "white",
           "zerolinewidth": 2
          },
          "yaxis": {
           "automargin": true,
           "gridcolor": "white",
           "linecolor": "white",
           "ticks": "",
           "title": {
            "standoff": 15
           },
           "zerolinecolor": "white",
           "zerolinewidth": 2
          }
         }
        }
       }
      },
      "image/png": "[encoded data removed]",
      "text/html": [
       "<div>                            <div id=\"6edc8ad6-b0d3-46e5-9c68-391ddc6f016d\" class=\"plotly-graph-div\" style=\"height:525px; width:100%;\"></div>            <script type=\"text/javascript\">                require([\"plotly\"], function(Plotly) {                    window.PLOTLYENV=window.PLOTLYENV || {};                                    if (document.getElementById(\"6edc8ad6-b0d3-46e5-9c68-391ddc6f016d\")) {                    Plotly.newPlot(                        \"6edc8ad6-b0d3-46e5-9c68-391ddc6f016d\",                        [{\"geo\":\"geo\",\"hovertemplate\":\"Predicted_Price=%{marker.color}<br>City=%{text}<br>Latitude=%{lat}<br>Longitude=%{lon}<extra></extra>\",\"lat\":[28.6139,19.076,12.9716,22.5726,13.0827,17.385],\"legendgroup\":\"\",\"lon\":[77.209,72.8777,77.5946,88.3639,80.2707,78.4867],\"marker\":{\"color\":[84.20809070300479,693.8408620646933,84.20809070300479,693.8408620646933,84.20809070300479,84.20809070300479],\"coloraxis\":\"coloraxis\",\"size\":[84.20809070300479,693.8408620646933,84.20809070300479,693.8408620646933,84.20809070300479,84.20809070300479],\"sizemode\":\"area\",\"sizeref\":1.7346021551617332,\"symbol\":\"circle\"},\"mode\":\"markers+text\",\"name\":\"\",\"showlegend\":false,\"text\":[\"Delhi\",\"Mumbai\",\"Bangalore\",\"Kolkata\",\"Chennai\",\"Hyderabad\"],\"type\":\"scattergeo\"}],                        {\"template\":{\"data\":{\"histogram2dcontour\":[{\"type\":\"histogram2dcontour\",\"colorbar\":{\"outlinewidth\":0,\"ticks\":\"\"},\"colorscale\":[[0.0,\"#0d0887\"],[0.1111111111111111,\"#46039f\"],[0.2222222222222222,\"#7201a8\"],[0.3333333333333333,\"#9c179e\"],[0.4444444444444444,\"#bd3786\"],[0.5555555555555556,\"#d8576b\"],[0.6666666666666666,\"#ed7953\"],[0.7777777777777778,\"#fb9f3a\"],[0.8888888888888888,\"#fdca26\"],[1.0,\"#f0f921\"]]}],\"choropleth\":[{\"type\":\"choropleth\",\"colorbar\":{\"outlinewidth\":0,\"ticks\":\"\"}}],\"histogram2d\":[{\"type\":\"histogram2d\",\"colorbar\":{\"outlinewidth\":0,\"ticks\":\"\"},\"colorscale\":[[0.0,\"#0d0887\"],[0.1111111111111111,\"#46039f\"],[0.2222222222222222,\"#7201a8\"],[0.3333333333333333,\"#9c179e\"],[0.4444444444444444,\"#bd3786\"],[0.5555555555555556,\"#d8576b\"],[0.6666666666666666,\"#ed7953\"],[0.7777777777777778,\"#fb9f3a\"],[0.8888888888888888,\"#fdca26\"],[1.0,\"#f0f921\"]]}],\"heatmap\":[{\"type\":\"heatmap\",\"colorbar\":{\"outlinewidth\":0,\"ticks\":\"\"},\"colorscale\":[[0.0,\"#0d0887\"],[0.1111111111111111,\"#46039f\"],[0.2222222222222222,\"#7201a8\"],[0.3333333333333333,\"#9c179e\"],[0.4444444444444444,\"#bd3786\"],[0.5555555555555556,\"#d8576b\"],[0.6666666666666666,\"#ed7953\"],[0.7777777777777778,\"#fb9f3a\"],[0.8888888888888888,\"#fdca26\"],[1.0,\"#f0f921\"]]}],\"heatmapgl\":[{\"type\":\"heatmapgl\",\"colorbar\":{\"outlinewidth\":0,\"ticks\":\"\"},\"colorscale\":[[0.0,\"#0d0887\"],[0.1111111111111111,\"#46039f\"],[0.2222222222222222,\"#7201a8\"],[0.3333333333333333,\"#9c179e\"],[0.4444444444444444,\"#bd3786\"],[0.5555555555555556,\"#d8576b\"],[0.6666666666666666,\"#ed7953\"],[0.7777777777777778,\"#fb9f3a\"],[0.8888888888888888,\"#fdca26\"],[1.0,\"#f0f921\"]]}],\"contourcarpet\":[{\"type\":\"contourcarpet\",\"colorbar\":{\"outlinewidth\":0,\"ticks\":\"\"}}],\"contour\":[{\"type\":\"contour\",\"colorbar\":{\"outlinewidth\":0,\"ticks\":\"\"},\"colorscale\":[[0.0,\"#0d0887\"],[0.1111111111111111,\"#46039f\"],[0.2222222222222222,\"#7201a8\"],[0.3333333333333333,\"#9c179e\"],[0.4444444444444444,\"#bd3786\"],[0.5555555555555556,\"#d8576b\"],[0.6666666666666666,\"#ed7953\"],[0.7777777777777778,\"#fb9f3a\"],[0.8888888888888888,\"#fdca26\"],[1.0,\"#f0f921\"]]}],\"surface\":[{\"type\":\"surface\",\"colorbar\":{\"outlinewidth\":0,\"ticks\":\"\"},\"colorscale\":[[0.0,\"#0d0887\"],[0.1111111111111111,\"#46039f\"],[0.2222222222222222,\"#7201a8\"],[0.3333333333333333,\"#9c179e\"],[0.4444444444444444,\"#bd3786\"],[0.5555555555555556,\"#d8576b\"],[0.6666666666666666,\"#ed7953\"],[0.7777777777777778,\"#fb9f3a\"],[0.8888888888888888,\"#fdca26\"],[1.0,\"#f0f921\"]]}],\"mesh3d\":[{\"type\":\"mesh3d\",\"colorbar\":{\"outlinewidth\":0,\"ticks\":\"\"}}],\"scatter\":[{\"fillpattern\":{\"fillmode\":\"overlay\",\"size\":10,\"solidity\":0.2},\"type\":\"scatter\"}],\"parcoords\":[{\"type\":\"parcoords\",\"line\":{\"colorbar\":{\"outlinewidth\":0,\"ticks\":\"\"}}}],\"scatterpolargl\":[{\"type\":\"scatterpolargl\",\"marker\":{\"colorbar\":{\"outlinewidth\":0,\"ticks\":\"\"}}}],\"bar\":[{\"error_x\":{\"color\":\"#2a3f5f\"},\"error_y\":{\"color\":\"#2a3f5f\"},\"marker\":{\"line\":{\"color\":\"#E5ECF6\",\"width\":0.5},\"pattern\":{\"fillmode\":\"overlay\",\"size\":10,\"solidity\":0.2}},\"type\":\"bar\"}],\"scattergeo\":[{\"type\":\"scattergeo\",\"marker\":{\"colorbar\":{\"outlinewidth\":0,\"ticks\":\"\"}}}],\"scatterpolar\":[{\"type\":\"scatterpolar\",\"marker\":{\"colorbar\":{\"outlinewidth\":0,\"ticks\":\"\"}}}],\"histogram\":[{\"marker\":{\"pattern\":{\"fillmode\":\"overlay\",\"size\":10,\"solidity\":0.2}},\"type\":\"histogram\"}],\"scattergl\":[{\"type\":\"scattergl\",\"marker\":{\"colorbar\":{\"outlinewidth\":0,\"ticks\":\"\"}}}],\"scatter3d\":[{\"type\":\"scatter3d\",\"line\":{\"colorbar\":{\"outlinewidth\":0,\"ticks\":\"\"}},\"marker\":{\"colorbar\":{\"outlinewidth\":0,\"ticks\":\"\"}}}],\"scattermapbox\":[{\"type\":\"scattermapbox\",\"marker\":{\"colorbar\":{\"outlinewidth\":0,\"ticks\":\"\"}}}],\"scatterternary\":[{\"type\":\"scatterternary\",\"marker\":{\"colorbar\":{\"outlinewidth\":0,\"ticks\":\"\"}}}],\"scattercarpet\":[{\"type\":\"scattercarpet\",\"marker\":{\"colorbar\":{\"outlinewidth\":0,\"ticks\":\"\"}}}],\"carpet\":[{\"aaxis\":{\"endlinecolor\":\"#2a3f5f\",\"gridcolor\":\"white\",\"linecolor\":\"white\",\"minorgridcolor\":\"white\",\"startlinecolor\":\"#2a3f5f\"},\"baxis\":{\"endlinecolor\":\"#2a3f5f\",\"gridcolor\":\"white\",\"linecolor\":\"white\",\"minorgridcolor\":\"white\",\"startlinecolor\":\"#2a3f5f\"},\"type\":\"carpet\"}],\"table\":[{\"cells\":{\"fill\":{\"color\":\"#EBF0F8\"},\"line\":{\"color\":\"white\"}},\"header\":{\"fill\":{\"color\":\"#C8D4E3\"},\"line\":{\"color\":\"white\"}},\"type\":\"table\"}],\"barpolar\":[{\"marker\":{\"line\":{\"color\":\"#E5ECF6\",\"width\":0.5},\"pattern\":{\"fillmode\":\"overlay\",\"size\":10,\"solidity\":0.2}},\"type\":\"barpolar\"}],\"pie\":[{\"automargin\":true,\"type\":\"pie\"}]},\"layout\":{\"autotypenumbers\":\"strict\",\"colorway\":[\"#636efa\",\"#EF553B\",\"#00cc96\",\"#ab63fa\",\"#FFA15A\",\"#19d3f3\",\"#FF6692\",\"#B6E880\",\"#FF97FF\",\"#FECB52\"],\"font\":{\"color\":\"#2a3f5f\"},\"hovermode\":\"closest\",\"hoverlabel\":{\"align\":\"left\"},\"paper_bgcolor\":\"white\",\"plot_bgcolor\":\"#E5ECF6\",\"polar\":{\"bgcolor\":\"#E5ECF6\",\"angularaxis\":{\"gridcolor\":\"white\",\"linecolor\":\"white\",\"ticks\":\"\"},\"radialaxis\":{\"gridcolor\":\"white\",\"linecolor\":\"white\",\"ticks\":\"\"}},\"ternary\":{\"bgcolor\":\"#E5ECF6\",\"aaxis\":{\"gridcolor\":\"white\",\"linecolor\":\"white\",\"ticks\":\"\"},\"baxis\":{\"gridcolor\":\"white\",\"linecolor\":\"white\",\"ticks\":\"\"},\"caxis\":{\"gridcolor\":\"white\",\"linecolor\":\"white\",\"ticks\":\"\"}},\"coloraxis\":{\"colorbar\":{\"outlinewidth\":0,\"ticks\":\"\"}},\"colorscale\":{\"sequential\":[[0.0,\"#0d0887\"],[0.1111111111111111,\"#46039f\"],[0.2222222222222222,\"#7201a8\"],[0.3333333333333333,\"#9c179e\"],[0.4444444444444444,\"#bd3786\"],[0.5555555555555556,\"#d8576b\"],[0.6666666666666666,\"#ed7953\"],[0.7777777777777778,\"#fb9f3a\"],[0.8888888888888888,\"#fdca26\"],[1.0,\"#f0f921\"]],\"sequentialminus\":[[0.0,\"#0d0887\"],[0.1111111111111111,\"#46039f\"],[0.2222222222222222,\"#7201a8\"],[0.3333333333333333,\"#9c179e\"],[0.4444444444444444,\"#bd3786\"],[0.5555555555555556,\"#d8576b\"],[0.6666666666666666,\"#ed7953\"],[0.7777777777777778,\"#fb9f3a\"],[0.8888888888888888,\"#fdca26\"],[1.0,\"#f0f921\"]],\"diverging\":[[0,\"#8e0152\"],[0.1,\"#c51b7d\"],[0.2,\"#de77ae\"],[0.3,\"#f1b6da\"],[0.4,\"#fde0ef\"],[0.5,\"#f7f7f7\"],[0.6,\"#e6f5d0\"],[0.7,\"#b8e186\"],[0.8,\"#7fbc41\"],[0.9,\"#4d9221\"],[1,\"#276419\"]]},\"xaxis\":{\"gridcolor\":\"white\",\"linecolor\":\"white\",\"ticks\":\"\",\"title\":{\"standoff\":15},\"zerolinecolor\":\"white\",\"automargin\":true,\"zerolinewidth\":2},\"yaxis\":{\"gridcolor\":\"white\",\"linecolor\":\"white\",\"ticks\":\"\",\"title\":{\"standoff\":15},\"zerolinecolor\":\"white\",\"automargin\":true,\"zerolinewidth\":2},\"scene\":{\"xaxis\":{\"backgroundcolor\":\"#E5ECF6\",\"gridcolor\":\"white\",\"linecolor\":\"white\",\"showbackground\":true,\"ticks\":\"\",\"zerolinecolor\":\"white\",\"gridwidth\":2},\"yaxis\":{\"backgroundcolor\":\"#E5ECF6\",\"gridcolor\":\"white\",\"linecolor\":\"white\",\"showbackground\":true,\"ticks\":\"\",\"zerolinecolor\":\"white\",\"gridwidth\":2},\"zaxis\":{\"backgroundcolor\":\"#E5ECF6\",\"gridcolor\":\"white\",\"linecolor\":\"white\",\"showbackground\":true,\"ticks\":\"\",\"zerolinecolor\":\"white\",\"gridwidth\":2}},\"shapedefaults\":{\"line\":{\"color\":\"#2a3f5f\"}},\"annotationdefaults\":{\"arrowcolor\":\"#2a3f5f\",\"arrowhead\":0,\"arrowwidth\":1},\"geo\":{\"bgcolor\":\"white\",\"landcolor\":\"#E5ECF6\",\"subunitcolor\":\"white\",\"showland\":true,\"showlakes\":true,\"lakecolor\":\"white\"},\"title\":{\"x\":0.05},\"mapbox\":{\"style\":\"light\"}}},\"geo\":{\"domain\":{\"x\":[0.0,1.0],\"y\":[0.0,1.0]},\"projection\":{\"type\":\"natural earth\"},\"center\":{}},\"coloraxis\":{\"colorbar\":{\"title\":{\"text\":\"Predicted_Price\"}},\"colorscale\":[[0.0,\"#0d0887\"],[0.1111111111111111,\"#46039f\"],[0.2222222222222222,\"#7201a8\"],[0.3333333333333333,\"#9c179e\"],[0.4444444444444444,\"#bd3786\"],[0.5555555555555556,\"#d8576b\"],[0.6666666666666666,\"#ed7953\"],[0.7777777777777778,\"#fb9f3a\"],[0.8888888888888888,\"#fdca26\"],[1.0,\"#f0f921\"]]},\"legend\":{\"tracegroupgap\":0,\"itemsizing\":\"constant\"},\"margin\":{\"t\":60}},                        {\"responsive\": true}                    ).then(function(){\n",
       "                            \n",
       "var gd = document.getElementById('6edc8ad6-b0d3-46e5-9c68-391ddc6f016d');\n",
       "var x = new MutationObserver(function (mutations, observer) {{\n",
       "        var display = window.getComputedStyle(gd).display;\n",
       "        if (!display || display === 'none') {{\n",
       "            console.log([gd, 'removed!']);\n",
       "            Plotly.purge(gd);\n",
       "            observer.disconnect();\n",
       "        }}\n",
       "}});\n",
       "\n",
       "// Listen for the removal of the full notebook cells\n",
       "var notebookContainer = gd.closest('#notebook-container');\n",
       "if (notebookContainer) {{\n",
       "    x.observe(notebookContainer, {childList: true});\n",
       "}}\n",
       "\n",
       "// Listen for the clearing of the current output cell\n",
       "var outputEl = gd.closest('.output');\n",
       "if (outputEl) {{\n",
       "    x.observe(outputEl, {childList: true});\n",
       "}}\n",
       "\n",
       "                        })                };                });            </script>        </div>"
      ]
     },
     "metadata": {},
     "output_type": "display_data"
    }
   ],
   "source": [
    "fig = px.scatter_geo(df_pred, lat='Latitude', lon='Longitude', color='Predicted_Price',\n",
    "                     text='City', size='Predicted_Price', projection='natural earth')\n",
    "fig.show()"
   ]
  },
  {
   "cell_type": "code",
   "execution_count": 47,
   "metadata": {
    "tags": []
   },
   "outputs": [],
   "source": [
    "m = folium.Map(location=[20, 77], zoom_start=5)  \n",
    "# logic attained from https://www.kaggle.com/code/fulrose/copy-fix-house-price-prediction-1-2\n",
    "\n",
    "# Add markers for each city\n",
    "for index, row in df_pred.iterrows():\n",
    "    folium.Marker(location=[row['Latitude'], row['Longitude']],\n",
    "                  popup=f\"{row['City']}: {row['Predicted_Price']}\",\n",
    "                  icon=folium.Icon(color='blue')).add_to(m)\n",
    "\n",
    "# Add lines connecting cities based on predicted prices\n",
    "for i in range(len(df_pred)):\n",
    "    for j in range(i + 1, len(df_pred)):\n",
    "        coords_i = [df_pred.at[i, 'Latitude'], df_pred.at[i, 'Longitude']]\n",
    "        coords_j = [df_pred.at[j, 'Latitude'], df_pred.at[j, 'Longitude']]\n",
    "\n",
    "        # Calculate line color based on predicted prices\n",
    "        color = 'red' if df_pred.at[i, 'Predicted_Price'] > df_pred.at[j, 'Predicted_Price'] else 'green'\n",
    "\n",
    "        # Create a PolyLine between the two cities\n",
    "        folium.PolyLine(locations=[coords_i, coords_j], color=color, weight=2.5, opacity=1).add_to(m)"
   ]
  },
  {
   "cell_type": "code",
   "execution_count": 48,
   "metadata": {
    "tags": []
   },
   "outputs": [
    {
     "data": {
      "text/html": [
       "<div style=\"width:100%;\"><div style=\"position:relative;width:100%;height:0;padding-bottom:60%;\"><span style=\"color:#565656\">Make this Notebook Trusted to load map: File -> Trust Notebook</span><iframe srcdoc=\"&lt;!DOCTYPE html&gt;\n",
       "&lt;html&gt;\n",
       "&lt;head&gt;\n",
       "    \n",
       "    &lt;meta http-equiv=&quot;content-type&quot; content=&quot;text/html; charset=UTF-8&quot; /&gt;\n",
       "    \n",
       "        &lt;script&gt;\n",
       "            L_NO_TOUCH = false;\n",
       "            L_DISABLE_3D = false;\n",
       "        &lt;/script&gt;\n",
       "    \n",
       "    &lt;style&gt;html, body {width: 100%;height: 100%;margin: 0;padding: 0;}&lt;/style&gt;\n",
       "    &lt;style&gt;#map {position:absolute;top:0;bottom:0;right:0;left:0;}&lt;/style&gt;\n",
       "    &lt;script src=&quot;https://cdn.jsdelivr.net/npm/leaflet@1.9.3/dist/leaflet.js&quot;&gt;&lt;/script&gt;\n",
       "    &lt;script src=&quot;https://code.jquery.com/jquery-3.7.1.min.js&quot;&gt;&lt;/script&gt;\n",
       "    &lt;script src=&quot;https://cdn.jsdelivr.net/npm/bootstrap@5.2.2/dist/js/bootstrap.bundle.min.js&quot;&gt;&lt;/script&gt;\n",
       "    &lt;script src=&quot;https://cdnjs.cloudflare.com/ajax/libs/Leaflet.awesome-markers/2.0.2/leaflet.awesome-markers.js&quot;&gt;&lt;/script&gt;\n",
       "    &lt;link rel=&quot;stylesheet&quot; href=&quot;https://cdn.jsdelivr.net/npm/leaflet@1.9.3/dist/leaflet.css&quot;/&gt;\n",
       "    &lt;link rel=&quot;stylesheet&quot; href=&quot;https://cdn.jsdelivr.net/npm/bootstrap@5.2.2/dist/css/bootstrap.min.css&quot;/&gt;\n",
       "    &lt;link rel=&quot;stylesheet&quot; href=&quot;https://netdna.bootstrapcdn.com/bootstrap/3.0.0/css/bootstrap.min.css&quot;/&gt;\n",
       "    &lt;link rel=&quot;stylesheet&quot; href=&quot;https://cdn.jsdelivr.net/npm/@fortawesome/fontawesome-free@6.2.0/css/all.min.css&quot;/&gt;\n",
       "    &lt;link rel=&quot;stylesheet&quot; href=&quot;https://cdnjs.cloudflare.com/ajax/libs/Leaflet.awesome-markers/2.0.2/leaflet.awesome-markers.css&quot;/&gt;\n",
       "    &lt;link rel=&quot;stylesheet&quot; href=&quot;https://cdn.jsdelivr.net/gh/python-visualization/folium/folium/templates/leaflet.awesome.rotate.min.css&quot;/&gt;\n",
       "    \n",
       "            &lt;meta name=&quot;viewport&quot; content=&quot;width=device-width,\n",
       "                initial-scale=1.0, maximum-scale=1.0, user-scalable=no&quot; /&gt;\n",
       "            &lt;style&gt;\n",
       "                #map_5b9aac4d4711515987e46d350eb6e685 {\n",
       "                    position: relative;\n",
       "                    width: 100.0%;\n",
       "                    height: 100.0%;\n",
       "                    left: 0.0%;\n",
       "                    top: 0.0%;\n",
       "                }\n",
       "                .leaflet-container { font-size: 1rem; }\n",
       "            &lt;/style&gt;\n",
       "        \n",
       "&lt;/head&gt;\n",
       "&lt;body&gt;\n",
       "    \n",
       "    \n",
       "            &lt;div class=&quot;folium-map&quot; id=&quot;map_5b9aac4d4711515987e46d350eb6e685&quot; &gt;&lt;/div&gt;\n",
       "        \n",
       "&lt;/body&gt;\n",
       "&lt;script&gt;\n",
       "    \n",
       "    \n",
       "            var map_5b9aac4d4711515987e46d350eb6e685 = L.map(\n",
       "                &quot;map_5b9aac4d4711515987e46d350eb6e685&quot;,\n",
       "                {\n",
       "                    center: [20.0, 77.0],\n",
       "                    crs: L.CRS.EPSG3857,\n",
       "                    zoom: 5,\n",
       "                    zoomControl: true,\n",
       "                    preferCanvas: false,\n",
       "                }\n",
       "            );\n",
       "\n",
       "            \n",
       "\n",
       "        \n",
       "    \n",
       "            var tile_layer_6519dd34d6b832d65b5d61242c8101c9 = L.tileLayer(\n",
       "                &quot;https://tile.openstreetmap.org/{z}/{x}/{y}.png&quot;,\n",
       "                {&quot;attribution&quot;: &quot;\\u0026copy; \\u003ca href=\\&quot;https://www.openstreetmap.org/copyright\\&quot;\\u003eOpenStreetMap\\u003c/a\\u003e contributors&quot;, &quot;detectRetina&quot;: false, &quot;maxNativeZoom&quot;: 19, &quot;maxZoom&quot;: 19, &quot;minZoom&quot;: 0, &quot;noWrap&quot;: false, &quot;opacity&quot;: 1, &quot;subdomains&quot;: &quot;abc&quot;, &quot;tms&quot;: false}\n",
       "            );\n",
       "        \n",
       "    \n",
       "            tile_layer_6519dd34d6b832d65b5d61242c8101c9.addTo(map_5b9aac4d4711515987e46d350eb6e685);\n",
       "        \n",
       "    \n",
       "            var marker_2b393ac4f5797466c7cd36899ad2c60b = L.marker(\n",
       "                [28.6139, 77.209],\n",
       "                {}\n",
       "            ).addTo(map_5b9aac4d4711515987e46d350eb6e685);\n",
       "        \n",
       "    \n",
       "            var icon_8f0d42f8489ee209069937d55831cc3d = L.AwesomeMarkers.icon(\n",
       "                {&quot;extraClasses&quot;: &quot;fa-rotate-0&quot;, &quot;icon&quot;: &quot;info-sign&quot;, &quot;iconColor&quot;: &quot;white&quot;, &quot;markerColor&quot;: &quot;blue&quot;, &quot;prefix&quot;: &quot;glyphicon&quot;}\n",
       "            );\n",
       "            marker_2b393ac4f5797466c7cd36899ad2c60b.setIcon(icon_8f0d42f8489ee209069937d55831cc3d);\n",
       "        \n",
       "    \n",
       "        var popup_12b9325ba3b47afd4296db8482a332ed = L.popup({&quot;maxWidth&quot;: &quot;100%&quot;});\n",
       "\n",
       "        \n",
       "            \n",
       "                var html_5c9deddc4d614f283fb808389e9c63a2 = $(`&lt;div id=&quot;html_5c9deddc4d614f283fb808389e9c63a2&quot; style=&quot;width: 100.0%; height: 100.0%;&quot;&gt;Delhi: 84.20809070300479&lt;/div&gt;`)[0];\n",
       "                popup_12b9325ba3b47afd4296db8482a332ed.setContent(html_5c9deddc4d614f283fb808389e9c63a2);\n",
       "            \n",
       "        \n",
       "\n",
       "        marker_2b393ac4f5797466c7cd36899ad2c60b.bindPopup(popup_12b9325ba3b47afd4296db8482a332ed)\n",
       "        ;\n",
       "\n",
       "        \n",
       "    \n",
       "    \n",
       "            var marker_24face670a610d7ca24cdb532058011c = L.marker(\n",
       "                [19.076, 72.8777],\n",
       "                {}\n",
       "            ).addTo(map_5b9aac4d4711515987e46d350eb6e685);\n",
       "        \n",
       "    \n",
       "            var icon_14dcafa9158de52cd6a685c72c9e4418 = L.AwesomeMarkers.icon(\n",
       "                {&quot;extraClasses&quot;: &quot;fa-rotate-0&quot;, &quot;icon&quot;: &quot;info-sign&quot;, &quot;iconColor&quot;: &quot;white&quot;, &quot;markerColor&quot;: &quot;blue&quot;, &quot;prefix&quot;: &quot;glyphicon&quot;}\n",
       "            );\n",
       "            marker_24face670a610d7ca24cdb532058011c.setIcon(icon_14dcafa9158de52cd6a685c72c9e4418);\n",
       "        \n",
       "    \n",
       "        var popup_16650fb06500ed8c5775c16da85a5637 = L.popup({&quot;maxWidth&quot;: &quot;100%&quot;});\n",
       "\n",
       "        \n",
       "            \n",
       "                var html_b538c2ff1baca6d03e1d9eeabc95e600 = $(`&lt;div id=&quot;html_b538c2ff1baca6d03e1d9eeabc95e600&quot; style=&quot;width: 100.0%; height: 100.0%;&quot;&gt;Mumbai: 693.8408620646933&lt;/div&gt;`)[0];\n",
       "                popup_16650fb06500ed8c5775c16da85a5637.setContent(html_b538c2ff1baca6d03e1d9eeabc95e600);\n",
       "            \n",
       "        \n",
       "\n",
       "        marker_24face670a610d7ca24cdb532058011c.bindPopup(popup_16650fb06500ed8c5775c16da85a5637)\n",
       "        ;\n",
       "\n",
       "        \n",
       "    \n",
       "    \n",
       "            var marker_0373ed6d24ea13e929dd37311166eba5 = L.marker(\n",
       "                [12.9716, 77.5946],\n",
       "                {}\n",
       "            ).addTo(map_5b9aac4d4711515987e46d350eb6e685);\n",
       "        \n",
       "    \n",
       "            var icon_eaa7c9e6b50a6a3e36e5b98e77fe706d = L.AwesomeMarkers.icon(\n",
       "                {&quot;extraClasses&quot;: &quot;fa-rotate-0&quot;, &quot;icon&quot;: &quot;info-sign&quot;, &quot;iconColor&quot;: &quot;white&quot;, &quot;markerColor&quot;: &quot;blue&quot;, &quot;prefix&quot;: &quot;glyphicon&quot;}\n",
       "            );\n",
       "            marker_0373ed6d24ea13e929dd37311166eba5.setIcon(icon_eaa7c9e6b50a6a3e36e5b98e77fe706d);\n",
       "        \n",
       "    \n",
       "        var popup_3b61fe420b924104b0dba6f3a5a2c8a8 = L.popup({&quot;maxWidth&quot;: &quot;100%&quot;});\n",
       "\n",
       "        \n",
       "            \n",
       "                var html_7360062a06e152d6a84e2519c073b1c5 = $(`&lt;div id=&quot;html_7360062a06e152d6a84e2519c073b1c5&quot; style=&quot;width: 100.0%; height: 100.0%;&quot;&gt;Bangalore: 84.20809070300479&lt;/div&gt;`)[0];\n",
       "                popup_3b61fe420b924104b0dba6f3a5a2c8a8.setContent(html_7360062a06e152d6a84e2519c073b1c5);\n",
       "            \n",
       "        \n",
       "\n",
       "        marker_0373ed6d24ea13e929dd37311166eba5.bindPopup(popup_3b61fe420b924104b0dba6f3a5a2c8a8)\n",
       "        ;\n",
       "\n",
       "        \n",
       "    \n",
       "    \n",
       "            var marker_32408dfed47bc7eba592aa35c45e6f5c = L.marker(\n",
       "                [22.5726, 88.3639],\n",
       "                {}\n",
       "            ).addTo(map_5b9aac4d4711515987e46d350eb6e685);\n",
       "        \n",
       "    \n",
       "            var icon_9dc657770eeaba7d2e390ae3fce62677 = L.AwesomeMarkers.icon(\n",
       "                {&quot;extraClasses&quot;: &quot;fa-rotate-0&quot;, &quot;icon&quot;: &quot;info-sign&quot;, &quot;iconColor&quot;: &quot;white&quot;, &quot;markerColor&quot;: &quot;blue&quot;, &quot;prefix&quot;: &quot;glyphicon&quot;}\n",
       "            );\n",
       "            marker_32408dfed47bc7eba592aa35c45e6f5c.setIcon(icon_9dc657770eeaba7d2e390ae3fce62677);\n",
       "        \n",
       "    \n",
       "        var popup_7f46c2a1e5292323a41a17dabd574acc = L.popup({&quot;maxWidth&quot;: &quot;100%&quot;});\n",
       "\n",
       "        \n",
       "            \n",
       "                var html_6b147cc1034de99a85e5f36cf77f9484 = $(`&lt;div id=&quot;html_6b147cc1034de99a85e5f36cf77f9484&quot; style=&quot;width: 100.0%; height: 100.0%;&quot;&gt;Kolkata: 693.8408620646933&lt;/div&gt;`)[0];\n",
       "                popup_7f46c2a1e5292323a41a17dabd574acc.setContent(html_6b147cc1034de99a85e5f36cf77f9484);\n",
       "            \n",
       "        \n",
       "\n",
       "        marker_32408dfed47bc7eba592aa35c45e6f5c.bindPopup(popup_7f46c2a1e5292323a41a17dabd574acc)\n",
       "        ;\n",
       "\n",
       "        \n",
       "    \n",
       "    \n",
       "            var marker_61edd9dd0bd6cb8c96e817f1c9672c76 = L.marker(\n",
       "                [13.0827, 80.2707],\n",
       "                {}\n",
       "            ).addTo(map_5b9aac4d4711515987e46d350eb6e685);\n",
       "        \n",
       "    \n",
       "            var icon_6e7b308cadeec80426d8fddd9306faa4 = L.AwesomeMarkers.icon(\n",
       "                {&quot;extraClasses&quot;: &quot;fa-rotate-0&quot;, &quot;icon&quot;: &quot;info-sign&quot;, &quot;iconColor&quot;: &quot;white&quot;, &quot;markerColor&quot;: &quot;blue&quot;, &quot;prefix&quot;: &quot;glyphicon&quot;}\n",
       "            );\n",
       "            marker_61edd9dd0bd6cb8c96e817f1c9672c76.setIcon(icon_6e7b308cadeec80426d8fddd9306faa4);\n",
       "        \n",
       "    \n",
       "        var popup_a8733ecebfbd31a2bf99c1437971fd15 = L.popup({&quot;maxWidth&quot;: &quot;100%&quot;});\n",
       "\n",
       "        \n",
       "            \n",
       "                var html_318d0f3846e938713016b497cde665bb = $(`&lt;div id=&quot;html_318d0f3846e938713016b497cde665bb&quot; style=&quot;width: 100.0%; height: 100.0%;&quot;&gt;Chennai: 84.20809070300479&lt;/div&gt;`)[0];\n",
       "                popup_a8733ecebfbd31a2bf99c1437971fd15.setContent(html_318d0f3846e938713016b497cde665bb);\n",
       "            \n",
       "        \n",
       "\n",
       "        marker_61edd9dd0bd6cb8c96e817f1c9672c76.bindPopup(popup_a8733ecebfbd31a2bf99c1437971fd15)\n",
       "        ;\n",
       "\n",
       "        \n",
       "    \n",
       "    \n",
       "            var marker_df11261263cadc9decec88bc10774e2d = L.marker(\n",
       "                [17.385, 78.4867],\n",
       "                {}\n",
       "            ).addTo(map_5b9aac4d4711515987e46d350eb6e685);\n",
       "        \n",
       "    \n",
       "            var icon_469de2813590110beef28e947d75c1be = L.AwesomeMarkers.icon(\n",
       "                {&quot;extraClasses&quot;: &quot;fa-rotate-0&quot;, &quot;icon&quot;: &quot;info-sign&quot;, &quot;iconColor&quot;: &quot;white&quot;, &quot;markerColor&quot;: &quot;blue&quot;, &quot;prefix&quot;: &quot;glyphicon&quot;}\n",
       "            );\n",
       "            marker_df11261263cadc9decec88bc10774e2d.setIcon(icon_469de2813590110beef28e947d75c1be);\n",
       "        \n",
       "    \n",
       "        var popup_62fe36c6aec3155b7b0644d34da26b71 = L.popup({&quot;maxWidth&quot;: &quot;100%&quot;});\n",
       "\n",
       "        \n",
       "            \n",
       "                var html_8c90464c9a0b9f6a17cd04b1438666bd = $(`&lt;div id=&quot;html_8c90464c9a0b9f6a17cd04b1438666bd&quot; style=&quot;width: 100.0%; height: 100.0%;&quot;&gt;Hyderabad: 84.20809070300479&lt;/div&gt;`)[0];\n",
       "                popup_62fe36c6aec3155b7b0644d34da26b71.setContent(html_8c90464c9a0b9f6a17cd04b1438666bd);\n",
       "            \n",
       "        \n",
       "\n",
       "        marker_df11261263cadc9decec88bc10774e2d.bindPopup(popup_62fe36c6aec3155b7b0644d34da26b71)\n",
       "        ;\n",
       "\n",
       "        \n",
       "    \n",
       "    \n",
       "            var poly_line_4e113645c4330bea77c4d8afb68d64b4 = L.polyline(\n",
       "                [[28.6139, 77.209], [19.076, 72.8777]],\n",
       "                {&quot;bubblingMouseEvents&quot;: true, &quot;color&quot;: &quot;green&quot;, &quot;dashArray&quot;: null, &quot;dashOffset&quot;: null, &quot;fill&quot;: false, &quot;fillColor&quot;: &quot;green&quot;, &quot;fillOpacity&quot;: 0.2, &quot;fillRule&quot;: &quot;evenodd&quot;, &quot;lineCap&quot;: &quot;round&quot;, &quot;lineJoin&quot;: &quot;round&quot;, &quot;noClip&quot;: false, &quot;opacity&quot;: 1, &quot;smoothFactor&quot;: 1.0, &quot;stroke&quot;: true, &quot;weight&quot;: 2.5}\n",
       "            ).addTo(map_5b9aac4d4711515987e46d350eb6e685);\n",
       "        \n",
       "    \n",
       "            var poly_line_7014774ee002390cc6fb831e5f3386ce = L.polyline(\n",
       "                [[28.6139, 77.209], [12.9716, 77.5946]],\n",
       "                {&quot;bubblingMouseEvents&quot;: true, &quot;color&quot;: &quot;green&quot;, &quot;dashArray&quot;: null, &quot;dashOffset&quot;: null, &quot;fill&quot;: false, &quot;fillColor&quot;: &quot;green&quot;, &quot;fillOpacity&quot;: 0.2, &quot;fillRule&quot;: &quot;evenodd&quot;, &quot;lineCap&quot;: &quot;round&quot;, &quot;lineJoin&quot;: &quot;round&quot;, &quot;noClip&quot;: false, &quot;opacity&quot;: 1, &quot;smoothFactor&quot;: 1.0, &quot;stroke&quot;: true, &quot;weight&quot;: 2.5}\n",
       "            ).addTo(map_5b9aac4d4711515987e46d350eb6e685);\n",
       "        \n",
       "    \n",
       "            var poly_line_bde0fc0fe58b9def90a6d3796791dccf = L.polyline(\n",
       "                [[28.6139, 77.209], [22.5726, 88.3639]],\n",
       "                {&quot;bubblingMouseEvents&quot;: true, &quot;color&quot;: &quot;green&quot;, &quot;dashArray&quot;: null, &quot;dashOffset&quot;: null, &quot;fill&quot;: false, &quot;fillColor&quot;: &quot;green&quot;, &quot;fillOpacity&quot;: 0.2, &quot;fillRule&quot;: &quot;evenodd&quot;, &quot;lineCap&quot;: &quot;round&quot;, &quot;lineJoin&quot;: &quot;round&quot;, &quot;noClip&quot;: false, &quot;opacity&quot;: 1, &quot;smoothFactor&quot;: 1.0, &quot;stroke&quot;: true, &quot;weight&quot;: 2.5}\n",
       "            ).addTo(map_5b9aac4d4711515987e46d350eb6e685);\n",
       "        \n",
       "    \n",
       "            var poly_line_d88a6451ca7435e84aad449bf644fcdb = L.polyline(\n",
       "                [[28.6139, 77.209], [13.0827, 80.2707]],\n",
       "                {&quot;bubblingMouseEvents&quot;: true, &quot;color&quot;: &quot;green&quot;, &quot;dashArray&quot;: null, &quot;dashOffset&quot;: null, &quot;fill&quot;: false, &quot;fillColor&quot;: &quot;green&quot;, &quot;fillOpacity&quot;: 0.2, &quot;fillRule&quot;: &quot;evenodd&quot;, &quot;lineCap&quot;: &quot;round&quot;, &quot;lineJoin&quot;: &quot;round&quot;, &quot;noClip&quot;: false, &quot;opacity&quot;: 1, &quot;smoothFactor&quot;: 1.0, &quot;stroke&quot;: true, &quot;weight&quot;: 2.5}\n",
       "            ).addTo(map_5b9aac4d4711515987e46d350eb6e685);\n",
       "        \n",
       "    \n",
       "            var poly_line_9d986102d04316fe999c441087dccea0 = L.polyline(\n",
       "                [[28.6139, 77.209], [17.385, 78.4867]],\n",
       "                {&quot;bubblingMouseEvents&quot;: true, &quot;color&quot;: &quot;green&quot;, &quot;dashArray&quot;: null, &quot;dashOffset&quot;: null, &quot;fill&quot;: false, &quot;fillColor&quot;: &quot;green&quot;, &quot;fillOpacity&quot;: 0.2, &quot;fillRule&quot;: &quot;evenodd&quot;, &quot;lineCap&quot;: &quot;round&quot;, &quot;lineJoin&quot;: &quot;round&quot;, &quot;noClip&quot;: false, &quot;opacity&quot;: 1, &quot;smoothFactor&quot;: 1.0, &quot;stroke&quot;: true, &quot;weight&quot;: 2.5}\n",
       "            ).addTo(map_5b9aac4d4711515987e46d350eb6e685);\n",
       "        \n",
       "    \n",
       "            var poly_line_f543f1f1972424f411f7e98b07698982 = L.polyline(\n",
       "                [[19.076, 72.8777], [12.9716, 77.5946]],\n",
       "                {&quot;bubblingMouseEvents&quot;: true, &quot;color&quot;: &quot;red&quot;, &quot;dashArray&quot;: null, &quot;dashOffset&quot;: null, &quot;fill&quot;: false, &quot;fillColor&quot;: &quot;red&quot;, &quot;fillOpacity&quot;: 0.2, &quot;fillRule&quot;: &quot;evenodd&quot;, &quot;lineCap&quot;: &quot;round&quot;, &quot;lineJoin&quot;: &quot;round&quot;, &quot;noClip&quot;: false, &quot;opacity&quot;: 1, &quot;smoothFactor&quot;: 1.0, &quot;stroke&quot;: true, &quot;weight&quot;: 2.5}\n",
       "            ).addTo(map_5b9aac4d4711515987e46d350eb6e685);\n",
       "        \n",
       "    \n",
       "            var poly_line_05dd41cba5c477652a69bf6af0f26f24 = L.polyline(\n",
       "                [[19.076, 72.8777], [22.5726, 88.3639]],\n",
       "                {&quot;bubblingMouseEvents&quot;: true, &quot;color&quot;: &quot;green&quot;, &quot;dashArray&quot;: null, &quot;dashOffset&quot;: null, &quot;fill&quot;: false, &quot;fillColor&quot;: &quot;green&quot;, &quot;fillOpacity&quot;: 0.2, &quot;fillRule&quot;: &quot;evenodd&quot;, &quot;lineCap&quot;: &quot;round&quot;, &quot;lineJoin&quot;: &quot;round&quot;, &quot;noClip&quot;: false, &quot;opacity&quot;: 1, &quot;smoothFactor&quot;: 1.0, &quot;stroke&quot;: true, &quot;weight&quot;: 2.5}\n",
       "            ).addTo(map_5b9aac4d4711515987e46d350eb6e685);\n",
       "        \n",
       "    \n",
       "            var poly_line_f5b240c51dc3ed5ab8954973eab1d418 = L.polyline(\n",
       "                [[19.076, 72.8777], [13.0827, 80.2707]],\n",
       "                {&quot;bubblingMouseEvents&quot;: true, &quot;color&quot;: &quot;red&quot;, &quot;dashArray&quot;: null, &quot;dashOffset&quot;: null, &quot;fill&quot;: false, &quot;fillColor&quot;: &quot;red&quot;, &quot;fillOpacity&quot;: 0.2, &quot;fillRule&quot;: &quot;evenodd&quot;, &quot;lineCap&quot;: &quot;round&quot;, &quot;lineJoin&quot;: &quot;round&quot;, &quot;noClip&quot;: false, &quot;opacity&quot;: 1, &quot;smoothFactor&quot;: 1.0, &quot;stroke&quot;: true, &quot;weight&quot;: 2.5}\n",
       "            ).addTo(map_5b9aac4d4711515987e46d350eb6e685);\n",
       "        \n",
       "    \n",
       "            var poly_line_2975dc25beb5b96b75be33eea2b8922c = L.polyline(\n",
       "                [[19.076, 72.8777], [17.385, 78.4867]],\n",
       "                {&quot;bubblingMouseEvents&quot;: true, &quot;color&quot;: &quot;red&quot;, &quot;dashArray&quot;: null, &quot;dashOffset&quot;: null, &quot;fill&quot;: false, &quot;fillColor&quot;: &quot;red&quot;, &quot;fillOpacity&quot;: 0.2, &quot;fillRule&quot;: &quot;evenodd&quot;, &quot;lineCap&quot;: &quot;round&quot;, &quot;lineJoin&quot;: &quot;round&quot;, &quot;noClip&quot;: false, &quot;opacity&quot;: 1, &quot;smoothFactor&quot;: 1.0, &quot;stroke&quot;: true, &quot;weight&quot;: 2.5}\n",
       "            ).addTo(map_5b9aac4d4711515987e46d350eb6e685);\n",
       "        \n",
       "    \n",
       "            var poly_line_7a38c34e7c10f649ae8a90bc80409271 = L.polyline(\n",
       "                [[12.9716, 77.5946], [22.5726, 88.3639]],\n",
       "                {&quot;bubblingMouseEvents&quot;: true, &quot;color&quot;: &quot;green&quot;, &quot;dashArray&quot;: null, &quot;dashOffset&quot;: null, &quot;fill&quot;: false, &quot;fillColor&quot;: &quot;green&quot;, &quot;fillOpacity&quot;: 0.2, &quot;fillRule&quot;: &quot;evenodd&quot;, &quot;lineCap&quot;: &quot;round&quot;, &quot;lineJoin&quot;: &quot;round&quot;, &quot;noClip&quot;: false, &quot;opacity&quot;: 1, &quot;smoothFactor&quot;: 1.0, &quot;stroke&quot;: true, &quot;weight&quot;: 2.5}\n",
       "            ).addTo(map_5b9aac4d4711515987e46d350eb6e685);\n",
       "        \n",
       "    \n",
       "            var poly_line_f0fd8d032ff904d4de5bf29d75c32b8d = L.polyline(\n",
       "                [[12.9716, 77.5946], [13.0827, 80.2707]],\n",
       "                {&quot;bubblingMouseEvents&quot;: true, &quot;color&quot;: &quot;green&quot;, &quot;dashArray&quot;: null, &quot;dashOffset&quot;: null, &quot;fill&quot;: false, &quot;fillColor&quot;: &quot;green&quot;, &quot;fillOpacity&quot;: 0.2, &quot;fillRule&quot;: &quot;evenodd&quot;, &quot;lineCap&quot;: &quot;round&quot;, &quot;lineJoin&quot;: &quot;round&quot;, &quot;noClip&quot;: false, &quot;opacity&quot;: 1, &quot;smoothFactor&quot;: 1.0, &quot;stroke&quot;: true, &quot;weight&quot;: 2.5}\n",
       "            ).addTo(map_5b9aac4d4711515987e46d350eb6e685);\n",
       "        \n",
       "    \n",
       "            var poly_line_7432abc25532fc1a4bf52df1aa4dcf4d = L.polyline(\n",
       "                [[12.9716, 77.5946], [17.385, 78.4867]],\n",
       "                {&quot;bubblingMouseEvents&quot;: true, &quot;color&quot;: &quot;green&quot;, &quot;dashArray&quot;: null, &quot;dashOffset&quot;: null, &quot;fill&quot;: false, &quot;fillColor&quot;: &quot;green&quot;, &quot;fillOpacity&quot;: 0.2, &quot;fillRule&quot;: &quot;evenodd&quot;, &quot;lineCap&quot;: &quot;round&quot;, &quot;lineJoin&quot;: &quot;round&quot;, &quot;noClip&quot;: false, &quot;opacity&quot;: 1, &quot;smoothFactor&quot;: 1.0, &quot;stroke&quot;: true, &quot;weight&quot;: 2.5}\n",
       "            ).addTo(map_5b9aac4d4711515987e46d350eb6e685);\n",
       "        \n",
       "    \n",
       "            var poly_line_b8f5c77c7f38c707b19fea8c9bc9c465 = L.polyline(\n",
       "                [[22.5726, 88.3639], [13.0827, 80.2707]],\n",
       "                {&quot;bubblingMouseEvents&quot;: true, &quot;color&quot;: &quot;red&quot;, &quot;dashArray&quot;: null, &quot;dashOffset&quot;: null, &quot;fill&quot;: false, &quot;fillColor&quot;: &quot;red&quot;, &quot;fillOpacity&quot;: 0.2, &quot;fillRule&quot;: &quot;evenodd&quot;, &quot;lineCap&quot;: &quot;round&quot;, &quot;lineJoin&quot;: &quot;round&quot;, &quot;noClip&quot;: false, &quot;opacity&quot;: 1, &quot;smoothFactor&quot;: 1.0, &quot;stroke&quot;: true, &quot;weight&quot;: 2.5}\n",
       "            ).addTo(map_5b9aac4d4711515987e46d350eb6e685);\n",
       "        \n",
       "    \n",
       "            var poly_line_9c5db04f7840183e3498580fdeebba61 = L.polyline(\n",
       "                [[22.5726, 88.3639], [17.385, 78.4867]],\n",
       "                {&quot;bubblingMouseEvents&quot;: true, &quot;color&quot;: &quot;red&quot;, &quot;dashArray&quot;: null, &quot;dashOffset&quot;: null, &quot;fill&quot;: false, &quot;fillColor&quot;: &quot;red&quot;, &quot;fillOpacity&quot;: 0.2, &quot;fillRule&quot;: &quot;evenodd&quot;, &quot;lineCap&quot;: &quot;round&quot;, &quot;lineJoin&quot;: &quot;round&quot;, &quot;noClip&quot;: false, &quot;opacity&quot;: 1, &quot;smoothFactor&quot;: 1.0, &quot;stroke&quot;: true, &quot;weight&quot;: 2.5}\n",
       "            ).addTo(map_5b9aac4d4711515987e46d350eb6e685);\n",
       "        \n",
       "    \n",
       "            var poly_line_d3e4881fd61066d9cfe82ef17ed70dee = L.polyline(\n",
       "                [[13.0827, 80.2707], [17.385, 78.4867]],\n",
       "                {&quot;bubblingMouseEvents&quot;: true, &quot;color&quot;: &quot;green&quot;, &quot;dashArray&quot;: null, &quot;dashOffset&quot;: null, &quot;fill&quot;: false, &quot;fillColor&quot;: &quot;green&quot;, &quot;fillOpacity&quot;: 0.2, &quot;fillRule&quot;: &quot;evenodd&quot;, &quot;lineCap&quot;: &quot;round&quot;, &quot;lineJoin&quot;: &quot;round&quot;, &quot;noClip&quot;: false, &quot;opacity&quot;: 1, &quot;smoothFactor&quot;: 1.0, &quot;stroke&quot;: true, &quot;weight&quot;: 2.5}\n",
       "            ).addTo(map_5b9aac4d4711515987e46d350eb6e685);\n",
       "        \n",
       "&lt;/script&gt;\n",
       "&lt;/html&gt;\" style=\"position:absolute;width:100%;height:100%;left:0;top:0;border:none !important;\" allowfullscreen webkitallowfullscreen mozallowfullscreen></iframe></div></div>"
      ],
      "text/plain": [
       "<folium.folium.Map at 0x174159ad0>"
      ]
     },
     "execution_count": 48,
     "metadata": {},
     "output_type": "execute_result"
    }
   ],
   "source": [
    "m"
   ]
  },
  {
   "cell_type": "code",
   "execution_count": null,
   "metadata": {},
   "outputs": [],
   "source": [
    "residuals = y_test - y_pred"
   ]
  },
  {
   "cell_type": "code",
   "execution_count": 53,
   "metadata": {
    "tags": []
   },
   "outputs": [
    {
     "data": {
      "image/png": "[encoded data removed]",
      "text/plain": [
       "<Figure size 640x480 with 1 Axes>"
      ]
     },
     "metadata": {},
     "output_type": "display_data"
    }
   ],
   "source": [
    "plt.scatter(y_pred, residuals)\n",
    "plt.axhline(y=0, color='black', linestyle='--', label='Zero Residuals')\n",
    "plt.legend()\n",
    "plt.title('Scatter Plot of Residuals')\n",
    "plt.xlabel('Predicted Values')\n",
    "plt.ylabel('Residuals')\n",
    "plt.savefig('../images/scatter_plot_residuals.png', bbox_inches='tight')\n",
    "plt.show()\n"
   ]
  },
  {
   "cell_type": "code",
   "execution_count": 54,
   "metadata": {
    "tags": []
   },
   "outputs": [
    {
     "data": {
      "image/png": "[encoded data removed]",
      "text/plain": [
       "<Figure size 640x480 with 1 Axes>"
      ]
     },
     "metadata": {},
     "output_type": "display_data"
    }
   ],
   "source": [
    "plt.hist(residuals, bins=20, edgecolor='black')\n",
    "plt.title('Histogram of Residuals')\n",
    "plt.xlabel('Residuals')\n",
    "plt.ylabel('Frequency')\n",
    "plt.savefig('../images/scatter_plot_histogram.png', bbox_inches='tight')\n",
    "plt.show()\n"
   ]
  },
  {
   "cell_type": "markdown",
   "metadata": {},
   "source": [
    "**Interpretation:**\n",
    "\n",
    "The distribution is centered around zero, suggesting that, on average, the model tends to make predictions that are close to the actual values. Moreover, the histogram shows a symmetric pattern, implying that the model is unbiased and makes errors both above and below the actual values equally. There are few outliers in the model as seen in the scatterplot. In summay, since the residuals is centered around zero, and having a narrow spread indicates a well-performing model. "
   ]
  },
  {
   "cell_type": "markdown",
   "metadata": {},
   "source": [
    "---\n",
    "\n",
    "### 2.5 Summary and Future Enhancement"
   ]
  },
  {
   "cell_type": "markdown",
   "metadata": {},
   "source": [
    "**Executive Summary:**\n",
    "\n",
    "Our analysis focused on predicting optimal timeframes for lower-priced flights using various machine learning models, with the Random Forest model emerging as the most effective.\n",
    "\n",
    "1. Model Performance:\n",
    "\n",
    "- Random Forest:\n",
    "    - Training Score: 0.9793\n",
    "    - Testing Score: 0.9754\n",
    "    - RMSE Score: 42.75\n",
    "- Cross-Validation Mean Score: 0.9759\n",
    "- Gradient Boost (XGB)\n",
    "    - Best Parameters: {'colsample_bytree': 1.0, 'learning_rate': 0.1, 'max_depth': 5, 'min_child_weight': 3, 'n_estimators': 100, 'subsample': 0.8}\n",
    "    - Training Score: 0.9593\n",
    "    - Testing Score: 0.9580\n",
    "    - RMSE Score: 55.81656739708218\n",
    "- Decision Tree:\n",
    "    - Best Parameters: {'max_depth': 7, 'min_samples_leaf': 5, 'min_samples_split': 2}\n",
    "    - Training Score: 0.9450\n",
    "    - Testing Score: 0.9439\n",
    "    - RMSE Score: 64.53\n",
    "- Linear Regression:\n",
    "    - Training Score: 0.9428\n",
    "    - Testing Score: 0.9420\n",
    "    - RMSE Score: 65.64\n",
    "\n",
    "2. Key Insights:\n",
    "\n",
    "- Crucial Feature: Duration (Importance Score: 0.9287)\n",
    "- Airlines and Pricing:\n",
    "    - Vistara: Highest average ticket price\n",
    "    - AirAsia: Lowest average ticket price\n",
    "    - Indigo, Spicejet, GO_FIRST: Competitive pricing\n",
    "- Time-of-Day Influence:\n",
    "    - Late-night flights are the cheapest, while early-night flights are the most expensive.\n",
    "    - Evening flights have the highest average price.\n",
    "- Regional Price Variations:\n",
    "    - Delhi: Average price ~227.42\n",
    "    - Mumbai: Average price ~257.81\n",
    "    - Bangalore: Average price ~257.63\n",
    "    - Kolkata: Average price ~260.96\n",
    "    - Hyderabad: Average price ~241.87\n",
    "    - Chennai: Average price ~263.94\n",
    "- Correlation Analysis:\n",
    "    - Strong correlations: Class and duration range\n",
    "    - Weaker correlations: Number of stops and specific destinations\n",
    "    \n",
    "3. Future Recommendations:\n",
    "\n",
    "- Enhanced Modeling: Explore advanced models like time series models, such as Recurrent Neural Networks (RNN), for better capturing temporal patterns in flight prices. Using such a model can better capture variations in prices over time, when considering factors like seasonality and trends. As a result, provide a more holistic understanding of the factors influencing flight prices.\n",
    "- Data Generalization: Conduct further analysis to assess the generalizability of insights to other airports or travel scenarios, possibly through transfer learning techniques.\n",
    "- Dynamic Pricing Strategy: Collaborate with airlines to understand and incorporate dynamic pricing strategies based on factors influencing flight prices.\n",
    "\n",
    "This comprehensive analysis provides valuable insights for optimizing travel bookings, catering to both cost-sensitive and premium travelers. Future enhancements can leverage advanced models and additional features for even more accurate prediction\n"
   ]
  }
 ],
 "metadata": {
  "kernelspec": {
   "display_name": "Python 3 (ipykernel)",
   "language": "python",
   "name": "python3"
  },
  "language_info": {
   "codemirror_mode": {
    "name": "ipython",
    "version": 3
   },
   "file_extension": ".py",
   "mimetype": "text/x-python",
   "name": "python",
   "nbconvert_exporter": "python",
   "pygments_lexer": "ipython3",
   "version": "3.11.5"
  }
 },
 "nbformat": 4,
 "nbformat_minor": 4
}
